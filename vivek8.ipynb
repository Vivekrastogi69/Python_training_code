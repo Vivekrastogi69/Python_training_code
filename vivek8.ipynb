{
 "cells": [
  {
   "cell_type": "markdown",
   "id": "e5b334d2-3626-4e25-be96-64376c55a905",
   "metadata": {},
   "source": [
    "# Day 8th"
   ]
  },
  {
   "cell_type": "markdown",
   "id": "d232efd7-4ebe-4c46-96bb-107d9df46de9",
   "metadata": {},
   "source": [
    "# List in python"
   ]
  },
  {
   "cell_type": "markdown",
   "id": "e4d38acc-2adc-4382-aed7-2d2b9f401386",
   "metadata": {},
   "source": [
    "creating a list"
   ]
  },
  {
   "cell_type": "code",
   "execution_count": 5,
   "id": "9c06f9fc-93ed-4fee-8055-b861f3405c66",
   "metadata": {},
   "outputs": [
    {
     "name": "stdout",
     "output_type": "stream",
     "text": [
      "['apple', 'banana', 'papaya']\n",
      "<class 'list'>\n"
     ]
    }
   ],
   "source": [
    "mylist = [\"apple\" , \"banana\" , \"papaya\"]\n",
    "print(mylist)\n",
    "print(type(mylist))"
   ]
  },
  {
   "cell_type": "markdown",
   "id": "80d579dd-31e2-44a6-b713-49a8af5cff09",
   "metadata": {},
   "source": [
    "# Allow Duplicates"
   ]
  },
  {
   "cell_type": "code",
   "execution_count": 10,
   "id": "0fb24b48-1c3a-416a-b288-20aa6ee75cc7",
   "metadata": {},
   "outputs": [
    {
     "name": "stdout",
     "output_type": "stream",
     "text": [
      "['banana', 'papaya', 'banana', ' mango', 'apple']\n",
      "<class 'list'>\n"
     ]
    }
   ],
   "source": [
    "# duplicate bhi allow rhata hai\n",
    "mylist = [\"banana\" , \"papaya\" , \"banana\" , \" mango\" , \"apple\"]\n",
    "print(mylist)\n",
    "print(type(mylist))"
   ]
  },
  {
   "cell_type": "markdown",
   "id": "a43d3175-e574-4af9-b32f-ca16647f6c50",
   "metadata": {},
   "source": [
    "# List item - Data types"
   ]
  },
  {
   "cell_type": "code",
   "execution_count": 15,
   "id": "bfc983ec-abd9-462f-b151-75d36cd603fe",
   "metadata": {},
   "outputs": [
    {
     "name": "stdout",
     "output_type": "stream",
     "text": [
      "['apple', 'banana', 'papaya']\n",
      "<class 'list'>\n",
      "[1, 2, 3, 4, 5, 67, 7]\n",
      "<class 'list'>\n",
      "[23.4, 5.6, 78.8, 789.0]\n",
      "<class 'list'>\n",
      "[True, False, True]\n",
      "<class 'list'>\n"
     ]
    }
   ],
   "source": [
    "list1 = [\"apple\" , \"banana\" , \"papaya\"]\n",
    "list2 = [1 , 2 , 3 , 4 , 5 , 67 , 7]\n",
    "list3 = [23.4 , 5.6 , 78.8 , 789.0]\n",
    "list4 =[True,False,True]\n",
    "print(list1)\n",
    "print(type(list1))\n",
    "print(list2)\n",
    "print(type(list2))\n",
    "print(list3)\n",
    "print(type(list3))\n",
    "print(list4)\n",
    "print(type(list4))\n"
   ]
  },
  {
   "cell_type": "markdown",
   "id": "db39ae92-36b9-4e3f-84eb-36fae07b5305",
   "metadata": {},
   "source": [
    "sabhi type of data type ak hi list mai"
   ]
  },
  {
   "cell_type": "code",
   "execution_count": 19,
   "id": "29669b24-e43f-476a-920d-48a8b4fca63c",
   "metadata": {},
   "outputs": [
    {
     "name": "stdout",
     "output_type": "stream",
     "text": [
      "['apple', 67.7, 678, True, 'vivek', 99.0]\n"
     ]
    }
   ],
   "source": [
    "my_list = [\"apple\" , 67.7 , 678 , True , \"vivek\" , 99.0]\n",
    "print(my_list)"
   ]
  },
  {
   "cell_type": "markdown",
   "id": "f7281733-f32c-4589-9513-a9d85563ddf6",
   "metadata": {},
   "source": [
    "# List Length"
   ]
  },
  {
   "cell_type": "code",
   "execution_count": 22,
   "id": "bd438541-e188-44ee-aef7-0431e1896a01",
   "metadata": {},
   "outputs": [
    {
     "name": "stdout",
     "output_type": "stream",
     "text": [
      "6\n"
     ]
    }
   ],
   "source": [
    "my_list = [\"apple\" , 67.7 , 678 , True , \"vivek\" , 99.0]\n",
    "print(len(my_list))"
   ]
  },
  {
   "cell_type": "code",
   "execution_count": 24,
   "id": "55120d7b-a5ca-4efe-82ab-368d57781296",
   "metadata": {},
   "outputs": [
    {
     "name": "stdout",
     "output_type": "stream",
     "text": [
      "9\n"
     ]
    }
   ],
   "source": [
    "b = [23, 45, 67, 89, 65, 45, 34, 66, 6]\n",
    "print(len(b))"
   ]
  },
  {
   "cell_type": "markdown",
   "id": "cbf8f407-e6dc-4b6a-99ec-f42de792ff87",
   "metadata": {},
   "source": [
    "# Access items"
   ]
  },
  {
   "cell_type": "code",
   "execution_count": 27,
   "id": "a64ff6e2-3e5d-4d20-a82c-e8e0b95a5ddf",
   "metadata": {},
   "outputs": [
    {
     "name": "stdout",
     "output_type": "stream",
     "text": [
      "vivek\n"
     ]
    }
   ],
   "source": [
    "my_list = [\"apple\" , 876 , 765, 98, \"vivek\" , \"rastogi\" , 98.7 , True]\n",
    "print(my_list[4])"
   ]
  },
  {
   "cell_type": "code",
   "execution_count": 31,
   "id": "d3270926-5a4d-47ef-b1d7-23ae0304edb0",
   "metadata": {},
   "outputs": [
    {
     "name": "stdout",
     "output_type": "stream",
     "text": [
      "98\n"
     ]
    }
   ],
   "source": [
    "my_list = [\"apple\" , 876 , 765, 98, \"vivek\" , \"rastogi\" , 98.7 , True]\n",
    "print(my_list[-5])"
   ]
  },
  {
   "cell_type": "markdown",
   "id": "5adb2901-3e39-49fc-a5b8-6eb816c4d436",
   "metadata": {},
   "source": [
    "# Slicing of list"
   ]
  },
  {
   "cell_type": "code",
   "execution_count": 34,
   "id": "d454810a-baf1-4880-a72e-fbbea2027d86",
   "metadata": {},
   "outputs": [
    {
     "name": "stdout",
     "output_type": "stream",
     "text": [
      "['vivek', 'rastogi', 'is', 'a']\n"
     ]
    }
   ],
   "source": [
    "my_list = [\"vivek\" , \"rastogi\" , \"is\" , \"a\" , \"good\" , \"boy\" ]\n",
    "print(my_list[0:4])"
   ]
  },
  {
   "cell_type": "code",
   "execution_count": 38,
   "id": "15dc818a-ba40-4488-a68c-d54f9d1dab1d",
   "metadata": {},
   "outputs": [
    {
     "name": "stdout",
     "output_type": "stream",
     "text": [
      "[123, 234, 345, 567, 567, 678, 7898, 89, 90, 0, 453, 564, 5674, 231, 6543, 321]\n"
     ]
    }
   ],
   "source": [
    "my_list = [123, 234, 345, 567, 567, 678, 7898, 89, 90, 0, 453, 564, 5674, 231, 6543, 321]\n",
    "print(my_list[0:])"
   ]
  },
  {
   "cell_type": "code",
   "execution_count": 40,
   "id": "cf173709-e0dc-4751-bbed-61876c289843",
   "metadata": {},
   "outputs": [
    {
     "name": "stdout",
     "output_type": "stream",
     "text": [
      "[567, 678, 7898]\n"
     ]
    }
   ],
   "source": [
    "my_list = [123, 234, 345, 567, 567, 678, 7898, 89, 90, 0, 453, 564, 5674, 231, 6543, 321]\n",
    "print(my_list[4:-9])"
   ]
  },
  {
   "cell_type": "code",
   "execution_count": 42,
   "id": "841e7535-2932-49fe-b1c1-6cd47caa902c",
   "metadata": {},
   "outputs": [
    {
     "name": "stdout",
     "output_type": "stream",
     "text": [
      "[678, 7898, 89, 90, 0, 453, 564, 5674, 231, 6543, 321]\n"
     ]
    }
   ],
   "source": [
    "my_list = [123, 234, 345, 567, 567, 678, 7898, 89, 90, 0, 453, 564, 5674, 231, 6543, 321]\n",
    "print(my_list[5:])"
   ]
  },
  {
   "cell_type": "code",
   "execution_count": 52,
   "id": "3c4e9e3e-871b-4827-a3b1-a0bc2c610d85",
   "metadata": {},
   "outputs": [
    {
     "name": "stdout",
     "output_type": "stream",
     "text": [
      "[123, 234, 345, 567, 567]\n"
     ]
    }
   ],
   "source": [
    "my_list = [123, 234, 345, 567, 567, 678, 7898, 89, 90, 0, 453, 564, 5674, 231, 6543, 321]\n",
    "print(my_list[0:5])"
   ]
  },
  {
   "cell_type": "markdown",
   "id": "88caf46c-b1bb-41d5-9a42-11ce7c2bdb5b",
   "metadata": {},
   "source": [
    "# JUMP KARNA KA LIYA"
   ]
  },
  {
   "cell_type": "code",
   "execution_count": 54,
   "id": "fe3cf064-c101-4176-bf3c-0d83f49061d6",
   "metadata": {},
   "outputs": [
    {
     "name": "stdout",
     "output_type": "stream",
     "text": [
      "[123, 567, 7898, 0]\n"
     ]
    }
   ],
   "source": [
    "my_list = [123, 234, 345, 567, 567, 678, 7898, 89, 90, 0, 453, 564, 5674, 231, 6543, 321]\n",
    "print(my_list[0:11:3])"
   ]
  },
  {
   "cell_type": "code",
   "execution_count": 60,
   "id": "9cfde616-4d2c-40bd-9bef-317683d9d0a8",
   "metadata": {},
   "outputs": [
    {
     "name": "stdout",
     "output_type": "stream",
     "text": [
      "[123, 345, 567, 7898, 90, 453, 5674, 6543]\n"
     ]
    }
   ],
   "source": [
    "my_list = [123, 234, 345, 567, 567, 678, 7898, 89, 90, 0, 453, 564, 5674, 231, 6543, 321]\n",
    "print(my_list[0:16:2]) # agar huma ak number ka jump chiya tho 2 dana hoga"
   ]
  },
  {
   "cell_type": "markdown",
   "id": "514b29f4-7945-4bca-aaad-c149970a3b76",
   "metadata": {},
   "source": [
    "# Changing list item"
   ]
  },
  {
   "cell_type": "code",
   "execution_count": 63,
   "id": "d196e437-8eba-417c-b621-527189b060f5",
   "metadata": {},
   "outputs": [
    {
     "name": "stdout",
     "output_type": "stream",
     "text": [
      "['vivek', 'is', 'a', 'good', 'intelligent']\n"
     ]
    }
   ],
   "source": [
    "my_list = [\"vivek\" , \"is\" , \"a\" ,\"good\" , \"boy\"]\n",
    "my_list[4] = \"intelligent\"\n",
    "print(my_list)"
   ]
  },
  {
   "cell_type": "code",
   "execution_count": 65,
   "id": "0d0350e6-53e2-4f2e-991e-a9c81851a086",
   "metadata": {},
   "outputs": [
    {
     "name": "stdout",
     "output_type": "stream",
     "text": [
      "[123, 234, 345, 567, 567, 'vaibhav', 7898, 89, 90, 0, 453, 564, 5674, 231, 6543, 321]\n"
     ]
    }
   ],
   "source": [
    "my_list = [123, 234, 345, 567, 567, 678, 7898, 89, 90, 0, 453, 564, 5674, 231, 6543, 321]\n",
    "my_list[5] = \"vaibhav\"\n",
    "print(my_list)"
   ]
  },
  {
   "cell_type": "markdown",
   "id": "0e0f5461-7ef6-4a1d-adb3-cd1addb737f9",
   "metadata": {},
   "source": [
    "# Changing a range of value"
   ]
  },
  {
   "cell_type": "code",
   "execution_count": 68,
   "id": "31412928-93a2-4f3e-9526-b5ab427b8162",
   "metadata": {},
   "outputs": [
    {
     "name": "stdout",
     "output_type": "stream",
     "text": [
      "[123, 234, 345, 'vivek', 'rastogi', 'viney', 89, 90, 0, 453, 564, 5674, 231, 6543, 321]\n"
     ]
    }
   ],
   "source": [
    "my_list = [123, 234, 345, 567, 567, 678, 7898, 89, 90, 0, 453, 564, 5674, 231, 6543, 321]\n",
    "my_list[3:7] = [\"vivek\" , \"rastogi\" , \"viney\"]\n",
    "print(my_list)"
   ]
  },
  {
   "cell_type": "markdown",
   "id": "4512b5a1-b408-4c05-bada-c0bdbd05a40b",
   "metadata": {},
   "source": [
    "# Add list item"
   ]
  },
  {
   "cell_type": "markdown",
   "id": "dad998f6-0f21-4e62-8de1-ad2f91e55c01",
   "metadata": {},
   "source": [
    "# Append item"
   ]
  },
  {
   "cell_type": "code",
   "execution_count": 79,
   "id": "3aa10c9f-84e3-42d4-86c0-edb49a80da85",
   "metadata": {},
   "outputs": [
    {
     "name": "stdout",
     "output_type": "stream",
     "text": [
      "['apple', 'vivek', 'khata', 'hai', 'orange']\n"
     ]
    }
   ],
   "source": [
    "this_list = [\"apple\" , \"vivek\" ,\"khata\" , \"hai\"]\n",
    "this_list.append(\"orange\")\n",
    "print(this_list)"
   ]
  },
  {
   "cell_type": "code",
   "execution_count": 81,
   "id": "cac49ef3-614c-4ef4-bfc1-6d51cf2f2782",
   "metadata": {},
   "outputs": [
    {
     "name": "stdout",
     "output_type": "stream",
     "text": [
      "['apple', 'vivek', 'khata', 'hai', 98.76]\n"
     ]
    }
   ],
   "source": [
    "this_list = [\"apple\" , \"vivek\" ,\"khata\" , \"hai\"]\n",
    "this_list.append(98.76)\n",
    "print(this_list)"
   ]
  },
  {
   "cell_type": "code",
   "execution_count": 83,
   "id": "37b9471d-7eb1-4d7c-b9bd-b780d2733622",
   "metadata": {},
   "outputs": [
    {
     "ename": "TypeError",
     "evalue": "list.append() takes exactly one argument (2 given)",
     "output_type": "error",
     "traceback": [
      "\u001b[1;31m---------------------------------------------------------------------------\u001b[0m",
      "\u001b[1;31mTypeError\u001b[0m                                 Traceback (most recent call last)",
      "Cell \u001b[1;32mIn[83], line 2\u001b[0m\n\u001b[0;32m      1\u001b[0m this_list \u001b[38;5;241m=\u001b[39m [\u001b[38;5;124m\"\u001b[39m\u001b[38;5;124mapple\u001b[39m\u001b[38;5;124m\"\u001b[39m , \u001b[38;5;124m\"\u001b[39m\u001b[38;5;124mvivek\u001b[39m\u001b[38;5;124m\"\u001b[39m ,\u001b[38;5;124m\"\u001b[39m\u001b[38;5;124mkhata\u001b[39m\u001b[38;5;124m\"\u001b[39m , \u001b[38;5;124m\"\u001b[39m\u001b[38;5;124mhai\u001b[39m\u001b[38;5;124m\"\u001b[39m]\n\u001b[1;32m----> 2\u001b[0m this_list\u001b[38;5;241m.\u001b[39mappend(\u001b[38;5;124m\"\u001b[39m\u001b[38;5;124morange\u001b[39m\u001b[38;5;124m\"\u001b[39m , \u001b[38;5;124m\"\u001b[39m\u001b[38;5;124mapple\u001b[39m\u001b[38;5;124m\"\u001b[39m)\n\u001b[0;32m      3\u001b[0m \u001b[38;5;28mprint\u001b[39m(this_list)\n",
      "\u001b[1;31mTypeError\u001b[0m: list.append() takes exactly one argument (2 given)"
     ]
    }
   ],
   "source": [
    "this_list = [\"apple\" , \"vivek\" ,\"khata\" , \"hai\"]\n",
    "this_list.append(\"orange\" , \"apple\")\n",
    "print(this_list) # asa kar ka do ko ak sath add nahi kar sakta hai"
   ]
  },
  {
   "cell_type": "markdown",
   "id": "cbad33c1-d387-4998-8e27-100f27d86248",
   "metadata": {},
   "source": [
    " # Remove function"
   ]
  },
  {
   "cell_type": "code",
   "execution_count": 88,
   "id": "24f67304-6471-4625-97f7-83c475c5ed37",
   "metadata": {},
   "outputs": [
    {
     "name": "stdout",
     "output_type": "stream",
     "text": [
      "['apple', 'khata', 'hai']\n"
     ]
    }
   ],
   "source": [
    "this_list = [\"apple\" , \"vivek\" ,\"khata\" , \"hai\"]\n",
    "this_list.remove(\"vivek\")\n",
    "print(this_list)"
   ]
  },
  {
   "cell_type": "markdown",
   "id": "eaa20503-ba84-4874-9d80-a22369b53dd3",
   "metadata": {},
   "source": [
    "# Join list "
   ]
  },
  {
   "cell_type": "code",
   "execution_count": 91,
   "id": "a5dfe6b4-71a1-429f-a443-a5e42c90b734",
   "metadata": {},
   "outputs": [
    {
     "name": "stdout",
     "output_type": "stream",
     "text": [
      "['apple', 'banana', 'papaya', 1, 2, 3, 4, 5, 67, 7, 23.4, 5.6, 78.8, 789.0, True, False, True]\n"
     ]
    }
   ],
   "source": [
    "list1 = [\"apple\" , \"banana\" , \"papaya\"]\n",
    "list2 = [1 , 2 , 3 , 4 , 5 , 67 , 7]\n",
    "list3 = [23.4 , 5.6 , 78.8 , 789.0]\n",
    "list4 =[True,False,True]\n",
    "list5 = list1 + list2 + list3 + list4 \n",
    "print(list5)"
   ]
  },
  {
   "cell_type": "markdown",
   "id": "88cbfcdd-5e1a-4502-8aa8-ba26a5188c25",
   "metadata": {},
   "source": [
    "# check if a list contain an element"
   ]
  },
  {
   "cell_type": "code",
   "execution_count": 96,
   "id": "3c0c5895-0694-4f95-9721-c0c761208f12",
   "metadata": {},
   "outputs": [
    {
     "data": {
      "text/plain": [
       "True"
      ]
     },
     "execution_count": 96,
     "metadata": {},
     "output_type": "execute_result"
    }
   ],
   "source": [
    "li = [23 , 56 , 678 , 890 , 89.0 , \"apple\" , \"vivek\" , True]\n",
    "'vivek' in li"
   ]
  },
  {
   "cell_type": "code",
   "execution_count": 98,
   "id": "e7e8024d-158c-4d10-b100-17214976903c",
   "metadata": {},
   "outputs": [
    {
     "data": {
      "text/plain": [
       "False"
      ]
     },
     "execution_count": 98,
     "metadata": {},
     "output_type": "execute_result"
    }
   ],
   "source": [
    "li = [23 , 56 , 678 , 890 , 89.0 , \"apple\" , \"vivek\" , True]\n",
    "'rastogi' in li"
   ]
  },
  {
   "cell_type": "markdown",
   "id": "f51d58e2-0db6-4b9f-8179-128715036d52",
   "metadata": {},
   "source": [
    "# reverse a list"
   ]
  },
  {
   "cell_type": "code",
   "execution_count": 102,
   "id": "41579641-5fe3-4d81-a723-59d574a3068c",
   "metadata": {},
   "outputs": [
    {
     "name": "stdout",
     "output_type": "stream",
     "text": [
      "[True, 'vivek', 'apple', 89.0, 890, 678, 56, 23]\n"
     ]
    }
   ],
   "source": [
    "li = [23 , 56 , 678 , 890 , 89.0 , \"apple\" , \"vivek\" , True]\n",
    "li.reverse()\n",
    "print(li)"
   ]
  },
  {
   "cell_type": "markdown",
   "id": "61696f7d-6690-492b-acbf-a5dabc9d3199",
   "metadata": {},
   "source": [
    "# python program to interchange first and lkast element in a list"
   ]
  },
  {
   "cell_type": "code",
   "execution_count": 117,
   "id": "c302b355-2ee5-4f59-9c9e-51054dce4302",
   "metadata": {},
   "outputs": [
    {
     "name": "stdout",
     "output_type": "stream",
     "text": [
      "[1, 2, 53, 54, 75, 96, 97, 8, 3, 9, 103, 113, 142, 133, 134, 15, 165]\n",
      "17\n",
      "now the new list is [165, 2, 53, 54, 75, 96, 97, 8, 3, 9, 103, 113, 142, 133, 134, 15, 1]\n"
     ]
    }
   ],
   "source": [
    "a = [ 1, 2, 53, 54, 75, 96, 97, 8,3 ,9, 103, 113, 142, 133, 134, 15, 165]\n",
    "print(a)\n",
    "print(len(a))\n",
    "b = a[0]\n",
    "a[0] = a[16]\n",
    "a[16] = b\n",
    "print(\"now the new list is\" , a)"
   ]
  },
  {
   "cell_type": "code",
   "execution_count": 121,
   "id": "5f5db498-1445-4eb4-ad7f-483ebc0a932c",
   "metadata": {},
   "outputs": [
    {
     "name": "stdout",
     "output_type": "stream",
     "text": [
      "[1, 2, 53, 54, 75, 96, 97, 8, 3, 9, 103, 113, 142, 133, 134, 15, 165]\n",
      "17\n",
      "now the new list is [165, 2, 53, 54, 75, 96, 97, 8, 3, 9, 103, 113, 142, 133, 134, 15, 165]\n"
     ]
    }
   ],
   "source": [
    "# upar wala code ko hum asa bhi likh sakta hai\n",
    "a = [ 1, 2, 53, 54, 75, 96, 97, 8,3 ,9, 103, 113, 142, 133, 134, 15, 165]\n",
    "print(a)\n",
    "print(len(a))\n",
    "a[0] = a[16]\n",
    "a[16] = a[0]\n",
    "print(\"now the new list is\" , a)"
   ]
  },
  {
   "cell_type": "code",
   "execution_count": 123,
   "id": "62113319-0c28-415a-bfa9-725e0114831b",
   "metadata": {},
   "outputs": [],
   "source": [
    "# find the largest number in a list \n",
    "\n",
    "\n"
   ]
  },
  {
   "cell_type": "code",
   "execution_count": 125,
   "id": "fa7eaf6f-3ee6-45a0-be26-5cb9e354135f",
   "metadata": {},
   "outputs": [
    {
     "name": "stdout",
     "output_type": "stream",
     "text": [
      "14\n",
      "sum of the list: 444\n"
     ]
    }
   ],
   "source": [
    "# find the sum all the element isn the list\n",
    "l = [ 14, 34, -56, 76, 87, -56, 43, 23, 45, 67, 89, -32, 45, 65]\n",
    "print(len(l))\n",
    "a = 0\n",
    "for i in range(14):\n",
    "    a = a + l[i]\n",
    "    i = i+1\n",
    "print(\"sum of the list:\" , a)"
   ]
  },
  {
   "cell_type": "code",
   "execution_count": 129,
   "id": "6646f67d-6e28-4fa9-ad8e-7981f2d2adfa",
   "metadata": {},
   "outputs": [
    {
     "name": "stdout",
     "output_type": "stream",
     "text": [
      "245168864197558898688000\n"
     ]
    }
   ],
   "source": [
    "# python program to multiply all number in list\n",
    "l = [ 14, 34, 56, 76, 87, 56, 43, 23, 45, 67, 89, 32, 45, 65]\n",
    "n = 1\n",
    "for i in range(14):\n",
    "    n = n*l[i]\n",
    "    i = i+1\n",
    "print(n)"
   ]
  },
  {
   "cell_type": "code",
   "execution_count": 131,
   "id": "0d6df7b8-9d68-4b09-ab7d-dc6e59ff4771",
   "metadata": {},
   "outputs": [
    {
     "name": "stdout",
     "output_type": "stream",
     "text": [
      "-24084527040000\n"
     ]
    }
   ],
   "source": [
    "# python program to multiply all number in list\n",
    "l = [ 14, -4, 6, -7, 7, -5, 43, 3, 45, 7, 9, 32, 5, 5]\n",
    "n = 1\n",
    "for i in range(14):\n",
    "    n = n*l[i]\n",
    "    i = i+1\n",
    "print(n)"
   ]
  },
  {
   "cell_type": "code",
   "execution_count": null,
   "id": "f15b006c-41d5-4bb4-b102-11d290a8501a",
   "metadata": {},
   "outputs": [],
   "source": []
  }
 ],
 "metadata": {
  "kernelspec": {
   "display_name": "Python 3 (ipykernel)",
   "language": "python",
   "name": "python3"
  },
  "language_info": {
   "codemirror_mode": {
    "name": "ipython",
    "version": 3
   },
   "file_extension": ".py",
   "mimetype": "text/x-python",
   "name": "python",
   "nbconvert_exporter": "python",
   "pygments_lexer": "ipython3",
   "version": "3.12.7"
  },
  "panel-cell-order": [
   "1055649f-db96-42c1-90c1-ab04a67c9373",
   "d4d42127-fbc1-48fe-be06-f1f9851782ba"
  ]
 },
 "nbformat": 4,
 "nbformat_minor": 5
}
