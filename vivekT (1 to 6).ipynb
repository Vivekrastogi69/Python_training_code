{
 "cells": [
  {
   "cell_type": "markdown",
   "id": "94aeb8b5-b9ab-46c1-95b0-5e5a27a81749",
   "metadata": {},
   "source": [
    "# day 1 - this is first day of python class"
   ]
  },
  {
   "cell_type": "markdown",
   "id": "90361296-dd39-4504-82dc-8c4183769821",
   "metadata": {},
   "source": [
    "we are going to write our first program"
   ]
  },
  {
   "cell_type": "code",
   "execution_count": 12,
   "id": "75e8913b-16a4-45a7-9464-3714b189a91d",
   "metadata": {},
   "outputs": [
    {
     "name": "stdout",
     "output_type": "stream",
     "text": [
      "hello word\n"
     ]
    }
   ],
   "source": [
    "#print kana ka liya kuch bhi \n",
    "print(\"hello word\")"
   ]
  },
  {
   "cell_type": "code",
   "execution_count": 14,
   "id": "0d8ece33-0c47-4230-bbdf-b17d56aa73be",
   "metadata": {},
   "outputs": [
    {
     "name": "stdout",
     "output_type": "stream",
     "text": [
      "ram is a good boy, he is a gental man\n"
     ]
    }
   ],
   "source": [
    "#ab hum kh sakta hai this is IDE (meanse isma wite bhi, read bhi and debug bhi)\n",
    "print(\"ram is a good boy, he is a gental man\")"
   ]
  },
  {
   "cell_type": "code",
   "execution_count": 18,
   "id": "4245f62d-5267-4e6b-ab20-398c71179b88",
   "metadata": {},
   "outputs": [
    {
     "ename": "SyntaxError",
     "evalue": "unterminated string literal (detected at line 3) (2619025504.py, line 3)",
     "output_type": "error",
     "traceback": [
      "\u001b[1;36m  Cell \u001b[1;32mIn[18], line 3\u001b[1;36m\u001b[0m\n\u001b[1;33m    print(\"ram is a good boy)\u001b[0m\n\u001b[1;37m          ^\u001b[0m\n\u001b[1;31mSyntaxError\u001b[0m\u001b[1;31m:\u001b[0m unterminated string literal (detected at line 3)\n"
     ]
    }
   ],
   "source": [
    "#debug ka liya example\n",
    "##isma abb hum dhak raha hai (syntax error a rha hai isa hi debud khata hai)\n",
    "print(\"ram is a good boy)"
   ]
  },
  {
   "cell_type": "code",
   "execution_count": 59,
   "id": "0f92f934-5a2b-4d5d-acfa-652d2669c4e2",
   "metadata": {},
   "outputs": [
    {
     "name": "stdout",
     "output_type": "stream",
     "text": [
      "ram is a good boy\n"
     ]
    }
   ],
   "source": [
    "#edit ka liya (means isa sahi kara error ko), \" ya laga ka sahi ho jaye ga\n",
    "print(\"ram is a good boy\")\n",
    "# run ho gya sahi kar ka "
   ]
  },
  {
   "cell_type": "code",
   "execution_count": 61,
   "id": "00e8fc21-2107-4d2b-ba32-571de6d5d149",
   "metadata": {},
   "outputs": [
    {
     "name": "stdout",
     "output_type": "stream",
     "text": [
      "5\n"
     ]
    }
   ],
   "source": [
    "#kuch number add karna ka liya\n",
    "print(2+3)"
   ]
  },
  {
   "cell_type": "markdown",
   "id": "6ba988e0-8b1b-4c0f-9569-bb13914e9629",
   "metadata": {},
   "source": [
    "@ Python commants"
   ]
  },
  {
   "cell_type": "markdown",
   "id": "cbd5cf83-83a1-43ea-8edb-c9fecb869e79",
   "metadata": {},
   "source": [
    "# COMMENT : hum ya is liya likhta hai kyoki jab koi program karta hai tho wo bhoot jana milkar karta hai tho dusra logo ko samjana ka liya comment likhta hai\n"
   ]
  },
  {
   "cell_type": "code",
   "execution_count": 65,
   "id": "3515c301-a55f-4b03-a198-136972b3d136",
   "metadata": {},
   "outputs": [
    {
     "name": "stdout",
     "output_type": "stream",
     "text": [
      "hello word\n"
     ]
    }
   ],
   "source": [
    "#this is comment\n",
    "print(\"hello word\")\n"
   ]
  },
  {
   "cell_type": "markdown",
   "id": "69296a04-db2d-4d3b-9459-828b394a95bf",
   "metadata": {},
   "source": [
    " #Agar hama koi bhi comment likhni ho tho aga # or (\"\"\"  \"\"\") laga do , or uska aga apna sentence likh do "
   ]
  },
  {
   "cell_type": "code",
   "execution_count": 68,
   "id": "daf22daf-64cf-490f-beee-dc62cbfd2e71",
   "metadata": {},
   "outputs": [
    {
     "name": "stdout",
     "output_type": "stream",
     "text": [
      "hello word\n"
     ]
    }
   ],
   "source": [
    "print(\"hello word\") #this is comment"
   ]
  },
  {
   "cell_type": "markdown",
   "id": "5717eb07-e5e0-4bbd-80d9-7f884356ae7d",
   "metadata": {},
   "source": [
    "Multiline cooment"
   ]
  },
  {
   "cell_type": "code",
   "execution_count": 71,
   "id": "f7ab4eae-dea1-455d-817f-4cf6aa1af7c5",
   "metadata": {},
   "outputs": [
    {
     "name": "stdout",
     "output_type": "stream",
     "text": [
      "5\n"
     ]
    }
   ],
   "source": [
    "#this is comment 1 \n",
    "#this is comment 2 \n",
    "#this is comment 3\n",
    "\n",
    "print(2 + 3)"
   ]
  },
  {
   "cell_type": "code",
   "execution_count": 73,
   "id": "7ba63850-a320-4af6-8cf8-8fba12a3e611",
   "metadata": {},
   "outputs": [
    {
     "name": "stdout",
     "output_type": "stream",
     "text": [
      "5\n"
     ]
    }
   ],
   "source": [
    "\"\"\" this is first class of python \"\"\"  #is thara sa bhi da sakta hai comment\n",
    "print(2+3)"
   ]
  },
  {
   "cell_type": "markdown",
   "id": "47c0e05c-e9e0-4dfc-b35d-f2d3bde06fa4",
   "metadata": {},
   "source": [
    "# Day 2"
   ]
  },
  {
   "cell_type": "markdown",
   "id": "e2d905fb-cee0-4071-a6ef-88b4b8876181",
   "metadata": {},
   "source": [
    "# variable & operater"
   ]
  },
  {
   "cell_type": "code",
   "execution_count": 7,
   "id": "62096b5e-fbac-401f-822f-0f50019507ea",
   "metadata": {},
   "outputs": [
    {
     "name": "stdout",
     "output_type": "stream",
     "text": [
      "1\n"
     ]
    }
   ],
   "source": [
    "a = 1\n",
    "print(a)"
   ]
  },
  {
   "cell_type": "code",
   "execution_count": 9,
   "id": "e8aa3511-c597-4998-84cf-a0baa26acd29",
   "metadata": {},
   "outputs": [
    {
     "name": "stdout",
     "output_type": "stream",
     "text": [
      "2 2.3\n"
     ]
    }
   ],
   "source": [
    "b = 2\n",
    "c = 2.3\n",
    "print(b,c)"
   ]
  },
  {
   "cell_type": "code",
   "execution_count": 11,
   "id": "844e66af-c691-462e-a139-bcc132688f7e",
   "metadata": {},
   "outputs": [
    {
     "name": "stdout",
     "output_type": "stream",
     "text": [
      "x\n"
     ]
    }
   ],
   "source": [
    "x = \"apple\"\n",
    "print(\"x\") # abb isma hum dhak raha hai isma x he print ho gya kyoki x ko humna duble inverted quma mai likh diya hai"
   ]
  },
  {
   "cell_type": "code",
   "execution_count": 15,
   "id": "6b34ad02-15fe-4436-880d-4a8a442dd5bc",
   "metadata": {},
   "outputs": [
    {
     "name": "stdout",
     "output_type": "stream",
     "text": [
      "apple\n"
     ]
    }
   ],
   "source": [
    "x =  \"apple\"\n",
    "print(x) # abb isma hum dhak raha hai isma x print nahi hua isma apple hi print hua kyoki hamna [print(\"x\")] asa nahi lilkh atha "
   ]
  },
  {
   "cell_type": "markdown",
   "id": "9478009f-a72e-4034-baff-387ef1f98acc",
   "metadata": {},
   "source": [
    "# word name ka variable"
   ]
  },
  {
   "cell_type": "code",
   "execution_count": 19,
   "id": "f1e055f7-acd3-40c1-a732-b44f39df01f0",
   "metadata": {},
   "outputs": [
    {
     "name": "stdout",
     "output_type": "stream",
     "text": [
      "23\n"
     ]
    }
   ],
   "source": [
    "student = 23\n",
    "print(student)"
   ]
  },
  {
   "cell_type": "code",
   "execution_count": 23,
   "id": "2952fbe9-e1d3-4645-8afd-d5d1003c8720",
   "metadata": {},
   "outputs": [
    {
     "ename": "SyntaxError",
     "evalue": "invalid syntax (1022618771.py, line 1)",
     "output_type": "error",
     "traceback": [
      "\u001b[1;36m  Cell \u001b[1;32mIn[23], line 1\u001b[1;36m\u001b[0m\n\u001b[1;33m    1@& = 23\u001b[0m\n\u001b[1;37m      ^\u001b[0m\n\u001b[1;31mSyntaxError\u001b[0m\u001b[1;31m:\u001b[0m invalid syntax\n"
     ]
    }
   ],
   "source": [
    "1@& = 23\n",
    "print(1@&) # hum asa syntax nahi likh sakta hai kyoki number sa hamara variable start nahi hota hai isi waja sa error a rha hai"
   ]
  },
  {
   "cell_type": "markdown",
   "id": "64dee59e-baef-4bf8-94b2-94e1a4acc3d3",
   "metadata": {},
   "source": [
    "# alpha numaric"
   ]
  },
  {
   "cell_type": "code",
   "execution_count": 28,
   "id": "5115634e-8f19-497b-8f14-5d0c7cebc137",
   "metadata": {},
   "outputs": [
    {
     "name": "stdout",
     "output_type": "stream",
     "text": [
      "34\n"
     ]
    }
   ],
   "source": [
    "student123 = 34\n",
    "print(student123) # alpha numaric tarika saa bhi likh sakta hai "
   ]
  },
  {
   "cell_type": "code",
   "execution_count": 34,
   "id": "178a8410-e921-45a1-ba83-1e6b985b75fe",
   "metadata": {},
   "outputs": [
    {
     "ename": "NameError",
     "evalue": "name 'vivek' is not defined",
     "output_type": "error",
     "traceback": [
      "\u001b[1;31m---------------------------------------------------------------------------\u001b[0m",
      "\u001b[1;31mNameError\u001b[0m                                 Traceback (most recent call last)",
      "Cell \u001b[1;32mIn[34], line 1\u001b[0m\n\u001b[1;32m----> 1\u001b[0m _a \u001b[38;5;241m=\u001b[39m vivek\n\u001b[0;32m      2\u001b[0m \u001b[38;5;28mprint\u001b[39m(_a)\n",
      "\u001b[1;31mNameError\u001b[0m: name 'vivek' is not defined"
     ]
    }
   ],
   "source": [
    "_a = vivek\n",
    "print(_a) # yha error is liya aye hai kyoki humna sting ko double inverted quma mai nahi likha"
   ]
  },
  {
   "cell_type": "code",
   "execution_count": 38,
   "id": "6de3b06b-a226-4055-8ac2-150683a96e98",
   "metadata": {},
   "outputs": [
    {
     "name": "stdout",
     "output_type": "stream",
     "text": [
      "vivek\n"
     ]
    }
   ],
   "source": [
    "_a = \"vivek\"\n",
    "print(_a) # yha pr run ho gya quoki yha pr humna double inverted quma laga diya hai"
   ]
  },
  {
   "cell_type": "markdown",
   "id": "ca38ef48-67b0-4485-bc54-45dc66d6d0e9",
   "metadata": {},
   "source": [
    "# case sensitive"
   ]
  },
  {
   "cell_type": "code",
   "execution_count": 41,
   "id": "4c866c02-8f4a-46fe-80a8-3486152ee37a",
   "metadata": {},
   "outputs": [
    {
     "ename": "NameError",
     "evalue": "name '_A' is not defined",
     "output_type": "error",
     "traceback": [
      "\u001b[1;31m---------------------------------------------------------------------------\u001b[0m",
      "\u001b[1;31mNameError\u001b[0m                                 Traceback (most recent call last)",
      "Cell \u001b[1;32mIn[41], line 2\u001b[0m\n\u001b[0;32m      1\u001b[0m _a \u001b[38;5;241m=\u001b[39m \u001b[38;5;241m23\u001b[39m\n\u001b[1;32m----> 2\u001b[0m \u001b[38;5;28mprint\u001b[39m(_A)\n",
      "\u001b[1;31mNameError\u001b[0m: name '_A' is not defined"
     ]
    }
   ],
   "source": [
    "_a = 23\n",
    "print(_A) # yha pr error is liya aya hai quoki small a or capital A dono mai anta hai "
   ]
  },
  {
   "cell_type": "code",
   "execution_count": 43,
   "id": "fec88211-4627-4b4a-a384-967f0dadc42c",
   "metadata": {},
   "outputs": [
    {
     "name": "stdout",
     "output_type": "stream",
     "text": [
      "23\n"
     ]
    }
   ],
   "source": [
    "_1_vivek = 23\n",
    "print(_1_vivek)"
   ]
  },
  {
   "cell_type": "markdown",
   "id": "5ce57054-92ff-4b33-a789-c5be06203908",
   "metadata": {},
   "source": [
    "# many values to multipal variables"
   ]
  },
  {
   "cell_type": "code",
   "execution_count": 46,
   "id": "fed02d3d-b645-41c9-b475-9aa46a404737",
   "metadata": {},
   "outputs": [
    {
     "name": "stdout",
     "output_type": "stream",
     "text": [
      "orange banana cherry\n"
     ]
    }
   ],
   "source": [
    "x,y,z = \"orange\" , \"banana\" , \"cherry\"\n",
    "print(x,y,z)"
   ]
  },
  {
   "cell_type": "code",
   "execution_count": 50,
   "id": "ad8a4880-27f2-4183-8b9b-b5015a6ab3d6",
   "metadata": {},
   "outputs": [
    {
     "name": "stdout",
     "output_type": "stream",
     "text": [
      "orange\n",
      "orange\n",
      "orange\n"
     ]
    }
   ],
   "source": [
    "# agar hum alag alag variable mai ak hi valu dana chay tho ya karta hai \n",
    "x= y= z= \"orange\"\n",
    "print(x)\n",
    "print(y)\n",
    "print(z)"
   ]
  },
  {
   "cell_type": "markdown",
   "id": "2ed4a4d1-9f08-423f-94d1-1b01ab34db23",
   "metadata": {},
   "source": [
    "# python output variables"
   ]
  },
  {
   "cell_type": "code",
   "execution_count": 55,
   "id": "b338ca4b-e668-408e-98dc-ad022f40e2d7",
   "metadata": {},
   "outputs": [
    {
     "name": "stdout",
     "output_type": "stream",
     "text": [
      "python is amazing\n",
      "\n",
      "python\n",
      "is\n",
      "amazing\n"
     ]
    }
   ],
   "source": [
    "#same line mai or alag alag line mai print karna ka liya\n",
    "x = \"python\"\n",
    "y = \"is\"\n",
    "z = \"amazing\"\n",
    "print(x,y,z)\n",
    "\n",
    "print()\n",
    "\n",
    "print(x)\n",
    "print(y)\n",
    "print(z)"
   ]
  },
  {
   "cell_type": "markdown",
   "id": "d6c216dc-5492-4a6b-9eb5-e0cfdf00ef83",
   "metadata": {},
   "source": [
    "# data type"
   ]
  },
  {
   "cell_type": "code",
   "execution_count": 64,
   "id": "3807857e-97c8-4277-b36c-dbe45a030ce5",
   "metadata": {},
   "outputs": [
    {
     "name": "stdout",
     "output_type": "stream",
     "text": [
      "2\n",
      "<class 'int'>\n"
     ]
    }
   ],
   "source": [
    "x = 2\n",
    "print(x)\n",
    "print(type(x)) # ya wali line likhta hai kisi ka bhi type pata karna ho tho "
   ]
  },
  {
   "cell_type": "code",
   "execution_count": 85,
   "id": "15fdea38-6bbc-4803-be8a-87db9f72fdaf",
   "metadata": {},
   "outputs": [
    {
     "name": "stdout",
     "output_type": "stream",
     "text": [
      "<class 'float'>\n"
     ]
    }
   ],
   "source": [
    "# complex number ka liya\n",
    "y = 2.3\n",
    "print(type(y))"
   ]
  },
  {
   "cell_type": "code",
   "execution_count": 87,
   "id": "ae8d8e54-df6d-4007-bbd4-e9b874e928b6",
   "metadata": {},
   "outputs": [
    {
     "name": "stdout",
     "output_type": "stream",
     "text": [
      "(2+3j)\n",
      "<class 'complex'>\n"
     ]
    }
   ],
   "source": [
    "# comple number ka liya\n",
    "z = 2 + 3j\n",
    "print(z)\n",
    "print(type(z))"
   ]
  },
  {
   "cell_type": "code",
   "execution_count": 89,
   "id": "6b485865-8b06-41d8-816c-c82d89d4752a",
   "metadata": {},
   "outputs": [
    {
     "name": "stdout",
     "output_type": "stream",
     "text": [
      "this is 2nd day of python class\n",
      "<class 'str'>\n"
     ]
    }
   ],
   "source": [
    "# string data ko store karna ka liya \n",
    "a = \"this is 2nd day of python class\"\n",
    "print(a)\n",
    "print(type(a))"
   ]
  },
  {
   "cell_type": "markdown",
   "id": "6f22f82c-ffb5-47ff-8812-9a8e4772e5ef",
   "metadata": {},
   "source": [
    "# Ak variable mai multipal valu kasa da ( iska liya python ka kuch khass data type use hota hai ) code mai dikha gya hai\n",
    "# example = list , tuple , set , dict\n"
   ]
  },
  {
   "cell_type": "code",
   "execution_count": 93,
   "id": "b81d1122-b18f-4e48-975f-029725f5dab6",
   "metadata": {},
   "outputs": [
    {
     "name": "stdout",
     "output_type": "stream",
     "text": [
      "[1, 2, 3, 4, 5, 6, 7, 8, 9, 10]\n",
      "<class 'list'>\n"
     ]
    }
   ],
   "source": [
    "# list \n",
    "b = [ 1, 2 , 3, 4, 5, 6, 7, 8, 9, 10]\n",
    "print(b)\n",
    "print(type(b))"
   ]
  },
  {
   "cell_type": "code",
   "execution_count": 101,
   "id": "0cb4120e-f40b-4892-a618-767d0277c203",
   "metadata": {},
   "outputs": [
    {
     "name": "stdout",
     "output_type": "stream",
     "text": [
      "[12, 2.3, 'vivek', 54]\n",
      "<class 'list'>\n"
     ]
    }
   ],
   "source": [
    "# list mai hum number , sting , decimal ak sath la sakta hai \n",
    "b = [ 12,2.3, \"vivek\", 54]\n",
    "print(b)\n",
    "print(type(b))"
   ]
  },
  {
   "cell_type": "code",
   "execution_count": 103,
   "id": "072b4081-9d3e-4d33-aa44-8e7ec13269ee",
   "metadata": {},
   "outputs": [
    {
     "name": "stdout",
     "output_type": "stream",
     "text": [
      "(1, 2, 3, 4, 5)\n",
      "<class 'tuple'>\n"
     ]
    }
   ],
   "source": [
    "# tuple ka liya bss () ya laga do is ki jaga []\n",
    "c = ( 1, 2, 3, 4, 5 )\n",
    "print(c)\n",
    "print(type(c))"
   ]
  },
  {
   "cell_type": "code",
   "execution_count": 109,
   "id": "11e7fecc-f571-4b05-89f6-7fd9343b0316",
   "metadata": {},
   "outputs": [
    {
     "name": "stdout",
     "output_type": "stream",
     "text": [
      "(1, 2, 3.4, ' vivek')\n",
      "<class 'tuple'>\n"
     ]
    }
   ],
   "source": [
    "# isma bhi ak hi variable mai kisi bhi thara ki value ak sat store kar sakta hai \n",
    "c = ( 1, 2, 3.4, \" vivek\")\n",
    "print(c)\n",
    "print(type(c))"
   ]
  },
  {
   "cell_type": "markdown",
   "id": "fdc3f979-6bc1-42a9-a00d-1ae3bfd3f4b4",
   "metadata": {},
   "source": [
    "# Agar mai ya dhakna chata hu ki mana abhi tak kitna variable use kiya hai unma kya kya store kiya tho uska liya hum likha ga kuch asa(%whos) "
   ]
  },
  {
   "cell_type": "code",
   "execution_count": 115,
   "id": "413b5513-a3f4-47dc-87ea-ce9df342a6a2",
   "metadata": {},
   "outputs": [
    {
     "name": "stdout",
     "output_type": "stream",
     "text": [
      "Variable               Type        Data/Info\n",
      "--------------------------------------------\n",
      "a                      str         this is 2nd day of python class\n",
      "b                      list        n=4\n",
      "c                      tuple       n=4\n",
      "dataframe_columns      function    <function dataframe_colum<...>ns at 0x0000021C162DB560>\n",
      "dataframe_hash         function    <function dataframe_hash at 0x0000021C162DB380>\n",
      "dtypes_str             function    <function dtypes_str at 0x0000021C1529F560>\n",
      "get_dataframes         function    <function get_dataframes at 0x0000021C162DB060>\n",
      "getpass                module      <module 'getpass' from 'C<...>conda3\\\\Lib\\\\getpass.py'>\n",
      "hashlib                module      <module 'hashlib' from 'C<...>conda3\\\\Lib\\\\hashlib.py'>\n",
      "import_pandas_safely   function    <function import_pandas_s<...>ly at 0x0000021C162DBCE0>\n",
      "is_data_frame          function    <function is_data_frame at 0x0000021C162DB240>\n",
      "json                   module      <module 'json' from 'C:\\\\<...>\\Lib\\\\json\\\\__init__.py'>\n",
      "student                int         23\n",
      "student123             int         34\n",
      "x                      float       2.3\n",
      "y                      float       2.3\n",
      "z                      complex     (2+3j)\n"
     ]
    }
   ],
   "source": [
    "# kitna variable use kiya hai abhi tak \n",
    "%whos"
   ]
  },
  {
   "cell_type": "markdown",
   "id": "b4aa9a72-0b0d-4b32-a0a5-2fa1f55ecdfc",
   "metadata": {},
   "source": [
    "# Operaters in python"
   ]
  },
  {
   "cell_type": "code",
   "execution_count": 120,
   "id": "d090d4d0-4bd9-4d84-a581-17bc045e9add",
   "metadata": {},
   "outputs": [
    {
     "name": "stdout",
     "output_type": "stream",
     "text": [
      "11\n"
     ]
    }
   ],
   "source": [
    "# Arithmetic operaters\n",
    "a = 5\n",
    "b = 6\n",
    "print(a + b)"
   ]
  },
  {
   "cell_type": "code",
   "execution_count": 122,
   "id": "8864cb2b-6bbf-4847-9ea8-6bb562e43734",
   "metadata": {},
   "outputs": [
    {
     "name": "stdout",
     "output_type": "stream",
     "text": [
      "8.4\n"
     ]
    }
   ],
   "source": [
    "# on decimal number arithmetic operater\n",
    "a = 3.4\n",
    "b = 5\n",
    "print(a + b)"
   ]
  },
  {
   "cell_type": "code",
   "execution_count": 124,
   "id": "a0a6463a-e423-4b78-a236-589808cec7ac",
   "metadata": {},
   "outputs": [
    {
     "name": "stdout",
     "output_type": "stream",
     "text": [
      "(6+3j)\n"
     ]
    }
   ],
   "source": [
    "# complex number pr arith,matic operation\n",
    "a = 3 + 3j\n",
    "b = 3\n",
    "print(a + b)"
   ]
  },
  {
   "cell_type": "code",
   "execution_count": 130,
   "id": "227e79cc-c178-40de-aaf8-af8984cb181e",
   "metadata": {},
   "outputs": [
    {
     "name": "stdout",
     "output_type": "stream",
     "text": [
      "hellovivek\n"
     ]
    }
   ],
   "source": [
    "# agar huma do string ko add karna hai tho yha pr (+) operater CONCATINATION  ki thara kam kara ga means dono word chipka hua aye ga jasa output dhik rha hai\n",
    "a = \"hello\"\n",
    "b = \"vivek\"\n",
    "print( a + b )"
   ]
  },
  {
   "cell_type": "code",
   "execution_count": 132,
   "id": "6aa6684b-f3f0-48bc-8cd3-f376af84bdc7",
   "metadata": {},
   "outputs": [
    {
     "name": "stdout",
     "output_type": "stream",
     "text": [
      "hello vivek\n"
     ]
    }
   ],
   "source": [
    "# agar hum in dono ka beech ,mai gap dana charta hai tho ( a + \" \" + b) likha ga space a jaye ga jasa code mai dhik rha hai\n",
    "a = \"hello\"\n",
    "b = \"vivek\"\n",
    "print(a + \" \" + b)"
   ]
  },
  {
   "cell_type": "markdown",
   "id": "1c58a77d-84dd-4ca6-9ec8-6ea7e56db4a1",
   "metadata": {},
   "source": [
    "# subtaction"
   ]
  },
  {
   "cell_type": "code",
   "execution_count": 135,
   "id": "ff60220b-91f8-4f69-94cf-990f6376bd1d",
   "metadata": {},
   "outputs": [
    {
     "name": "stdout",
     "output_type": "stream",
     "text": [
      "11\n"
     ]
    }
   ],
   "source": [
    "a = 23\n",
    "b = 12\n",
    "print(a - b)"
   ]
  },
  {
   "cell_type": "code",
   "execution_count": 137,
   "id": "2253a334-6585-4857-b831-d5387073c391",
   "metadata": {},
   "outputs": [
    {
     "name": "stdout",
     "output_type": "stream",
     "text": [
      "11.0\n"
     ]
    }
   ],
   "source": [
    "# decimal value\n",
    "a = 23.5\n",
    "b = 12.5\n",
    "print(a - b)"
   ]
  },
  {
   "cell_type": "code",
   "execution_count": 139,
   "id": "1117756e-5950-45c2-b5bb-c4199d75fe50",
   "metadata": {},
   "outputs": [
    {
     "name": "stdout",
     "output_type": "stream",
     "text": [
      "(2+5j)\n"
     ]
    }
   ],
   "source": [
    "#complex numer\n",
    "a = 23 + 5j\n",
    "b = 21\n",
    "print(a - b)"
   ]
  },
  {
   "cell_type": "markdown",
   "id": "4838503d-e060-481e-87bf-a108faa65bcf",
   "metadata": {},
   "source": [
    "# NOTE - String ko subtarct nahi kar sakta hai "
   ]
  },
  {
   "cell_type": "markdown",
   "id": "7f2a66a4-e4d0-4ab8-a3cf-d87a81d546be",
   "metadata": {},
   "source": [
    "# Multiplication"
   ]
  },
  {
   "cell_type": "code",
   "execution_count": 143,
   "id": "6653d58d-e664-49d0-bf05-08527942d29d",
   "metadata": {},
   "outputs": [
    {
     "name": "stdout",
     "output_type": "stream",
     "text": [
      "180\n"
     ]
    }
   ],
   "source": [
    "a = 15 \n",
    "b = 12\n",
    "print(a*b)"
   ]
  },
  {
   "cell_type": "code",
   "execution_count": 145,
   "id": "029cddf7-194d-4843-843d-0146778602cc",
   "metadata": {},
   "outputs": [
    {
     "name": "stdout",
     "output_type": "stream",
     "text": [
      "290.78\n"
     ]
    }
   ],
   "source": [
    "# Floating point\n",
    "a = 23.45\n",
    "b = 12.4\n",
    "print(a*b)"
   ]
  },
  {
   "cell_type": "code",
   "execution_count": 149,
   "id": "8505bd96-face-4f36-af39-cb7793807ee6",
   "metadata": {},
   "outputs": [
    {
     "name": "stdout",
     "output_type": "stream",
     "text": [
      "(9+12j)\n"
     ]
    }
   ],
   "source": [
    "#complex number \n",
    "a = 3+4j\n",
    "b = 3\n",
    "print(a*b)"
   ]
  },
  {
   "cell_type": "markdown",
   "id": "205aed3a-81b1-4554-967c-c5ac1aeb8628",
   "metadata": {},
   "source": [
    "# DIVISION"
   ]
  },
  {
   "cell_type": "code",
   "execution_count": 154,
   "id": "153ab980-732b-4a50-a7f7-620e917a8036",
   "metadata": {},
   "outputs": [
    {
     "name": "stdout",
     "output_type": "stream",
     "text": [
      "2.0\n"
     ]
    }
   ],
   "source": [
    "a = 10\n",
    "b = 5\n",
    "print(a/b)"
   ]
  },
  {
   "cell_type": "markdown",
   "id": "63ae295b-fc30-4bec-9044-e179eb830eb6",
   "metadata": {},
   "source": [
    "# MODULOUS"
   ]
  },
  {
   "cell_type": "code",
   "execution_count": 157,
   "id": "1682c61a-7b27-4b8e-9bce-c31480bf117c",
   "metadata": {},
   "outputs": [
    {
     "name": "stdout",
     "output_type": "stream",
     "text": [
      "1\n"
     ]
    }
   ],
   "source": [
    "# Iska matlab hota hai reminder data hai ya\n",
    "a = 19\n",
    "b = 3\n",
    "print(a%b)"
   ]
  },
  {
   "cell_type": "code",
   "execution_count": 159,
   "id": "9e8aa30e-e5cb-413d-b19f-8298140a91d6",
   "metadata": {},
   "outputs": [
    {
     "name": "stdout",
     "output_type": "stream",
     "text": [
      "0\n"
     ]
    }
   ],
   "source": [
    "a = 12\n",
    "b = 4\n",
    "print(a%b)"
   ]
  },
  {
   "cell_type": "markdown",
   "id": "e301291f-91f9-4d78-af55-594cb615ef09",
   "metadata": {},
   "source": [
    "# EXPONENT"
   ]
  },
  {
   "cell_type": "code",
   "execution_count": 162,
   "id": "c64dad92-a63e-4357-89a6-240d551d8502",
   "metadata": {},
   "outputs": [
    {
     "name": "stdout",
     "output_type": "stream",
     "text": [
      "209117919733368776502679528199896931747036833682663321986537197640987901903972197275750929775299648168118223153237533885728722195653640777495678135483110471816739416910621608285948459473203920263116423330951843077101151209575250602325620995233562462720493407331858148060137210044117095859153621677487248237143639386262041491119749\n"
     ]
    }
   ],
   "source": [
    "# Power nikalna ka liya \n",
    "a = 971949\n",
    "print(a**55)"
   ]
  },
  {
   "cell_type": "code",
   "execution_count": 164,
   "id": "a5fe4e03-06eb-4600-8908-8c72e71ac952",
   "metadata": {},
   "outputs": [
    {
     "name": "stdout",
     "output_type": "stream",
     "text": [
      "1.2037701645091998e+231\n"
     ]
    }
   ],
   "source": [
    "# agar hama bhoot bari equation da rahi ho tho usa bhi hum kuch second mia kar sakta hai\n",
    "a = ((876*56)+(34.56/23)+(453**87)+(3245467-123453))\n",
    "print(a)"
   ]
  },
  {
   "cell_type": "markdown",
   "id": "61cdd14a-64c8-4dfa-9696-2d5c29695f11",
   "metadata": {},
   "source": [
    "# logial operater"
   ]
  },
  {
   "cell_type": "code",
   "execution_count": 179,
   "id": "c864f913-4e78-44e5-bc19-2aaa10976ed3",
   "metadata": {},
   "outputs": [
    {
     "name": "stdout",
     "output_type": "stream",
     "text": [
      "False\n",
      "False\n",
      "True\n",
      "False\n",
      "True\n",
      "True\n",
      "True\n",
      "False\n",
      "False\n",
      "True\n"
     ]
    }
   ],
   "source": [
    "a = True\n",
    "b = False\n",
    "print(a and b)\n",
    "print(b and a)\n",
    "print(a and a)\n",
    "print(b and b)\n",
    "print(a or b)\n",
    "print(b or a)\n",
    "print(a or a)\n",
    "print(b or b)\n",
    "print(not(a))\n",
    "print(not(b))"
   ]
  },
  {
   "cell_type": "code",
   "execution_count": 183,
   "id": "2aee5fed-98ee-4331-a2d2-41fa226b3684",
   "metadata": {},
   "outputs": [
    {
     "name": "stdout",
     "output_type": "stream",
     "text": [
      "33726797.183908045\n"
     ]
    }
   ],
   "source": [
    "# example ( overview)\n",
    "a = ((8922*2852)+(7821*222)+(25566*256)+(8281/87))\n",
    "print(a)"
   ]
  },
  {
   "cell_type": "markdown",
   "id": "f6facf07-57a0-4606-a2dd-0019e2cb84a2",
   "metadata": {},
   "source": [
    "# FUNCTION IN PYTHON"
   ]
  },
  {
   "cell_type": "markdown",
   "id": "6d660d24-3300-4c8c-bb0d-32e98305a4b0",
   "metadata": {},
   "source": [
    "# Day 3rd"
   ]
  },
  {
   "cell_type": "markdown",
   "id": "58edd9ee-cd67-4764-aa96-0bbfff001843",
   "metadata": {},
   "source": [
    "#built in functions in python"
   ]
  },
  {
   "cell_type": "markdown",
   "id": "99833705-f2ad-410d-8d81-012c5dc6e488",
   "metadata": {},
   "source": [
    "# 1 - abs()function"
   ]
  },
  {
   "cell_type": "code",
   "execution_count": 12,
   "id": "6e67bb88-be9a-443d-a94c-a909df794504",
   "metadata": {},
   "outputs": [
    {
     "name": "stdout",
     "output_type": "stream",
     "text": [
      "43.65\n"
     ]
    }
   ],
   "source": [
    "#abs() iska matlab hota hai absolute function, ya spacified value ko dhikhata hai EX - hmara pass -7.24 hai thpo ya function laga kar ha,ma iski absolute value mil jaye gi \n",
    "x = abs(-43.65) # minus(-) sign ko hata daga ya abs() function\n",
    "print(x)"
   ]
  },
  {
   "cell_type": "code",
   "execution_count": 16,
   "id": "9cbf8017-a39d-4470-85e2-5eb5f94a9ba5",
   "metadata": {},
   "outputs": [
    {
     "name": "stdout",
     "output_type": "stream",
     "text": [
      "34\n"
     ]
    }
   ],
   "source": [
    "y = abs(-34)\n",
    "print(y)"
   ]
  },
  {
   "cell_type": "code",
   "execution_count": 18,
   "id": "09de5916-2359-40c2-8633-4fe4dacec4f3",
   "metadata": {},
   "outputs": [
    {
     "name": "stdout",
     "output_type": "stream",
     "text": [
      "34.36568055487916\n"
     ]
    }
   ],
   "source": [
    "z = abs(34 + 5j)\n",
    "print(z)\n"
   ]
  },
  {
   "cell_type": "markdown",
   "id": "169a43c7-0636-4715-8c61-5eb9638114ee",
   "metadata": {},
   "source": [
    "# bin()function"
   ]
  },
  {
   "cell_type": "code",
   "execution_count": 25,
   "id": "365f71b2-9968-43f4-87aa-a3c92c96f4c6",
   "metadata": {},
   "outputs": [
    {
     "name": "stdout",
     "output_type": "stream",
     "text": [
      "0b101011001\n"
     ]
    }
   ],
   "source": [
    "# hum koi bhi number daga ya binary number mai conver kar dta hai ( 32,16,8, 4, 2, 1) \n",
    "x = bin(345)\n",
    "print(x)"
   ]
  },
  {
   "cell_type": "code",
   "execution_count": 29,
   "id": "ae8ecae8-2ce9-4765-a415-345de6d30fd2",
   "metadata": {},
   "outputs": [
    {
     "ename": "TypeError",
     "evalue": "'float' object cannot be interpreted as an integer",
     "output_type": "error",
     "traceback": [
      "\u001b[1;31m---------------------------------------------------------------------------\u001b[0m",
      "\u001b[1;31mTypeError\u001b[0m                                 Traceback (most recent call last)",
      "Cell \u001b[1;32mIn[29], line 2\u001b[0m\n\u001b[0;32m      1\u001b[0m \u001b[38;5;66;03m# float number ka binary number nahi nikla ga\u001b[39;00m\n\u001b[1;32m----> 2\u001b[0m x \u001b[38;5;241m=\u001b[39m \u001b[38;5;28mbin\u001b[39m(\u001b[38;5;241m23.45\u001b[39m)  \n\u001b[0;32m      3\u001b[0m \u001b[38;5;28mprint\u001b[39m(x)\n",
      "\u001b[1;31mTypeError\u001b[0m: 'float' object cannot be interpreted as an integer"
     ]
    }
   ],
   "source": [
    "# float number ka binary number nahi nikla ga\n",
    "x = bin(23.45)  \n",
    "print(x)"
   ]
  },
  {
   "cell_type": "markdown",
   "id": "65ce8051-80be-49b8-a78e-fb77eb3895c0",
   "metadata": {},
   "source": [
    "# python bytes function"
   ]
  },
  {
   "cell_type": "code",
   "execution_count": 32,
   "id": "5769eca4-1b40-43ad-a7c1-b599b6e572ec",
   "metadata": {},
   "outputs": [
    {
     "name": "stdout",
     "output_type": "stream",
     "text": [
      "b'\\x00\\x00\\x00\\x00'\n"
     ]
    }
   ],
   "source": [
    "x = bytes(4)\n",
    "print(x)"
   ]
  },
  {
   "cell_type": "code",
   "execution_count": 36,
   "id": "f38f1297-10de-467f-a154-b0dbb5f9db75",
   "metadata": {},
   "outputs": [
    {
     "ename": "TypeError",
     "evalue": "cannot convert 'float' object to bytes",
     "output_type": "error",
     "traceback": [
      "\u001b[1;31m---------------------------------------------------------------------------\u001b[0m",
      "\u001b[1;31mTypeError\u001b[0m                                 Traceback (most recent call last)",
      "Cell \u001b[1;32mIn[36], line 2\u001b[0m\n\u001b[0;32m      1\u001b[0m \u001b[38;5;66;03m# isma bhi dacimal value k nahi nikala ga \u001b[39;00m\n\u001b[1;32m----> 2\u001b[0m x \u001b[38;5;241m=\u001b[39m \u001b[38;5;28mbytes\u001b[39m(\u001b[38;5;241m16.16\u001b[39m)\n\u001b[0;32m      3\u001b[0m \u001b[38;5;28mprint\u001b[39m(x)\n",
      "\u001b[1;31mTypeError\u001b[0m: cannot convert 'float' object to bytes"
     ]
    }
   ],
   "source": [
    "# isma bhi dacimal value k nahi nikala ga \n",
    "x = bytes(16.16)\n",
    "print(x)"
   ]
  },
  {
   "cell_type": "markdown",
   "id": "90d20ece-a5d2-4eac-ac8a-8d5a157113d5",
   "metadata": {},
   "source": [
    "# python chr() function"
   ]
  },
  {
   "cell_type": "markdown",
   "id": "5caf4bad-400e-4699-9b44-ef4c84546a4d",
   "metadata": {},
   "source": [
    "# NOTE - JAB BHI HUM PYTHON MAI FUNCTION IIKHTA HAI TH SABSA PHALA FUNCTION KA NAME FIR () YA EXAMPLE- BIN(), PRINT() ETC . YHA PR PRINT FUNCTION HAI "
   ]
  },
  {
   "cell_type": "code",
   "execution_count": 43,
   "id": "d6a9f716-c8af-4c02-ace0-682885e2b800",
   "metadata": {},
   "outputs": [
    {
     "name": "stdout",
     "output_type": "stream",
     "text": [
      "a\n"
     ]
    }
   ],
   "source": [
    "# character function kisi bhi character ka unicode sa character bata dta hai kon sa hai jasa example mai show ho rha hai\n",
    "x = chr(97)\n",
    "print(x)\n"
   ]
  },
  {
   "cell_type": "code",
   "execution_count": 45,
   "id": "c285c91e-6ed3-4c86-87c1-72d8006af6c0",
   "metadata": {},
   "outputs": [
    {
     "ename": "TypeError",
     "evalue": "chr() takes exactly one argument (3 given)",
     "output_type": "error",
     "traceback": [
      "\u001b[1;31m---------------------------------------------------------------------------\u001b[0m",
      "\u001b[1;31mTypeError\u001b[0m                                 Traceback (most recent call last)",
      "Cell \u001b[1;32mIn[45], line 1\u001b[0m\n\u001b[1;32m----> 1\u001b[0m y \u001b[38;5;241m=\u001b[39m \u001b[38;5;28mchr\u001b[39m(\u001b[38;5;241m98\u001b[39m,\u001b[38;5;241m99\u001b[39m,\u001b[38;5;241m101\u001b[39m)\n\u001b[0;32m      2\u001b[0m \u001b[38;5;28mprint\u001b[39m(y)\n",
      "\u001b[1;31mTypeError\u001b[0m: chr() takes exactly one argument (3 given)"
     ]
    }
   ],
   "source": [
    "y = chr(98,99,101) # ak bar mai sirf ak argumant la sakta hai \n",
    "print(y)"
   ]
  },
  {
   "cell_type": "code",
   "execution_count": 47,
   "id": "d59b339b-c6d7-49b8-99ed-622007d4a4c7",
   "metadata": {},
   "outputs": [
    {
     "name": "stdout",
     "output_type": "stream",
     "text": [
      "e\n"
     ]
    }
   ],
   "source": [
    "y = chr(101)\n",
    "print(y)"
   ]
  },
  {
   "cell_type": "code",
   "execution_count": 49,
   "id": "ad3c1890-32e2-4bee-bc8b-5bdbaead2102",
   "metadata": {},
   "outputs": [
    {
     "name": "stdout",
     "output_type": "stream",
     "text": [
      "8\n"
     ]
    }
   ],
   "source": [
    "s = chr(56)\n",
    "print(s)"
   ]
  },
  {
   "cell_type": "code",
   "execution_count": 51,
   "id": "929515bb-9477-4b5e-a799-670c08f1221f",
   "metadata": {},
   "outputs": [
    {
     "name": "stdout",
     "output_type": "stream",
     "text": [
      "N -\n"
     ]
    }
   ],
   "source": [
    "x = chr(78)\n",
    "y = chr(45)\n",
    "print(x,y)"
   ]
  },
  {
   "cell_type": "markdown",
   "id": "c20a4dc9-ce6b-458d-8601-8801e6df081e",
   "metadata": {},
   "source": [
    "# COMPLEX NUMBER"
   ]
  },
  {
   "cell_type": "code",
   "execution_count": 58,
   "id": "68ffe098-4dc4-407b-ac42-3d31015d908f",
   "metadata": {},
   "outputs": [
    {
     "name": "stdout",
     "output_type": "stream",
     "text": [
      "(3+5j)\n"
     ]
    }
   ],
   "source": [
    "# COMPLEX NUMBER BANA KA LIYA PHALA RIYAL NUMBER DANGA FIR IMAGENARY NUMBER DANGA (5,6) CODE MAI DHIK RHA HAI \n",
    "x = complex(3,5)\n",
    "print(x)"
   ]
  },
  {
   "cell_type": "code",
   "execution_count": 60,
   "id": "f069d22a-75af-45fe-b870-ac26174084cb",
   "metadata": {},
   "outputs": [
    {
     "name": "stdout",
     "output_type": "stream",
     "text": [
      "(23.5+67.23j)\n"
     ]
    }
   ],
   "source": [
    "# floating numbar ka liya\n",
    "x = complex(23.5,67.23)\n",
    "print(x)"
   ]
  },
  {
   "cell_type": "code",
   "execution_count": 62,
   "id": "fb8df38b-8ced-4ae9-83d0-da812bc7017a",
   "metadata": {},
   "outputs": [
    {
     "name": "stdout",
     "output_type": "stream",
     "text": [
      "(5+0j)\n"
     ]
    }
   ],
   "source": [
    "# agar hum only real number hi da bss \n",
    "z = complex('5')\n",
    "print(z)"
   ]
  },
  {
   "cell_type": "markdown",
   "id": "98f0e864-f6ba-414f-b2b2-d3f02d76b73a",
   "metadata": {},
   "source": [
    "# FLOAT FUNCTION"
   ]
  },
  {
   "cell_type": "code",
   "execution_count": 69,
   "id": "0e1c3aee-1676-498c-9370-6fe5b49a757b",
   "metadata": {},
   "outputs": [
    {
     "name": "stdout",
     "output_type": "stream",
     "text": [
      "4.0\n"
     ]
    }
   ],
   "source": [
    "x = float(4)\n",
    "print(x)"
   ]
  },
  {
   "cell_type": "code",
   "execution_count": 71,
   "id": "481e43be-401c-42ca-bfea-29913c5dade6",
   "metadata": {},
   "outputs": [
    {
     "name": "stdout",
     "output_type": "stream",
     "text": [
      "4.87\n"
     ]
    }
   ],
   "source": [
    "x = float(4.87)\n",
    "print(x)"
   ]
  },
  {
   "cell_type": "markdown",
   "id": "b76c5acd-fd39-4faa-990e-8be5502f67aa",
   "metadata": {},
   "source": [
    "# INT FUNCTION"
   ]
  },
  {
   "cell_type": "code",
   "execution_count": 74,
   "id": "9e8eeb55-acca-4e27-8dad-c8b27bb3c41e",
   "metadata": {},
   "outputs": [
    {
     "name": "stdout",
     "output_type": "stream",
     "text": [
      "12\n"
     ]
    }
   ],
   "source": [
    "x = int(12)\n",
    "print(x)"
   ]
  },
  {
   "cell_type": "code",
   "execution_count": 76,
   "id": "76cac8c9-752e-46bd-b940-d7f0d0f2fa26",
   "metadata": {},
   "outputs": [
    {
     "name": "stdout",
     "output_type": "stream",
     "text": [
      "12\n"
     ]
    }
   ],
   "source": [
    "x = int(12.45)\n",
    "print(x)"
   ]
  },
  {
   "cell_type": "code",
   "execution_count": 80,
   "id": "cd7b3949-5f46-4bb3-93a5-e575e3217a62",
   "metadata": {},
   "outputs": [
    {
     "ename": "TypeError",
     "evalue": "int() argument must be a string, a bytes-like object or a real number, not 'complex'",
     "output_type": "error",
     "traceback": [
      "\u001b[1;31m---------------------------------------------------------------------------\u001b[0m",
      "\u001b[1;31mTypeError\u001b[0m                                 Traceback (most recent call last)",
      "Cell \u001b[1;32mIn[80], line 3\u001b[0m\n\u001b[0;32m      1\u001b[0m \u001b[38;5;66;03m# complex number ka liya \u001b[39;00m\n\u001b[0;32m      2\u001b[0m \u001b[38;5;66;03m# error show kara ga kyoki hum nahi likh sakta hai complex number ko integer ki form mai\u001b[39;00m\n\u001b[1;32m----> 3\u001b[0m x \u001b[38;5;241m=\u001b[39m \u001b[38;5;28mint\u001b[39m(\u001b[38;5;241m3\u001b[39m\u001b[38;5;241m+\u001b[39m\u001b[38;5;241m5\u001b[39mj)\n\u001b[0;32m      4\u001b[0m \u001b[38;5;28mprint\u001b[39m(x)\n",
      "\u001b[1;31mTypeError\u001b[0m: int() argument must be a string, a bytes-like object or a real number, not 'complex'"
     ]
    }
   ],
   "source": [
    "# complex number ka liya \n",
    "# error show kara ga kyoki hum nahi likh sakta hai complex number ko integer ki form mai\n",
    "x = int(3+5j)\n",
    "print(x)"
   ]
  },
  {
   "cell_type": "markdown",
   "id": "5d1d00b0-6bcd-4475-825b-85f2d8876489",
   "metadata": {},
   "source": [
    "# STRING FUNCTION"
   ]
  },
  {
   "cell_type": "code",
   "execution_count": 87,
   "id": "43d99eb4-9ba7-458e-87b7-97338d38c27c",
   "metadata": {},
   "outputs": [
    {
     "name": "stdout",
     "output_type": "stream",
     "text": [
      "2345\n",
      "<class 'str'>\n"
     ]
    }
   ],
   "source": [
    "a = str(2345)\n",
    "print(a)\n",
    "print(type(a))"
   ]
  },
  {
   "cell_type": "code",
   "execution_count": 89,
   "id": "79102327-5b5e-4a36-ae4b-c28043ec0b1a",
   "metadata": {},
   "outputs": [
    {
     "name": "stdout",
     "output_type": "stream",
     "text": [
      "23.45\n",
      "<class 'str'>\n"
     ]
    }
   ],
   "source": [
    "a = str(\"23.45\")\n",
    "print(a)\n",
    "print(type(a))"
   ]
  },
  {
   "cell_type": "markdown",
   "id": "89417ddd-864b-4d61-81e1-26aeb80aba16",
   "metadata": {},
   "source": [
    "# NOTE - AGAR APP JANA CHATA HO KI KOI FUNCTION KASA KAM KARTA HAI THO PYTHON MAI PHALA SA HI AK BUILT IN FUNCTION HA [ help() ] ISKA USE KARA HAI "
   ]
  },
  {
   "cell_type": "markdown",
   "id": "343bba45-6205-40bf-9f50-612436d34e95",
   "metadata": {},
   "source": [
    "# help() function"
   ]
  },
  {
   "cell_type": "code",
   "execution_count": 94,
   "id": "d102ff6c-3b11-461e-87f1-85654dadc0b1",
   "metadata": {},
   "outputs": [
    {
     "name": "stdout",
     "output_type": "stream",
     "text": [
      "Help on built-in function print in module builtins:\n",
      "\n",
      "print(*args, sep=' ', end='\\n', file=None, flush=False)\n",
      "    Prints the values to a stream, or to sys.stdout by default.\n",
      "\n",
      "    sep\n",
      "      string inserted between values, default a space.\n",
      "    end\n",
      "      string appended after the last value, default a newline.\n",
      "    file\n",
      "      a file-like object (stream); defaults to the current sys.stdout.\n",
      "    flush\n",
      "      whether to forcibly flush the stream.\n",
      "\n"
     ]
    }
   ],
   "source": [
    "help(print) # sabhi dital bata di kasa kam karta hai "
   ]
  },
  {
   "cell_type": "code",
   "execution_count": 96,
   "id": "44da5293-20a1-4893-b966-9b59f19c6775",
   "metadata": {},
   "outputs": [
    {
     "name": "stdout",
     "output_type": "stream",
     "text": [
      "Help on class float in module builtins:\n",
      "\n",
      "class float(object)\n",
      " |  float(x=0, /)\n",
      " |\n",
      " |  Convert a string or number to a floating-point number, if possible.\n",
      " |\n",
      " |  Methods defined here:\n",
      " |\n",
      " |  __abs__(self, /)\n",
      " |      abs(self)\n",
      " |\n",
      " |  __add__(self, value, /)\n",
      " |      Return self+value.\n",
      " |\n",
      " |  __bool__(self, /)\n",
      " |      True if self else False\n",
      " |\n",
      " |  __ceil__(self, /)\n",
      " |      Return the ceiling as an Integral.\n",
      " |\n",
      " |  __divmod__(self, value, /)\n",
      " |      Return divmod(self, value).\n",
      " |\n",
      " |  __eq__(self, value, /)\n",
      " |      Return self==value.\n",
      " |\n",
      " |  __float__(self, /)\n",
      " |      float(self)\n",
      " |\n",
      " |  __floor__(self, /)\n",
      " |      Return the floor as an Integral.\n",
      " |\n",
      " |  __floordiv__(self, value, /)\n",
      " |      Return self//value.\n",
      " |\n",
      " |  __format__(self, format_spec, /)\n",
      " |      Formats the float according to format_spec.\n",
      " |\n",
      " |  __ge__(self, value, /)\n",
      " |      Return self>=value.\n",
      " |\n",
      " |  __getnewargs__(self, /)\n",
      " |\n",
      " |  __gt__(self, value, /)\n",
      " |      Return self>value.\n",
      " |\n",
      " |  __hash__(self, /)\n",
      " |      Return hash(self).\n",
      " |\n",
      " |  __int__(self, /)\n",
      " |      int(self)\n",
      " |\n",
      " |  __le__(self, value, /)\n",
      " |      Return self<=value.\n",
      " |\n",
      " |  __lt__(self, value, /)\n",
      " |      Return self<value.\n",
      " |\n",
      " |  __mod__(self, value, /)\n",
      " |      Return self%value.\n",
      " |\n",
      " |  __mul__(self, value, /)\n",
      " |      Return self*value.\n",
      " |\n",
      " |  __ne__(self, value, /)\n",
      " |      Return self!=value.\n",
      " |\n",
      " |  __neg__(self, /)\n",
      " |      -self\n",
      " |\n",
      " |  __pos__(self, /)\n",
      " |      +self\n",
      " |\n",
      " |  __pow__(self, value, mod=None, /)\n",
      " |      Return pow(self, value, mod).\n",
      " |\n",
      " |  __radd__(self, value, /)\n",
      " |      Return value+self.\n",
      " |\n",
      " |  __rdivmod__(self, value, /)\n",
      " |      Return divmod(value, self).\n",
      " |\n",
      " |  __repr__(self, /)\n",
      " |      Return repr(self).\n",
      " |\n",
      " |  __rfloordiv__(self, value, /)\n",
      " |      Return value//self.\n",
      " |\n",
      " |  __rmod__(self, value, /)\n",
      " |      Return value%self.\n",
      " |\n",
      " |  __rmul__(self, value, /)\n",
      " |      Return value*self.\n",
      " |\n",
      " |  __round__(self, ndigits=None, /)\n",
      " |      Return the Integral closest to x, rounding half toward even.\n",
      " |\n",
      " |      When an argument is passed, work like built-in round(x, ndigits).\n",
      " |\n",
      " |  __rpow__(self, value, mod=None, /)\n",
      " |      Return pow(value, self, mod).\n",
      " |\n",
      " |  __rsub__(self, value, /)\n",
      " |      Return value-self.\n",
      " |\n",
      " |  __rtruediv__(self, value, /)\n",
      " |      Return value/self.\n",
      " |\n",
      " |  __sub__(self, value, /)\n",
      " |      Return self-value.\n",
      " |\n",
      " |  __truediv__(self, value, /)\n",
      " |      Return self/value.\n",
      " |\n",
      " |  __trunc__(self, /)\n",
      " |      Return the Integral closest to x between 0 and x.\n",
      " |\n",
      " |  as_integer_ratio(self, /)\n",
      " |      Return a pair of integers, whose ratio is exactly equal to the original float.\n",
      " |\n",
      " |      The ratio is in lowest terms and has a positive denominator.  Raise\n",
      " |      OverflowError on infinities and a ValueError on NaNs.\n",
      " |\n",
      " |      >>> (10.0).as_integer_ratio()\n",
      " |      (10, 1)\n",
      " |      >>> (0.0).as_integer_ratio()\n",
      " |      (0, 1)\n",
      " |      >>> (-.25).as_integer_ratio()\n",
      " |      (-1, 4)\n",
      " |\n",
      " |  conjugate(self, /)\n",
      " |      Return self, the complex conjugate of any float.\n",
      " |\n",
      " |  hex(self, /)\n",
      " |      Return a hexadecimal representation of a floating-point number.\n",
      " |\n",
      " |      >>> (-0.1).hex()\n",
      " |      '-0x1.999999999999ap-4'\n",
      " |      >>> 3.14159.hex()\n",
      " |      '0x1.921f9f01b866ep+1'\n",
      " |\n",
      " |  is_integer(self, /)\n",
      " |      Return True if the float is an integer.\n",
      " |\n",
      " |  ----------------------------------------------------------------------\n",
      " |  Class methods defined here:\n",
      " |\n",
      " |  __getformat__(typestr, /)\n",
      " |      You probably don't want to use this function.\n",
      " |\n",
      " |        typestr\n",
      " |          Must be 'double' or 'float'.\n",
      " |\n",
      " |      It exists mainly to be used in Python's test suite.\n",
      " |\n",
      " |      This function returns whichever of 'unknown', 'IEEE, big-endian' or 'IEEE,\n",
      " |      little-endian' best describes the format of floating-point numbers used by the\n",
      " |      C type named by typestr.\n",
      " |\n",
      " |  fromhex(string, /)\n",
      " |      Create a floating-point number from a hexadecimal string.\n",
      " |\n",
      " |      >>> float.fromhex('0x1.ffffp10')\n",
      " |      2047.984375\n",
      " |      >>> float.fromhex('-0x1p-1074')\n",
      " |      -5e-324\n",
      " |\n",
      " |  ----------------------------------------------------------------------\n",
      " |  Static methods defined here:\n",
      " |\n",
      " |  __new__(*args, **kwargs)\n",
      " |      Create and return a new object.  See help(type) for accurate signature.\n",
      " |\n",
      " |  ----------------------------------------------------------------------\n",
      " |  Data descriptors defined here:\n",
      " |\n",
      " |  imag\n",
      " |      the imaginary part of a complex number\n",
      " |\n",
      " |  real\n",
      " |      the real part of a complex number\n",
      "\n"
     ]
    }
   ],
   "source": [
    "help(float)"
   ]
  },
  {
   "cell_type": "markdown",
   "id": "f1c866ec-ce43-4e4e-ac90-51df6e9435e6",
   "metadata": {},
   "source": [
    "# input function"
   ]
  },
  {
   "cell_type": "code",
   "execution_count": 99,
   "id": "2124d9cf-3199-4bd2-b9b9-98bfa7d528e9",
   "metadata": {},
   "outputs": [],
   "source": [
    "# agar user sa input lana chata hai tho use karta hai input function ka"
   ]
  },
  {
   "cell_type": "code",
   "execution_count": 101,
   "id": "3a0aba90-a0d5-4842-b550-00e7e2a98bcf",
   "metadata": {},
   "outputs": [
    {
     "name": "stdin",
     "output_type": "stream",
     "text": [
      "enter your name vivek\n"
     ]
    },
    {
     "name": "stdout",
     "output_type": "stream",
     "text": [
      "vivek\n"
     ]
    }
   ],
   "source": [
    "x = input(\"enter your name\")\n",
    "print(x)"
   ]
  },
  {
   "cell_type": "code",
   "execution_count": 103,
   "id": "1ae708f9-54e7-4469-b12f-5fae029a7ece",
   "metadata": {},
   "outputs": [
    {
     "name": "stdin",
     "output_type": "stream",
     "text": [
      "enter your name Vivek Rastogi\n"
     ]
    },
    {
     "name": "stdout",
     "output_type": "stream",
     "text": [
      "hello Vivek Rastogi\n"
     ]
    }
   ],
   "source": [
    "x = input(\"enter your name\")\n",
    "print(\"hello\" , x)"
   ]
  },
  {
   "cell_type": "code",
   "execution_count": 105,
   "id": "7e7d5988-6c03-4a01-8a48-d47674c275cb",
   "metadata": {},
   "outputs": [
    {
     "name": "stdin",
     "output_type": "stream",
     "text": [
      "enter your name Vivek Rastogi\n"
     ]
    },
    {
     "name": "stdout",
     "output_type": "stream",
     "text": [
      "hello Vivek Rastogi\n"
     ]
    },
    {
     "name": "stdin",
     "output_type": "stream",
     "text": [
      "enter you age 20\n"
     ]
    },
    {
     "name": "stdout",
     "output_type": "stream",
     "text": [
      "your age is 20\n"
     ]
    }
   ],
   "source": [
    "# agar huma 2 ak sath likhna ho thomasa likha ga \n",
    "x = input(\"enter your name\")\n",
    "print(\"hello\" , x)\n",
    "y = input(\"enter you age\")\n",
    "print(\"your age is\" , y)"
   ]
  },
  {
   "cell_type": "markdown",
   "id": "2a839ee1-372a-4baa-b582-c5fa582086ef",
   "metadata": {},
   "source": [
    "# Day 4th in paython class"
   ]
  },
  {
   "cell_type": "markdown",
   "id": "fa25a787-ff37-4b72-b6b0-cd2af2d8a3e0",
   "metadata": {},
   "source": [
    "  #  First - Conditional statement"
   ]
  },
  {
   "cell_type": "markdown",
   "id": "bccbeb6b-508b-4672-bdd8-ab4fa188db3c",
   "metadata": {},
   "source": [
    "if condition"
   ]
  },
  {
   "cell_type": "markdown",
   "id": "c84c5eab-e0a5-4659-a0b8-8d9a3797f2e9",
   "metadata": {},
   "source": [
    "# write a program to calculate the perserntage of a student in the subject maths, science, social, english, hindi.\n"
   ]
  },
  {
   "cell_type": "code",
   "execution_count": 25,
   "id": "951b0be3-11f0-4517-98d0-897d3cf87df3",
   "metadata": {},
   "outputs": [
    {
     "name": "stdin",
     "output_type": "stream",
     "text": [
      "enter the name of the student Vivek Rastogi\n",
      "enter the marks score in english 98\n",
      "enter the marks score in hindi 98\n",
      "enter the marks score in maths 100\n",
      "enter the marks score in science 99\n",
      "enter the marks score in socila 98\n"
     ]
    },
    {
     "name": "stdout",
     "output_type": "stream",
     "text": [
      "The percentage scored by vivek rastogi is :  98.6\n"
     ]
    }
   ],
   "source": [
    "x = input(\"enter the name of the student\")\n",
    "a = int(input(\"enter the marks score in english\")) #yha pr int is liya hai kyoki agar int nahi lata tho ya string ki thara work karta or hum arithmatic operationnahi kar sakta tha \n",
    "b = int(input(\"enter the marks score in hindi\"))\n",
    "c = int(input(\"enter the marks score in maths\"))\n",
    "d = int(input(\"enter the marks score in science\"))\n",
    "e = int(input(\"enter the marks score in socila\"))\n",
    "n = ((a+b+c+d+e)/500)*100\n",
    "print(\"The percentage scored by vivek rastogi is : \" , n)"
   ]
  },
  {
   "cell_type": "code",
   "execution_count": 55,
   "id": "cbe9cbda-2950-417c-80be-7594203d2a66",
   "metadata": {},
   "outputs": [
    {
     "name": "stdin",
     "output_type": "stream",
     "text": [
      " Enter the percentage scored by student 98\n"
     ]
    },
    {
     "name": "stdout",
     "output_type": "stream",
     "text": [
      "A grade\n"
     ]
    }
   ],
   "source": [
    "# if percenrage is above 90 - assign A grade\n",
    "# if percenrage is above 75 - assign B grade\n",
    "# if percenrage is above 65 - assign C grade\n",
    "a = int(input(\" Enter the percentage scored by student\"))\n",
    "\n",
    "if a >= 90 :\n",
    "    print(\"A grade\")\n",
    "if a < 90 and a >= 75:\n",
    "    print(\"B grade\")\n",
    "if a < 75 and a >= 65:\n",
    "    print(\"C grade\")\n"
   ]
  },
  {
   "cell_type": "markdown",
   "id": "d3555576-16fb-4b7c-a879-12ca83079140",
   "metadata": {},
   "source": [
    "# if else condition"
   ]
  },
  {
   "cell_type": "markdown",
   "id": "8e8ce8e2-b7d5-433d-bbde-c5b766e1eda8",
   "metadata": {},
   "source": [
    "# write a program to display hellow if number enterd by the user is a multipal of 5 else print bye"
   ]
  },
  {
   "cell_type": "code",
   "execution_count": 64,
   "id": "28ddce3f-3beb-4cf1-8bd0-69459630cfba",
   "metadata": {},
   "outputs": [
    {
     "name": "stdin",
     "output_type": "stream",
     "text": [
      "Enter your number 80\n"
     ]
    },
    {
     "name": "stdout",
     "output_type": "stream",
     "text": [
      "hello\n"
     ]
    }
   ],
   "source": [
    "a = int(input(\"Enter your number\"))\n",
    "if a%5==0:\n",
    "    print(\"hello\")\n",
    "else:\n",
    "    print(\"bye\")\n"
   ]
  },
  {
   "cell_type": "code",
   "execution_count": 70,
   "id": "3aabe7f5-0c01-4da7-a1d1-0d3270d93566",
   "metadata": {},
   "outputs": [
    {
     "name": "stdin",
     "output_type": "stream",
     "text": [
      "Enter your age 66\n"
     ]
    },
    {
     "name": "stdout",
     "output_type": "stream",
     "text": [
      "you are eligibale\n"
     ]
    }
   ],
   "source": [
    "# voting eliglibility\n",
    "a = int(input(\"Enter your age\"))\n",
    "if a >= 18:\n",
    "    print(\"you are eligibale\")\n",
    "else:\n",
    "    print(\"you are not eligibal\")"
   ]
  },
  {
   "cell_type": "code",
   "execution_count": 72,
   "id": "a6113885-0d2c-4a90-b722-bb606428ef1a",
   "metadata": {},
   "outputs": [
    {
     "name": "stdin",
     "output_type": "stream",
     "text": [
      "Enter the number -78\n"
     ]
    },
    {
     "name": "stdout",
     "output_type": "stream",
     "text": [
      "number is negative\n"
     ]
    }
   ],
   "source": [
    "# choose wther the number is posative o not\n",
    "a = int(input(\"Enter the number\"))\n",
    "if a > 0 :\n",
    "    print(\"number is posative\")\n",
    "else:\n",
    "    print(\"number is negative\")"
   ]
  },
  {
   "cell_type": "markdown",
   "id": "f313fc74-c9e2-43dd-bbaf-5aa1eb0ec950",
   "metadata": {},
   "source": [
    "# if - elif - else staement"
   ]
  },
  {
   "cell_type": "code",
   "execution_count": 85,
   "id": "40949753-63d2-4918-9be6-a00de4555b97",
   "metadata": {},
   "outputs": [
    {
     "data": {
      "text/plain": [
       "' RECOARD NOT FOUND '"
      ]
     },
     "execution_count": 85,
     "metadata": {},
     "output_type": "execute_result"
    }
   ],
   "source": [
    "# accept the city and print its monument\n",
    "\"\"\" DELHI - RED FORT \"\"\"\n",
    "\"\"\" AGRA - TAJ MAHAL \"\"\"\n",
    "\"\"\" JAIPUR - JALMAHAL \"\"\"\n",
    "\"\"\" UTTAR PRADESH - RAM MANDIR \"\"\"\n",
    "\"\"\" HYDERABAD - CHARMINAR \"\"\"\n",
    "\"\"\" RECOARD NOT FOUND \"\"\"\n",
    "\n"
   ]
  },
  {
   "cell_type": "code",
   "execution_count": 99,
   "id": "e23d107e-637a-418d-81a7-9627d143406e",
   "metadata": {},
   "outputs": [
    {
     "name": "stdin",
     "output_type": "stream",
     "text": [
      "enter your city Uttar Pradesh\n"
     ]
    },
    {
     "name": "stdout",
     "output_type": "stream",
     "text": [
      "the monument in uttar pradesh is Ram Mandir\n"
     ]
    }
   ],
   "source": [
    "\n",
    "city = input(\"enter your city\")\n",
    "if city == \"Delhi\":\n",
    "    print(\"the monument in delhi is redfort\")\n",
    "elif city==\"Agra\":\n",
    "    print(\"the monument in agara is tajmahal\")\n",
    "elif city == \"Jaipur\":\n",
    "    print(\"the monument in jaipur is jalmahal\")\n",
    "elif city == \"Uttar Pradesh\":\n",
    "    print(\"the monument in uttar pradesh is Ram Mandir\")\n",
    "elif city == \"Hyderabad\":\n",
    "    print(\"the mponument is hyderabad is charminar\")\n",
    "else:\n",
    "    print(\"record not found\")\n",
    "\n"
   ]
  },
  {
   "cell_type": "markdown",
   "id": "ccd2c850-f6db-443e-b386-6a5e31324aad",
   "metadata": {},
   "source": [
    "# day - 5"
   ]
  },
  {
   "cell_type": "markdown",
   "id": "ef76f05b-3e69-46ef-9c29-7b529d165ab0",
   "metadata": {},
   "source": [
    "# concept of loop"
   ]
  },
  {
   "cell_type": "markdown",
   "id": "0cafa919-1dd3-4eac-b146-e6f95f868092",
   "metadata": {},
   "source": [
    "# while loop"
   ]
  },
  {
   "cell_type": "code",
   "execution_count": 3,
   "id": "6ba702ed-a8ef-4127-8be9-54e3cdfeacf3",
   "metadata": {},
   "outputs": [
    {
     "name": "stdout",
     "output_type": "stream",
     "text": [
      "1\n",
      "2\n",
      "3\n",
      "4\n",
      "5\n",
      "6\n",
      "7\n",
      "8\n",
      "9\n",
      "10\n",
      "11\n",
      "12\n",
      "13\n",
      "14\n",
      "15\n",
      "16\n",
      "17\n",
      "18\n",
      "19\n",
      "20\n",
      "21\n",
      "22\n",
      "23\n"
     ]
    }
   ],
   "source": [
    "# program to display number from 1 to 23\n",
    "i = 1\n",
    "n = 23\n",
    "while i<=n:\n",
    "    print(i)\n",
    "    i = i+1"
   ]
  },
  {
   "cell_type": "code",
   "execution_count": 8,
   "id": "95dbe052-a6c0-4c75-ba4f-230cb35862bf",
   "metadata": {},
   "outputs": [
    {
     "name": "stdin",
     "output_type": "stream",
     "text": [
      "take a number from the user 3\n"
     ]
    },
    {
     "name": "stdout",
     "output_type": "stream",
     "text": [
      "3\n",
      "6\n",
      "9\n",
      "12\n",
      "15\n",
      "18\n",
      "21\n",
      "24\n",
      "27\n",
      "30\n",
      "the tabel of given number\n"
     ]
    }
   ],
   "source": [
    "# take a numer from the user and make a multiplication tabel\n",
    "x = int(input(\"take a number from the user\"))\n",
    "a = 1\n",
    "while a<=10:\n",
    "    print(x*a)\n",
    "    a = a+1\n",
    "print(\"the tabel of given number\")\n"
   ]
  },
  {
   "cell_type": "markdown",
   "id": "262344bb-5ed8-45df-90f1-fc6da80a4402",
   "metadata": {},
   "source": [
    "# while loop infine tak bhi kam karta hai"
   ]
  },
  {
   "cell_type": "code",
   "execution_count": 15,
   "id": "4f2f0511-8156-4140-a0d8-be2fa6e87f4d",
   "metadata": {},
   "outputs": [],
   "source": [
    "# ya hai infinite ka example # hata kar run ho jaye ga\n",
    "#age = 32\n",
    "#while age>32:\n",
    "    #print(\"you can vote\")"
   ]
  },
  {
   "cell_type": "code",
   "execution_count": 19,
   "id": "5c80e5c5-def5-46e8-9542-72965d126714",
   "metadata": {},
   "outputs": [
    {
     "name": "stdout",
     "output_type": "stream",
     "text": [
      "hello vivek rastogi\n",
      "hello vivek rastogi\n",
      "hello vivek rastogi\n",
      "hello vivek rastogi\n",
      "hello vivek rastogi\n",
      "hello vivek rastogi\n",
      "hello vivek rastogi\n",
      "hello vivek rastogi\n",
      "hello vivek rastogi\n",
      "hello vivek rastogi\n",
      "hello vivek rastogi\n",
      "hello vivek rastogi\n",
      "hello vivek rastogi\n",
      "hello vivek rastogi\n",
      "hello vivek rastogi\n",
      "hello vivek rastogi\n",
      "hello vivek rastogi\n",
      "hello vivek rastogi\n",
      "hello vivek rastogi\n",
      "hello vivek rastogi\n",
      "hello vivek rastogi\n",
      "hello vivek rastogi\n",
      "hello vivek rastogi\n",
      "hello vivek rastogi\n",
      "hello vivek rastogi\n"
     ]
    }
   ],
   "source": [
    "count = 0\n",
    "while count<25:\n",
    "    count = count+1\n",
    "    print(\"hello vivek rastogi\")"
   ]
  },
  {
   "cell_type": "markdown",
   "id": "688acdc2-6346-4fa4-bed3-6ced753c784a",
   "metadata": {},
   "source": [
    "# using else statement in the while loop \n"
   ]
  },
  {
   "cell_type": "code",
   "execution_count": 27,
   "id": "aec23148-9396-4bcd-92a9-1af9e2f2a39a",
   "metadata": {},
   "outputs": [
    {
     "name": "stdout",
     "output_type": "stream",
     "text": [
      "hello vivek rastogi\n",
      "hello vivek rastogi\n",
      "hello vivek rastogi\n",
      "hello vivek rastogi\n",
      "hello vivek rastogi\n",
      "hello vivek rastogi\n",
      "hello vivek rastogi\n",
      "hello vivek rastogi\n",
      "hello vivek rastogi\n",
      "hello vivek rastogi\n",
      "hello vivek rastogi\n",
      "hello vivek rastogi\n",
      "hello vivek rastogi\n",
      "hello vivek rastogi\n",
      "hello vivek rastogi\n",
      "hello vivek rastogi\n",
      "hello vivek rastogi\n",
      "hello vivek rastogi\n",
      "hello vivek rastogi\n",
      "hello vivek rastogi\n",
      "hello vivek rastogi\n",
      "hello vivek rastogi\n",
      "hello vivek rastogi\n",
      "hello vivek rastogi\n",
      "hello vivek rastogi\n",
      "this is the else bolock\n"
     ]
    }
   ],
   "source": [
    "count = 0\n",
    "while count<25:\n",
    "    count = count+1\n",
    "    print(\"hello vivek rastogi\")\n",
    "else:\n",
    "    print(\"this is the else bolock\")"
   ]
  },
  {
   "cell_type": "code",
   "execution_count": 29,
   "id": "b6cf4c3e-779f-4b21-9aef-28ba6d5ef308",
   "metadata": {},
   "outputs": [],
   "source": [
    "# yha pr hamara nester if condition rh agye thi isma hum kuch nahi karta bss is statement ka andar is statement likhdata hai \n"
   ]
  },
  {
   "cell_type": "markdown",
   "id": "9a6f86bf-9399-43a2-b259-4c6c8f4d90f1",
   "metadata": {},
   "source": [
    "# for loop"
   ]
  },
  {
   "cell_type": "code",
   "execution_count": 34,
   "id": "d230996b-738f-43a0-aa67-0013afe075b9",
   "metadata": {},
   "outputs": [
    {
     "name": "stdout",
     "output_type": "stream",
     "text": [
      "banana\n",
      "mango\n",
      "papaya\n"
     ]
    }
   ],
   "source": [
    "# isma hum chata hai ki jasa ya hamara oak line mai sara fruits hai inha mai alag alag line mai chata hu tho is thara kara ga jasa code mai hai \n",
    "fruits = [\"banana\" , \"mango\" , \"papaya\"]\n",
    "for x in fruits:\n",
    "    print(x)"
   ]
  },
  {
   "cell_type": "markdown",
   "id": "7e47bd09-5a75-4de2-8578-16951fd844be",
   "metadata": {},
   "source": [
    "# looping thorug a string"
   ]
  },
  {
   "cell_type": "code",
   "execution_count": 37,
   "id": "7369b344-dcd5-42b7-aae6-f2cc9bf5b0ce",
   "metadata": {},
   "outputs": [
    {
     "name": "stdout",
     "output_type": "stream",
     "text": [
      "v\n",
      "i\n",
      "v\n",
      "e\n",
      "k\n",
      " \n",
      "r\n",
      "a\n",
      "s\n",
      "t\n",
      "o\n",
      "g\n",
      "i\n"
     ]
    }
   ],
   "source": [
    "for x in \"vivek rastogi\":\n",
    "    print(x)"
   ]
  },
  {
   "cell_type": "markdown",
   "id": "a065a5fe-8bf2-4cde-838f-1b97a1a9b5e2",
   "metadata": {},
   "source": [
    "# range system in loop"
   ]
  },
  {
   "cell_type": "code",
   "execution_count": 42,
   "id": "6a161b7c-e860-4bab-b554-e6ef2ec3eb30",
   "metadata": {},
   "outputs": [
    {
     "name": "stdout",
     "output_type": "stream",
     "text": [
      "0\n",
      "1\n",
      "2\n",
      "3\n",
      "4\n",
      "5\n",
      "6\n",
      "7\n",
      "8\n",
      "9\n",
      "10\n",
      "11\n",
      "12\n",
      "13\n",
      "14\n",
      "15\n",
      "16\n",
      "17\n",
      "18\n",
      "19\n",
      "20\n",
      "21\n",
      "22\n"
     ]
    }
   ],
   "source": [
    "# ya 22 tak hi print kara ga kyoki rangr hamari[ n-1] hoti hai\n",
    "for x in range (23):  \n",
    "    print(x)\n"
   ]
  },
  {
   "cell_type": "code",
   "execution_count": 44,
   "id": "b69c505f-da08-4c20-a073-6fc3dd3b8475",
   "metadata": {},
   "outputs": [
    {
     "name": "stdout",
     "output_type": "stream",
     "text": [
      "6\n",
      "7\n",
      "8\n",
      "9\n",
      "10\n",
      "11\n",
      "12\n",
      "13\n",
      "14\n",
      "15\n",
      "16\n",
      "17\n",
      "18\n",
      "19\n",
      "20\n",
      "21\n",
      "22\n",
      "23\n"
     ]
    }
   ],
   "source": [
    "# agar ham chat hai ki ya kisi particular numbe sa star ho tho asa kara ga\n",
    "for x in range(6,24):\n",
    "    print(x)"
   ]
  },
  {
   "cell_type": "markdown",
   "id": "afc2b8bb-a517-4807-afa9-bc5e58b9d30a",
   "metadata": {},
   "source": [
    "# Day 6"
   ]
  },
  {
   "cell_type": "markdown",
   "id": "833faffa-8031-4564-a383-05bbe553e94f",
   "metadata": {},
   "source": [
    "# user defined function"
   ]
  },
  {
   "cell_type": "markdown",
   "id": "1575f6c8-7a0c-4ec5-af5a-5f6bd1819ad0",
   "metadata": {},
   "source": [
    "# Creating and Calling a User Defined Function"
   ]
  },
  {
   "cell_type": "code",
   "execution_count": 16,
   "id": "e74caa16-92c8-4300-9f09-5039409b1787",
   "metadata": {},
   "outputs": [
    {
     "name": "stdout",
     "output_type": "stream",
     "text": [
      "hello vivek\n",
      "whats your class\n"
     ]
    }
   ],
   "source": [
    "def my_function(): # function ko define karna ka liokhi gye hai line\n",
    "    print(\"hello vivek\")\n",
    "    print(\"whats your class\")\n",
    "my_function() # function ko call karna ka likhi gye hai ya line"
   ]
  },
  {
   "cell_type": "markdown",
   "id": "24022993-2d6b-476b-a173-2e17e2127582",
   "metadata": {},
   "source": [
    "# calling a function"
   ]
  },
  {
   "cell_type": "code",
   "execution_count": 19,
   "id": "3f2e5560-b8de-479a-88e4-f1d15ab837af",
   "metadata": {},
   "outputs": [
    {
     "name": "stdout",
     "output_type": "stream",
     "text": [
      "hello vivek\n",
      "whats your class\n"
     ]
    }
   ],
   "source": [
    "my_function()"
   ]
  },
  {
   "cell_type": "markdown",
   "id": "6fa01220-d6ac-4f43-8b8c-0467e5ea008a",
   "metadata": {},
   "source": [
    "# making a result of the student"
   ]
  },
  {
   "cell_type": "code",
   "execution_count": 26,
   "id": "9b002c39-7861-4864-8093-489dd3edadc1",
   "metadata": {},
   "outputs": [
    {
     "name": "stdout",
     "output_type": "stream",
     "text": [
      "conact detail of school\n",
      "Aligarh public school\n",
      "siyana(bulandsharah)\n",
      "9719334172\n"
     ]
    }
   ],
   "source": [
    "def contect():\n",
    "    print(\"conact detail of school\")\n",
    "    print(\"Aligarh public school\")\n",
    "    print(\"siyana(bulandsharah)\")\n",
    "    print(\"9719334172\")\n",
    "contect() # ya detail hama sab mail likhni hai ab iska bad hum user sa sab subject ka number langa next code mai kar rakha hai"
   ]
  },
  {
   "cell_type": "code",
   "execution_count": 32,
   "id": "28d79f3c-c977-4894-9cd6-b07f27e08e4c",
   "metadata": {},
   "outputs": [
    {
     "name": "stdin",
     "output_type": "stream",
     "text": [
      "enter the name of student Vivek Rastogi\n",
      "enter the number of maths 99\n",
      "enter the number of science 98\n",
      "enter the number of english 97\n"
     ]
    },
    {
     "name": "stdout",
     "output_type": "stream",
     "text": [
      "conact detail of school\n",
      "Aligarh public school\n",
      "siyana(bulandsharah)\n",
      "9719334172\n"
     ]
    },
    {
     "name": "stdin",
     "output_type": "stream",
     "text": [
      "enter the name of student viney\n",
      "enter the number of maths 98\n",
      "enter the number of science 00\n",
      "enter the number of english 89\n"
     ]
    },
    {
     "name": "stdout",
     "output_type": "stream",
     "text": [
      "conact detail of school\n",
      "Aligarh public school\n",
      "siyana(bulandsharah)\n",
      "9719334172\n"
     ]
    },
    {
     "name": "stdin",
     "output_type": "stream",
     "text": [
      "enter the name of student tushar\n",
      "enter the number of maths 99\n",
      "enter the number of science 90\n",
      "enter the number of english 98\n"
     ]
    },
    {
     "name": "stdout",
     "output_type": "stream",
     "text": [
      "conact detail of school\n",
      "Aligarh public school\n",
      "siyana(bulandsharah)\n",
      "9719334172\n"
     ]
    },
    {
     "name": "stdin",
     "output_type": "stream",
     "text": [
      "enter the name of student amit\n",
      "enter the number of maths 90\n",
      "enter the number of science 988\n",
      "enter the number of english 99\n"
     ]
    },
    {
     "name": "stdout",
     "output_type": "stream",
     "text": [
      "conact detail of school\n",
      "Aligarh public school\n",
      "siyana(bulandsharah)\n",
      "9719334172\n"
     ]
    }
   ],
   "source": [
    "for i in range(4):\n",
    "    a = input(\"enter the name of student\")\n",
    "    b = int(input(\"enter the number of maths\"))\n",
    "    c = int(input(\"enter the number of science\"))\n",
    "    d = int(input(\"enter the number of english\"))\n",
    "    contect()"
   ]
  },
  {
   "cell_type": "code",
   "execution_count": 57,
   "id": "94279af5-76af-44d9-96c8-55496f002880",
   "metadata": {},
   "outputs": [
    {
     "name": "stdin",
     "output_type": "stream",
     "text": [
      "enter the name of student Vivek Rastogi\n",
      "enter the number of maths 99\n",
      "enter the number of science 90\n",
      "enter the number of english 98\n"
     ]
    },
    {
     "name": "stdout",
     "output_type": "stream",
     "text": [
      "95.66666666666667\n",
      "\n",
      "conact detail of school\n",
      "Aligarh public school\n",
      "siyana(bulandsharah)\n",
      "9719334172\n"
     ]
    },
    {
     "name": "stdin",
     "output_type": "stream",
     "text": [
      "enter the name of student Shristha Rastogi\n",
      "enter the number of maths 89\n",
      "enter the number of science 89\n",
      "enter the number of english 90\n"
     ]
    },
    {
     "name": "stdout",
     "output_type": "stream",
     "text": [
      "89.33333333333333\n",
      "\n",
      "conact detail of school\n",
      "Aligarh public school\n",
      "siyana(bulandsharah)\n",
      "9719334172\n"
     ]
    }
   ],
   "source": [
    "#  agar mai upar walacode mai percentage nikalna chaue tho ya kara ga\n",
    "for i in range(2):\n",
    "    a = input(\"enter the name of student\")\n",
    "    b = int(input(\"enter the number of maths\"))\n",
    "    c = int(input(\"enter the number of science\"))\n",
    "    d = int(input(\"enter the number of english\"))\n",
    "    n = print(((b+c+d)/300)*100)\n",
    "    print()\n",
    "    contect()\n"
   ]
  },
  {
   "cell_type": "markdown",
   "id": "140ad024-edd3-4f08-a049-eb55f49f82b7",
   "metadata": {},
   "source": [
    "# Arguments"
   ]
  },
  {
   "cell_type": "markdown",
   "id": "9be1ad39-582f-432f-8f41-ae66a5ad6410",
   "metadata": {},
   "source": [
    "# ARGUMENT ya kuch bhi nahi hsi bss jo haman akhali brackit chora tha agar unka andar kuch likh da tho wo hota hai argument\n"
   ]
  },
  {
   "cell_type": "code",
   "execution_count": 77,
   "id": "85a87f52-4dfe-4987-9408-5228c1488a6b",
   "metadata": {},
   "outputs": [
    {
     "name": "stdout",
     "output_type": "stream",
     "text": [
      "vivek Rastogi\n",
      "shristha Rastogi\n",
      "manoj kumar Rastogi\n"
     ]
    }
   ],
   "source": [
    "def my_function(fname ):\n",
    "    print(fname +  \"Rastogi\")\n",
    "my_function(\"vivek\" \" \")\n",
    "my_function(\"shristha\" \" \")\n",
    "my_function(\"manoj kumar\" \" \")"
   ]
  },
  {
   "cell_type": "code",
   "execution_count": 81,
   "id": "85fb1cf7-ab65-41ec-bc02-73805a1fa531",
   "metadata": {},
   "outputs": [
    {
     "name": "stdout",
     "output_type": "stream",
     "text": [
      "shristha Rastogi\n",
      "manoj kumar Rastogi\n"
     ]
    }
   ],
   "source": [
    "my_function(\"shristha\" \" \")\n",
    "my_function(\"manoj kumar\" \" \")"
   ]
  },
  {
   "cell_type": "markdown",
   "id": "e6457c9b-2ed7-47e1-a5b9-d9f0200f8425",
   "metadata": {},
   "source": [
    " # NUMBER OF ARGUMENT"
   ]
  },
  {
   "cell_type": "code",
   "execution_count": 86,
   "id": "3dbc99ae-c275-418c-98f4-281b23dbff33",
   "metadata": {},
   "outputs": [
    {
     "name": "stdout",
     "output_type": "stream",
     "text": [
      "vivek rastogi\n"
     ]
    }
   ],
   "source": [
    "def my_function(fname, lname):\n",
    "    print(fname+ \" \" + lname)\n",
    "my_function(\"vivek\" , \"rastogi\")\n",
    "    "
   ]
  },
  {
   "cell_type": "code",
   "execution_count": 99,
   "id": "409e5df9-2c0a-4414-ba14-2879e0f77c8e",
   "metadata": {},
   "outputs": [
    {
     "name": "stdout",
     "output_type": "stream",
     "text": [
      "shristha rastogi\n",
      "manoj kumar rastogi\n"
     ]
    }
   ],
   "source": [
    "my_function(\"shristha\" , \"rastogi\")\n",
    "my_function(\"manoj kumar\" , \"rastogi\")"
   ]
  },
  {
   "cell_type": "markdown",
   "id": "d4b80703-69bc-4795-a4c2-94ade22c93a5",
   "metadata": {},
   "source": [
    "# CHECK WHETER THE NUMBER FALLS WITHIN A GIVIN RANGE"
   ]
  },
  {
   "cell_type": "code",
   "execution_count": 110,
   "id": "06c722e3-85b4-4ba5-8b54-90c1d68a5c66",
   "metadata": {},
   "outputs": [
    {
     "name": "stdout",
     "output_type": "stream",
     "text": [
      "number is not in range.\n"
     ]
    }
   ],
   "source": [
    "def test_range(n):\n",
    "    if n in range(3,9):\n",
    "        print(\"number in range\" , n)\n",
    "    else:\n",
    "        print(\"number is not in range.\")\n",
    "test_range(10)"
   ]
  },
  {
   "cell_type": "markdown",
   "id": "fd93a2f5-93df-4ac3-976d-510382e6408c",
   "metadata": {},
   "source": [
    "# Doc string"
   ]
  },
  {
   "cell_type": "code",
   "execution_count": 117,
   "id": "ee418dbd-b242-44c1-ad46-23d54bcd0fec",
   "metadata": {},
   "outputs": [
    {
     "name": "stdout",
     "output_type": "stream",
     "text": [
      "Vivek Rastogi\n",
      "viney sharma\n"
     ]
    }
   ],
   "source": [
    "def learn():\n",
    "    \"\"\" this function does noting except printing\"\"\"\n",
    "    print(\"Vivek Rastogi\")\n",
    "    print(\"viney sharma\")\n",
    "learn()"
   ]
  },
  {
   "cell_type": "code",
   "execution_count": 123,
   "id": "72c253f0-0d1d-4064-9477-45f4e4f8997f",
   "metadata": {},
   "outputs": [
    {
     "name": "stdout",
     "output_type": "stream",
     "text": [
      "odd\n"
     ]
    }
   ],
   "source": [
    "# A simple python function check weather X is even or odd\n",
    "def evenodd(x):\n",
    "    if(x%2 == 0):\n",
    "        print(\"even\")\n",
    "    else:\n",
    "        print(\"odd\")\n",
    "evenodd(7)"
   ]
  },
  {
   "cell_type": "markdown",
   "id": "42873756-e897-4e57-b851-d2f425dff203",
   "metadata": {},
   "source": [
    "# DEFAULT ARGUMENT"
   ]
  },
  {
   "cell_type": "markdown",
   "id": "2bc2b672-9095-42b5-8b56-a697c22f06dd",
   "metadata": {},
   "source": [
    "# A default argument is aparameter that assign a default value if a value is nat provided in the function call for the argument > the following example illustrates default arguments"
   ]
  },
  {
   "cell_type": "code",
   "execution_count": 129,
   "id": "17a702f3-7ea4-4e64-ad64-f12899c8f3a3",
   "metadata": {},
   "outputs": [
    {
     "name": "stdout",
     "output_type": "stream",
     "text": [
      "x:  20\n",
      "y:  50\n"
     ]
    }
   ],
   "source": [
    "#pyhton program to demonstrate\n",
    "# default arguments\n",
    "def myfun(x , y = 50):\n",
    "    print(\"x: \", x)\n",
    "    print(\"y: \", y)\n",
    "myfun(20)"
   ]
  },
  {
   "cell_type": "code",
   "execution_count": 147,
   "id": "980e5c20-1372-44e5-8805-9f9754fae01b",
   "metadata": {},
   "outputs": [],
   "source": [
    "# write a program to calculate electricity bill\n",
    "\n",
    "if 500 unit = pay Rs 5 for each unit\n",
    "if 700 unit = pay Rs 10 for each unit\n",
    "if 1000 unit = pay Rs 15 for each unit\n",
    "if more than 1000 unit = pay Rs 20 for each unit\n",
    " "
   ]
  },
  {
   "cell_type": "code",
   "execution_count": null,
   "id": "eb6c54fd-13ae-4aed-a0e5-c177851bcbb0",
   "metadata": {},
   "outputs": [],
   "source": [
    "def electricity_bill(n):\n",
    "    if n<= 500:\n",
    "        print(\"your bill is RS:\" , n*5)\n",
    "    elif n>500 and n<= 700:\n",
    "\n",
    "        print(\"your bill is Rs:\" , n*10)\n",
    "    elif n>700 and nv\n",
    "    <= 1000:\n",
    "        print(\"your bill is Rs:\" , n*15)\n",
    "    elif n>100:\n",
    "        print(\"your electric bill is Rs:\" , n*20)\n",
    "        "
   ]
  },
  {
   "cell_type": "code",
   "execution_count": 50,
   "id": "b158077d-3252-476a-8f31-1f66243ab455",
   "metadata": {},
   "outputs": [],
   "source": [
    "def instruction():\n",
    "    print(\"last day of paying the bill is 20 feb 2025\")\n",
    "    print(\"after 20 feb 2025 you need to pay 1000\")\n",
    "    print(\"electric office siyana\")\n",
    "    "
   ]
  },
  {
   "cell_type": "code",
   "execution_count": 52,
   "id": "00e0b3f0-bfb7-43de-b9a5-0c13c0297af6",
   "metadata": {},
   "outputs": [
    {
     "name": "stdin",
     "output_type": "stream",
     "text": [
      "enter the name of costumer Vivek Rastogi\n",
      "enter the unit of electicity you used 650\n"
     ]
    },
    {
     "name": "stdout",
     "output_type": "stream",
     "text": [
      "your bill is Rs: 6500\n",
      "\n",
      "last day of paying the bill is 20 feb 2025\n",
      "after 20 feb 2025 you need to pay 1000\n",
      "electric office siyana\n"
     ]
    },
    {
     "name": "stdin",
     "output_type": "stream",
     "text": [
      "enter the name of costumer Shristha\n",
      "enter the unit of electicity you used 800\n"
     ]
    },
    {
     "name": "stdout",
     "output_type": "stream",
     "text": [
      "your bill is Rs: 12000\n",
      "\n",
      "last day of paying the bill is 20 feb 2025\n",
      "after 20 feb 2025 you need to pay 1000\n",
      "electric office siyana\n"
     ]
    },
    {
     "name": "stdin",
     "output_type": "stream",
     "text": [
      "enter the name of costumer Manoj Kumar Rastogi\n",
      "enter the unit of electicity you used 600\n"
     ]
    },
    {
     "name": "stdout",
     "output_type": "stream",
     "text": [
      "your bill is Rs: 6000\n",
      "\n",
      "last day of paying the bill is 20 feb 2025\n",
      "after 20 feb 2025 you need to pay 1000\n",
      "electric office siyana\n"
     ]
    }
   ],
   "source": [
    "for i in range(3):\n",
    "    a = input(\"enter the name of costumer\")\n",
    "    n = int(input(\"enter the unit of electicity you used\"))\n",
    "    electricity_bill(n)\n",
    "    print()\n",
    "    instruction()"
   ]
  },
  {
   "cell_type": "code",
   "execution_count": null,
   "id": "8f606a3c-a177-4fa4-88c1-47dd95a659ea",
   "metadata": {},
   "outputs": [],
   "source": []
  }
 ],
 "metadata": {
  "kernelspec": {
   "display_name": "Python 3 (ipykernel)",
   "language": "python",
   "name": "python3"
  },
  "language_info": {
   "codemirror_mode": {
    "name": "ipython",
    "version": 3
   },
   "file_extension": ".py",
   "mimetype": "text/x-python",
   "name": "python",
   "nbconvert_exporter": "python",
   "pygments_lexer": "ipython3",
   "version": "3.12.7"
  }
 },
 "nbformat": 4,
 "nbformat_minor": 5
}
