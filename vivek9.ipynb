{
 "cells": [
  {
   "cell_type": "markdown",
   "id": "9d5537df-fed6-475b-bec4-b750a1e20ac2",
   "metadata": {},
   "source": [
    "# Day 9"
   ]
  },
  {
   "cell_type": "markdown",
   "id": "755af0b4-8e4e-46e2-b4eb-eab763457319",
   "metadata": {},
   "source": [
    "# Concept of tuple"
   ]
  },
  {
   "cell_type": "markdown",
   "id": "fe4f1293-72bb-4463-8409-bed5dcf01316",
   "metadata": {},
   "source": [
    "creating a tuple"
   ]
  },
  {
   "cell_type": "code",
   "execution_count": 7,
   "id": "8b14dbe2-91ad-4d60-8714-3766ec34df5f",
   "metadata": {},
   "outputs": [
    {
     "name": "stdout",
     "output_type": "stream",
     "text": [
      "(1, 3, 5, 6)\n",
      "<class 'tuple'>\n"
     ]
    }
   ],
   "source": [
    "my_tuple = (1, 3, 5, 6)\n",
    "print(my_tuple)\n",
    "print(type(my_tuple))"
   ]
  },
  {
   "cell_type": "markdown",
   "id": "e0f58a73-a1b2-4485-b753-fd0e1a92b6f0",
   "metadata": {},
   "source": [
    "# tuple with mixed data type"
   ]
  },
  {
   "cell_type": "code",
   "execution_count": 10,
   "id": "c0337213-601b-4c03-a583-1c676b0caa0f",
   "metadata": {},
   "outputs": [
    {
     "name": "stdout",
     "output_type": "stream",
     "text": [
      "('vivek', 23, 45.6, 87.9, True, (4+3j))\n"
     ]
    }
   ],
   "source": [
    "my_tuple = (\"vivek\" , 23 , 45.6, 87.9, True , 4+3j)\n",
    "print(my_tuple)"
   ]
  },
  {
   "cell_type": "markdown",
   "id": "688aa261-e6f7-469e-bc39-60320df13d48",
   "metadata": {},
   "source": [
    "# Empty tuple"
   ]
  },
  {
   "cell_type": "code",
   "execution_count": 13,
   "id": "6b03c659-f63a-4c49-b892-c24f1e3d00f8",
   "metadata": {},
   "outputs": [
    {
     "name": "stdout",
     "output_type": "stream",
     "text": [
      "()\n",
      "<class 'tuple'>\n"
     ]
    }
   ],
   "source": [
    "my_tuple = ()\n",
    "print(my_tuple)\n",
    "print(type(my_tuple))"
   ]
  },
  {
   "cell_type": "markdown",
   "id": "dc11c3b5-90c7-48cb-bff3-94f57be73710",
   "metadata": {},
   "source": [
    "# Nested tuple"
   ]
  },
  {
   "cell_type": "code",
   "execution_count": 28,
   "id": "cc65db38-85ea-4698-bd19-ae674c5ef541",
   "metadata": {},
   "outputs": [
    {
     "name": "stdout",
     "output_type": "stream",
     "text": [
      "('vivek', 23, 56.78, ['vivek', 675, 87.9], (23, 65, 'rastogi'))\n",
      "<class 'tuple'>\n"
     ]
    }
   ],
   "source": [
    "my_tuple = (\"vivek\", 23 , 56.78 , [\"vivek\" , 675, 87.9] , (23, 65, \"rastogi\"))\n",
    "print(my_tuple)\n",
    "print(type(my_tuple))\n",
    "            "
   ]
  },
  {
   "cell_type": "markdown",
   "id": "1f8519af-8465-4b5c-9f0f-6850e5bff9f7",
   "metadata": {},
   "source": [
    "# creating a python tuple with one element"
   ]
  },
  {
   "cell_type": "code",
   "execution_count": 35,
   "id": "b8dae37e-fd6d-43e4-9e88-a28d7de6fd10",
   "metadata": {},
   "outputs": [
    {
     "name": "stdout",
     "output_type": "stream",
     "text": [
      "vivek\n",
      "<class 'str'>\n"
     ]
    }
   ],
   "source": [
    "var1 = (\"vivek\")\n",
    "print(var1)\n",
    "print(type(var1)) # ab dhakha iska type mai string a rahi hai agar huma tuple cahiya tho [\"vivek\" ,] bad quama laga do jasa nicha wala code mai lagaya hai tuple type ban jaye ga"
   ]
  },
  {
   "cell_type": "code",
   "execution_count": 37,
   "id": "d7bc129f-1bed-44c3-bcdb-de4de655e9d4",
   "metadata": {},
   "outputs": [
    {
     "name": "stdout",
     "output_type": "stream",
     "text": [
      "('vivek',)\n",
      "<class 'tuple'>\n"
     ]
    }
   ],
   "source": [
    "var1 = (\"vivek\",)\n",
    "print(var1)\n",
    "print(type(var1))"
   ]
  },
  {
   "cell_type": "markdown",
   "id": "7b0db33b-0885-4e7a-8311-452570d4be0b",
   "metadata": {},
   "source": [
    "# The tuple constructor()"
   ]
  },
  {
   "cell_type": "code",
   "execution_count": 42,
   "id": "9cddd98c-64bd-466a-bf3c-be9daf536f6b",
   "metadata": {},
   "outputs": [
    {
     "name": "stdout",
     "output_type": "stream",
     "text": [
      "(112, 34, 45, 'vivek', True, 'a', 'b')\n",
      "<class 'tuple'>\n"
     ]
    }
   ],
   "source": [
    "my_tuple = tuple((112, 34, 45, \"vivek\" , True, 'a' , 'b'))\n",
    "print(my_tuple)\n",
    "print(type(my_tuple))"
   ]
  },
  {
   "cell_type": "markdown",
   "id": "e64d1696-2fe3-4815-9e60-767c1836b997",
   "metadata": {},
   "source": [
    "# indexing"
   ]
  },
  {
   "cell_type": "code",
   "execution_count": 47,
   "id": "0afa504b-af21-4b68-83ed-0ffee4a30d38",
   "metadata": {},
   "outputs": [
    {
     "name": "stdout",
     "output_type": "stream",
     "text": [
      "a\n"
     ]
    }
   ],
   "source": [
    "my_tuple =(112, 34, 45, \"vivek\" , True, 'a' , 'b')\n",
    "print(my_tuple[5])"
   ]
  },
  {
   "cell_type": "code",
   "execution_count": 51,
   "id": "d8990b6b-fbe7-44d5-897b-72bd98abef91",
   "metadata": {},
   "outputs": [
    {
     "name": "stdout",
     "output_type": "stream",
     "text": [
      "45\n"
     ]
    }
   ],
   "source": [
    "my_tuple = (112, 34, 45, \"vivek\" , True, 'a' , 'b')\n",
    "print(my_tuple[-5])"
   ]
  },
  {
   "cell_type": "markdown",
   "id": "7596fe87-6162-4836-b853-9a62597f88d5",
   "metadata": {},
   "source": [
    "# slicing"
   ]
  },
  {
   "cell_type": "code",
   "execution_count": 55,
   "id": "ab5c5836-217b-4e8e-bc12-f239614625c7",
   "metadata": {},
   "outputs": [
    {
     "name": "stdout",
     "output_type": "stream",
     "text": [
      "15\n",
      "(56, 67, 87, 54)\n"
     ]
    }
   ],
   "source": [
    "my_tuple = (2, 34, 56, 67, 87, 54, 345, 543, 123, 231, 342, 543, 567, 546,980)\n",
    "print(len(my_tuple))\n",
    "print(my_tuple[2:6])"
   ]
  },
  {
   "cell_type": "code",
   "execution_count": 57,
   "id": "821eefb8-43e5-4e18-9b48-a8d52fae2772",
   "metadata": {},
   "outputs": [
    {
     "name": "stdout",
     "output_type": "stream",
     "text": [
      "15\n",
      "(56, 67, 87, 54, 345, 543, 123, 231, 342, 543, 567, 546, 980)\n"
     ]
    }
   ],
   "source": [
    "my_tuple = (2, 34, 56, 67, 87, 54, 345, 543, 123, 231, 342, 543, 567, 546,980)\n",
    "print(len(my_tuple))\n",
    "print(my_tuple[2:])"
   ]
  },
  {
   "cell_type": "code",
   "execution_count": 59,
   "id": "72b740c3-cb4b-4fab-b73d-5902527f2f0a",
   "metadata": {},
   "outputs": [
    {
     "name": "stdout",
     "output_type": "stream",
     "text": [
      "15\n",
      "(2, 34, 56, 67, 87, 54)\n"
     ]
    }
   ],
   "source": [
    "my_tuple = (2, 34, 56, 67, 87, 54, 345, 543, 123, 231, 342, 543, 567, 546,980)\n",
    "print(len(my_tuple))\n",
    "print(my_tuple[:6])"
   ]
  },
  {
   "cell_type": "code",
   "execution_count": 61,
   "id": "87dc7da0-5a91-4b26-95fe-8e866acfbe5f",
   "metadata": {},
   "outputs": [
    {
     "name": "stdout",
     "output_type": "stream",
     "text": [
      "15\n",
      "(2, 34, 56, 67, 87, 54, 345, 543, 123, 231, 342, 543, 567, 546, 980)\n"
     ]
    }
   ],
   "source": [
    "my_tuple = (2, 34, 56, 67, 87, 54, 345, 543, 123, 231, 342, 543, 567, 546,980)\n",
    "print(len(my_tuple))\n",
    "print(my_tuple[:])"
   ]
  },
  {
   "cell_type": "code",
   "execution_count": 63,
   "id": "b6d8c642-8b7d-4d71-80fb-132e0c2e1932",
   "metadata": {},
   "outputs": [
    {
     "name": "stdout",
     "output_type": "stream",
     "text": [
      "15\n",
      "(2, 56, 87, 345, 123, 342, 567, 980)\n"
     ]
    }
   ],
   "source": [
    "my_tuple = (2, 34, 56, 67, 87, 54, 345, 543, 123, 231, 342, 543, 567, 546,980)\n",
    "print(len(my_tuple))\n",
    "print(my_tuple[::2])"
   ]
  },
  {
   "cell_type": "code",
   "execution_count": 65,
   "id": "2103c940-d7ce-414e-8dd2-953df0511c01",
   "metadata": {},
   "outputs": [
    {
     "name": "stdout",
     "output_type": "stream",
     "text": [
      "15\n",
      "(56, 67, 87, 54, 345, 543, 123)\n"
     ]
    }
   ],
   "source": [
    "my_tuple = (2, 34, 56, 67, 87, 54, 345, 543, 123, 231, 342, 543, 567, 546,980)\n",
    "print(len(my_tuple))\n",
    "print(my_tuple[2:-6])"
   ]
  },
  {
   "cell_type": "code",
   "execution_count": 67,
   "id": "ddd0efaf-2493-4070-8e51-20c85e8f32b5",
   "metadata": {},
   "outputs": [
    {
     "name": "stdout",
     "output_type": "stream",
     "text": [
      "15\n",
      "(56, 87, 345, 123, 342, 567, 980)\n"
     ]
    }
   ],
   "source": [
    "my_tuple = (2, 34, 56, 67, 87, 54, 345, 543, 123, 231, 342, 543, 567, 546,980)\n",
    "print(len(my_tuple))\n",
    "print(my_tuple[2:614:2])"
   ]
  },
  {
   "cell_type": "markdown",
   "id": "2bc2eebe-b1a0-455e-ad66-75c93d2069b8",
   "metadata": {},
   "source": [
    "# reverse the tuple"
   ]
  },
  {
   "cell_type": "code",
   "execution_count": 72,
   "id": "79a86591-53df-4d8d-8a14-5e4a9bfd4adf",
   "metadata": {},
   "outputs": [
    {
     "name": "stdout",
     "output_type": "stream",
     "text": [
      "15\n",
      "(980, 546, 567, 543, 342, 231, 123, 543, 345, 54, 87, 67, 56, 34, 2)\n"
     ]
    }
   ],
   "source": [
    "my_tuple = (2, 34, 56, 67, 87, 54, 345, 543, 123, 231, 342, 543, 567, 546,980)\n",
    "print(len(my_tuple))\n",
    "print(my_tuple[::-1])"
   ]
  },
  {
   "cell_type": "markdown",
   "id": "8d775edd-c2ca-48fa-9ab1-52ffbb112a86",
   "metadata": {},
   "source": [
    "# write the output of the folling code"
   ]
  },
  {
   "cell_type": "code",
   "execution_count": 75,
   "id": "a714c9eb-1844-4fce-9315-92967ff56c07",
   "metadata": {},
   "outputs": [
    {
     "name": "stdout",
     "output_type": "stream",
     "text": [
      "(1, 2, 3, 4, 5, 6, 7, 8)\n",
      "(4, 5, 6, 7, 8)\n",
      "(1, 2, 3, 4)\n",
      "()\n"
     ]
    }
   ],
   "source": [
    "t = (1, 2, 3, 4, 5, 6, 7, 8)\n",
    "print(t[::])\n",
    "print(t[3:])\n",
    "print(t[:4])\n",
    "print(t[-2:-5])"
   ]
  },
  {
   "cell_type": "markdown",
   "id": "d7ee3a5a-5a90-44da-a70c-2ee5544cccad",
   "metadata": {},
   "source": [
    "# Duplicate are allow in tuple"
   ]
  },
  {
   "cell_type": "code",
   "execution_count": 124,
   "id": "470a5d22-693c-437e-a618-7965f356db35",
   "metadata": {},
   "outputs": [
    {
     "name": "stdout",
     "output_type": "stream",
     "text": [
      "(2, 34, 56, 67, 56, 2, 87, 54, 345, 543, 123, 54, 231, 342, 543, 567, 546, 980)\n",
      "<class 'tuple'>\n"
     ]
    }
   ],
   "source": [
    "my_tuple = (2, 34, 56, 67, 56, 2,  87, 54, 345, 543, 123, 54, 231, 342, 543, 567, 546,980)\n",
    "print(my_tuple)\n",
    "print(type(my_tuple))"
   ]
  },
  {
   "cell_type": "markdown",
   "id": "c9797f65-8c99-4a07-a50f-8af8cabbfeb5",
   "metadata": {},
   "source": [
    "# once the tuple is created, you cannot changes its value. tuple are unchangabale, or immutable as it also is called"
   ]
  },
  {
   "cell_type": "markdown",
   "id": "d85580c5-b710-4cdc-9c6c-727392e98e70",
   "metadata": {},
   "source": [
    "\n",
    "convert the tuple into list to be able to change it:"
   ]
  },
  {
   "cell_type": "code",
   "execution_count": 7,
   "id": "f99bcbe6-8075-433f-a264-cbe174ba65bc",
   "metadata": {},
   "outputs": [
    {
     "name": "stdout",
     "output_type": "stream",
     "text": [
      "('banana', 'cherry')\n"
     ]
    }
   ],
   "source": [
    "x = (\"apple\", \"banana\", \"cherry\")\n",
    "y = list(x)\n",
    "y.remove(\"apple\")\n",
    "x = tuple(y)\n",
    "print(x)\n"
   ]
  },
  {
   "cell_type": "markdown",
   "id": "323f10a4-99e2-425c-bdad-fe1636c31895",
   "metadata": {},
   "source": [
    "# add item "
   ]
  },
  {
   "cell_type": "code",
   "execution_count": 12,
   "id": "76796c3c-31cd-42cb-a883-4895339d1454",
   "metadata": {},
   "outputs": [
    {
     "name": "stdout",
     "output_type": "stream",
     "text": [
      "(23, 54, 76, 89, 987, 365)\n"
     ]
    }
   ],
   "source": [
    "my_tuple = (23, 54, 76, 89, 987)\n",
    "y = list(my_tuple)\n",
    "y.append(365)\n",
    "my_tuple = tuple(y)\n",
    "print(my_tuple)"
   ]
  },
  {
   "cell_type": "code",
   "execution_count": 14,
   "id": "018c847e-ce4d-4108-92a1-9f6bf685f693",
   "metadata": {},
   "outputs": [
    {
     "name": "stdout",
     "output_type": "stream",
     "text": [
      "('vivek', 'vaibhav', 'rastogi', 'kumar', 'shristha')\n"
     ]
    }
   ],
   "source": [
    "# add tuple to tuple \n",
    "tuple = (\"vivek\", \"vaibhav\", \"rastogi\")\n",
    "y = (\"kumar\", \"shristha\")\n",
    "my_tuple = tuple + y\n",
    "print(my_tuple)\n"
   ]
  },
  {
   "cell_type": "markdown",
   "id": "210b9509-c8df-4db8-ab75-4c20bfccf4fe",
   "metadata": {},
   "source": [
    "# The del kryword can completey delete the tuple"
   ]
  },
  {
   "cell_type": "code",
   "execution_count": 35,
   "id": "dbdd8d95-9209-4833-8691-4d05a3fc1546",
   "metadata": {},
   "outputs": [
    {
     "ename": "NameError",
     "evalue": "name 'my_list' is not defined",
     "output_type": "error",
     "traceback": [
      "\u001b[1;31m---------------------------------------------------------------------------\u001b[0m",
      "\u001b[1;31mNameError\u001b[0m                                 Traceback (most recent call last)",
      "Cell \u001b[1;32mIn[35], line 3\u001b[0m\n\u001b[0;32m      1\u001b[0m my_tuple \u001b[38;5;241m=\u001b[39m (\u001b[38;5;241m12\u001b[39m, \u001b[38;5;241m43\u001b[39m, \u001b[38;5;241m657\u001b[39m, \u001b[38;5;241m455\u001b[39m, \u001b[38;5;241m67.6\u001b[39m ,\u001b[38;5;124m\"\u001b[39m\u001b[38;5;124mvivek\u001b[39m\u001b[38;5;124m\"\u001b[39m)\n\u001b[0;32m      2\u001b[0m \u001b[38;5;28;01mdel\u001b[39;00m my_tuple\n\u001b[1;32m----> 3\u001b[0m \u001b[38;5;28mprint\u001b[39m(my_list)\n",
      "\u001b[1;31mNameError\u001b[0m: name 'my_list' is not defined"
     ]
    }
   ],
   "source": [
    "my_tuple = (12, 43, 657, 455, 67.6 ,\"vivek\")\n",
    "del my_tuple\n",
    "print(my_list) # yha my_tuple is not define is liya dikha rha hai kyoki del pura tupel ko hi delete kar data hai ak sath"
   ]
  },
  {
   "cell_type": "markdown",
   "id": "168af1d9-0d93-4683-af25-88bc164c9bac",
   "metadata": {},
   "source": [
    "# Loop system"
   ]
  },
  {
   "cell_type": "code",
   "execution_count": 7,
   "id": "e5c69973-e8e2-43c3-aa15-090f4af95515",
   "metadata": {},
   "outputs": [
    {
     "name": "stdout",
     "output_type": "stream",
     "text": [
      "a\n",
      "b\n",
      "c\n",
      "abc\n",
      "32\n",
      "True\n"
     ]
    }
   ],
   "source": [
    "my_tuple = (\"a\" , \"b\" , \"c\" , \"abc\" , 32 , True)\n",
    "for x in my_tuple:\n",
    "    print(x)"
   ]
  },
  {
   "cell_type": "markdown",
   "id": "885b9dc3-17d0-4206-b3d7-7182bb3cc62d",
   "metadata": {},
   "source": [
    "# upar wala codeko hum asa bhi kar sakta hai jasa necha wala code mai hai"
   ]
  },
  {
   "cell_type": "code",
   "execution_count": 14,
   "id": "448b6665-c40e-4761-89da-2860a8068dbf",
   "metadata": {},
   "outputs": [
    {
     "name": "stdout",
     "output_type": "stream",
     "text": [
      "vivek\n",
      "rastogi\n",
      "sharma\n",
      "gupta\n"
     ]
    }
   ],
   "source": [
    "my_tuple = (\"vivek\" , \"rastogi\" , \"sharma\" , \"gupta\")\n",
    "i = 0\n",
    "while i < len(my_tuple):\n",
    "    print(my_tuple[i])\n",
    "    i = i+1"
   ]
  },
  {
   "cell_type": "code",
   "execution_count": 16,
   "id": "231fef26-1b18-4dd2-a6a2-010e9bb66b1c",
   "metadata": {},
   "outputs": [
    {
     "name": "stdout",
     "output_type": "stream",
     "text": [
      "rastogi\n",
      "rastogi\n",
      "rastogi\n",
      "rastogi\n"
     ]
    }
   ],
   "source": [
    "my_tuple = (\"vivek\" , \"rastogi\" , \"sharma\" , \"gupta\")\n",
    "i = 0\n",
    "while i < len(my_tuple):\n",
    "    print(my_tuple[1])  # yha 1 karna pr sirf rastogi hi print hua hai \n",
    "    i = i+1"
   ]
  },
  {
   "cell_type": "code",
   "execution_count": 18,
   "id": "ac8bb6c3-3010-4438-b3a6-6e5df6311d93",
   "metadata": {},
   "outputs": [
    {
     "name": "stdout",
     "output_type": "stream",
     "text": [
      "('vivek', 'rastogi', 'sharma', 'gupta')\n",
      "('vivek', 'rastogi', 'sharma', 'gupta')\n",
      "('vivek', 'rastogi', 'sharma', 'gupta')\n",
      "('vivek', 'rastogi', 'sharma', 'gupta')\n"
     ]
    }
   ],
   "source": [
    "my_tuple = (\"vivek\" , \"rastogi\" , \"sharma\" , \"gupta\")\n",
    "i = 0\n",
    "while i < len(my_tuple):\n",
    "    print(my_tuple)  # agar na 1 likha na i likha tho pura asa hi print ho jaye ga\n",
    "    i = i+1"
   ]
  },
  {
   "cell_type": "markdown",
   "id": "6905de93-7a57-4341-95ad-d4934a654732",
   "metadata": {},
   "source": [
    "# join two tuple"
   ]
  },
  {
   "cell_type": "code",
   "execution_count": 23,
   "id": "32ef475e-f065-49ff-881e-5e294d5ba007",
   "metadata": {},
   "outputs": [
    {
     "name": "stdout",
     "output_type": "stream",
     "text": [
      "('vivek', 'rastogi', 'manoj', 'kumar', 'rastogi')\n"
     ]
    }
   ],
   "source": [
    "my_tuple = (\"vivek\", \"rastogi\", \"manoj\")\n",
    "my_tuple2 = (\"kumar\", \"rastogi\")\n",
    "new_tuple = my_tuple + my_tuple2\n",
    "print(new_tuple)"
   ]
  },
  {
   "cell_type": "markdown",
   "id": "9e01a6e5-1c36-46b3-96fe-ebd1f538ac58",
   "metadata": {},
   "source": [
    "# Multiply tuple"
   ]
  },
  {
   "cell_type": "code",
   "execution_count": 31,
   "id": "3812f6e5-f8a9-4534-ad1e-8609f2f9b984",
   "metadata": {},
   "outputs": [
    {
     "name": "stdout",
     "output_type": "stream",
     "text": [
      "('apple', 'banana', 'guavava', 'papaya', 'apple', 'banana', 'guavava', 'papaya', 'apple', 'banana', 'guavava', 'papaya')\n"
     ]
    }
   ],
   "source": [
    "fruits = (\"apple\", \"banana\", \"guavava\", \"papaya\")\n",
    "fruits2 = fruits * 3\n",
    "print(fruits2)"
   ]
  },
  {
   "cell_type": "markdown",
   "id": "2c781ecb-781c-4f6a-9981-208ca8e95628",
   "metadata": {},
   "source": [
    "# write a python program to find repeated item in the tuple"
   ]
  },
  {
   "cell_type": "code",
   "execution_count": 42,
   "id": "906ed908-b587-495c-bb1d-f5df78887de9",
   "metadata": {},
   "outputs": [
    {
     "name": "stdout",
     "output_type": "stream",
     "text": [
      "(2, 4, 5, 6, 22, 3, 4, 4, 7, 2)\n",
      "3\n"
     ]
    }
   ],
   "source": [
    "# create a tuple\n",
    "tuplex = 2, 4, 5, 6, 22, 3, 4, 4, 7, 2\n",
    "print(tuplex)\n",
    "# return the number of times it appear in the tuple\n",
    "count = tuplex.count(4) # ya line likhta hai jab bhi hama count karna ho ki kitna number hai tuple mai\n",
    "print(count)"
   ]
  },
  {
   "cell_type": "markdown",
   "id": "5d297385-b45d-42ba-8ad8-8bdc08c8753d",
   "metadata": {},
   "source": [
    "# write the output of the folloeing code"
   ]
  },
  {
   "cell_type": "code",
   "execution_count": 45,
   "id": "82517561-841a-4ed3-8986-de8df644f6e9",
   "metadata": {},
   "outputs": [
    {
     "name": "stdout",
     "output_type": "stream",
     "text": [
      "(1, 2, 3, 4, 5, 6, 7, 8, 1, 2, 3, 4, 5, 6, 7, 8)\n",
      "(1, 2, 3, 4, 5, 6, 7, 8, 1, 2, 3, 4, 5, 6, 7, 8)\n",
      "8\n"
     ]
    }
   ],
   "source": [
    "T = (1, 2, 3, 4, 5, 6, 7, 8)\n",
    "print(T*2)\n",
    "print(T+T)\n",
    "print(len(T))"
   ]
  },
  {
   "cell_type": "markdown",
   "id": "57ecb01a-3ee6-4fb9-b72e-5d84c9e0afce",
   "metadata": {},
   "source": [
    "# Write a program to accept 5 number from the user and store in tuple"
   ]
  },
  {
   "cell_type": "code",
   "execution_count": 48,
   "id": "83b76be3-827f-4231-999e-25c8b29041dc",
   "metadata": {},
   "outputs": [
    {
     "name": "stdin",
     "output_type": "stream",
     "text": [
      "enter your number 23\n"
     ]
    },
    {
     "name": "stdout",
     "output_type": "stream",
     "text": [
      "(23,)\n"
     ]
    },
    {
     "name": "stdin",
     "output_type": "stream",
     "text": [
      "enter your number 43\n"
     ]
    },
    {
     "name": "stdout",
     "output_type": "stream",
     "text": [
      "(23, 43)\n"
     ]
    },
    {
     "name": "stdin",
     "output_type": "stream",
     "text": [
      "enter your number 56\n"
     ]
    },
    {
     "name": "stdout",
     "output_type": "stream",
     "text": [
      "(23, 43, 56)\n"
     ]
    },
    {
     "name": "stdin",
     "output_type": "stream",
     "text": [
      "enter your number 78\n"
     ]
    },
    {
     "name": "stdout",
     "output_type": "stream",
     "text": [
      "(23, 43, 56, 78)\n"
     ]
    },
    {
     "name": "stdin",
     "output_type": "stream",
     "text": [
      "enter your number 98\n"
     ]
    },
    {
     "name": "stdout",
     "output_type": "stream",
     "text": [
      "(23, 43, 56, 78, 98)\n"
     ]
    },
    {
     "name": "stdin",
     "output_type": "stream",
     "text": [
      "enter your number 87\n"
     ]
    },
    {
     "name": "stdout",
     "output_type": "stream",
     "text": [
      "(23, 43, 56, 78, 98, 87)\n"
     ]
    }
   ],
   "source": [
    "t = ()\n",
    "i = 0\n",
    "while i <=5:\n",
    "    num = int(input(\"enter your number\"))\n",
    "    t = t +(num,)\n",
    "    i = i+1\n",
    "    print(t)"
   ]
  },
  {
   "cell_type": "code",
   "execution_count": null,
   "id": "38b14782-cac0-438c-9df1-cf15879ee25b",
   "metadata": {},
   "outputs": [],
   "source": []
  }
 ],
 "metadata": {
  "kernelspec": {
   "display_name": "Python 3 (ipykernel)",
   "language": "python",
   "name": "python3"
  },
  "language_info": {
   "codemirror_mode": {
    "name": "ipython",
    "version": 3
   },
   "file_extension": ".py",
   "mimetype": "text/x-python",
   "name": "python",
   "nbconvert_exporter": "python",
   "pygments_lexer": "ipython3",
   "version": "3.12.7"
  }
 },
 "nbformat": 4,
 "nbformat_minor": 5
}
