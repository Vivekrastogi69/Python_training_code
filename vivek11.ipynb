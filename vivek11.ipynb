{
 "cells": [
  {
   "cell_type": "markdown",
   "id": "c2d630f1-b73b-4723-9c41-c85ef3a24e35",
   "metadata": {},
   "source": [
    "# Day 11"
   ]
  },
  {
   "cell_type": "markdown",
   "id": "3179286a-345d-4c94-8515-ce673e00a35f",
   "metadata": {},
   "source": [
    "# set in python"
   ]
  },
  {
   "cell_type": "markdown",
   "id": "43797257-f960-48e2-951a-a31616c0dbc9",
   "metadata": {},
   "source": [
    "# Creating a set"
   ]
  },
  {
   "cell_type": "code",
   "execution_count": 7,
   "id": "4888f847-2413-46fa-8082-3211eca6e64b",
   "metadata": {},
   "outputs": [
    {
     "name": "stdout",
     "output_type": "stream",
     "text": [
      "{'playing', 'ball', 'animal'}\n"
     ]
    }
   ],
   "source": [
    "a = {\"animal\", \"ball\", \"playing\"}\n",
    "print(a)"
   ]
  },
  {
   "cell_type": "code",
   "execution_count": 9,
   "id": "7b13872e-b296-4778-b036-a141bfdf862e",
   "metadata": {},
   "outputs": [
    {
     "name": "stdout",
     "output_type": "stream",
     "text": [
      "<class 'set'>\n"
     ]
    }
   ],
   "source": [
    "print(type(a))"
   ]
  },
  {
   "cell_type": "markdown",
   "id": "202da1a5-ec7b-4f57-a2d4-269f7113eb08",
   "metadata": {},
   "source": [
    "# Set item are unordered"
   ]
  },
  {
   "cell_type": "code",
   "execution_count": 14,
   "id": "558d57b7-b0d1-462f-bce2-09515c43ed33",
   "metadata": {},
   "outputs": [
    {
     "ename": "TypeError",
     "evalue": "'set' object is not subscriptable",
     "output_type": "error",
     "traceback": [
      "\u001b[1;31m---------------------------------------------------------------------------\u001b[0m",
      "\u001b[1;31mTypeError\u001b[0m                                 Traceback (most recent call last)",
      "Cell \u001b[1;32mIn[14], line 2\u001b[0m\n\u001b[0;32m      1\u001b[0m a \u001b[38;5;241m=\u001b[39m {\u001b[38;5;124m\"\u001b[39m\u001b[38;5;124mapple\u001b[39m\u001b[38;5;124m\"\u001b[39m, \u001b[38;5;124m\"\u001b[39m\u001b[38;5;124mbanana\u001b[39m\u001b[38;5;124m\"\u001b[39m, \u001b[38;5;124m\"\u001b[39m\u001b[38;5;124mpapaya\u001b[39m\u001b[38;5;124m\"\u001b[39m, \u001b[38;5;124m\"\u001b[39m\u001b[38;5;124mguavava\u001b[39m\u001b[38;5;124m\"\u001b[39m}\n\u001b[1;32m----> 2\u001b[0m \u001b[38;5;28mprint\u001b[39m(a[\u001b[38;5;241m0\u001b[39m])\n",
      "\u001b[1;31mTypeError\u001b[0m: 'set' object is not subscriptable"
     ]
    }
   ],
   "source": [
    "a = {\"apple\", \"banana\", \"papaya\", \"guavava\"}\n",
    "print(a[0]) # ya error bata rha hai ki ser unordered hota hai"
   ]
  },
  {
   "cell_type": "markdown",
   "id": "1c67a192-ad5f-4ce3-a215-9374c9b2397a",
   "metadata": {},
   "source": [
    "# duplicates not allow"
   ]
  },
  {
   "cell_type": "code",
   "execution_count": 17,
   "id": "62f77a9d-f568-450b-8a8a-6caf6e1877e4",
   "metadata": {},
   "outputs": [
    {
     "name": "stdout",
     "output_type": "stream",
     "text": [
      "{'guavava', 'apple', 'papaya', 'mango'}\n",
      "4\n"
     ]
    }
   ],
   "source": [
    "a = {\"apple\", \"papaya\", \"guavava\", \"apple\", \"mango\", \"papaya\"}\n",
    "print(a)\n",
    "print(len(a))"
   ]
  },
  {
   "cell_type": "markdown",
   "id": "7d584255-90bb-4758-9642-3d8458af32aa",
   "metadata": {},
   "source": [
    "# False , True and 1 , 0 is consider the same value"
   ]
  },
  {
   "cell_type": "code",
   "execution_count": 25,
   "id": "77f9add7-5ea4-433a-b4b9-22e086fce769",
   "metadata": {},
   "outputs": [
    {
     "name": "stdout",
     "output_type": "stream",
     "text": [
      "{'guavava', True, 32, False, 'apple', 'mango'}\n",
      "6\n",
      "<class 'set'>\n"
     ]
    }
   ],
   "source": [
    "a = {\"apple\", \"mango\", True, \"guavava\", \"apple\", 1, 32, False, 0}\n",
    "print(a)\n",
    "print(len(a))\n",
    "print(type(a))"
   ]
  },
  {
   "cell_type": "markdown",
   "id": "b8061c7c-7a96-4d1f-a8f7-daeec38deb20",
   "metadata": {},
   "source": [
    "# Get the length of set"
   ]
  },
  {
   "cell_type": "code",
   "execution_count": 30,
   "id": "d44a61e1-d72d-4155-a425-426d81c2b267",
   "metadata": {},
   "outputs": [
    {
     "name": "stdout",
     "output_type": "stream",
     "text": [
      "6\n",
      "{'guavava', True, 32, False, 'apple', 'mango'}\n"
     ]
    }
   ],
   "source": [
    "a = {\"apple\", \"mango\", True, \"guavava\", \"apple\", 32, False}\n",
    "print(len(a))\n",
    "print(a)"
   ]
  },
  {
   "cell_type": "markdown",
   "id": "d917cda8-fc4a-482d-bf6b-0f62e12e42e8",
   "metadata": {},
   "source": [
    "# set item - Data type"
   ]
  },
  {
   "cell_type": "code",
   "execution_count": 35,
   "id": "be9b892c-d983-49df-bc1b-49d65c337c1b",
   "metadata": {},
   "outputs": [
    {
     "name": "stdout",
     "output_type": "stream",
     "text": [
      "{1, 2, 3, 4, 5} {1.2, 3.4, 5.4, 5.7, 8.7} {'a', 'vivek', 'rastogi', 'vaibhav'} {False, True}\n"
     ]
    }
   ],
   "source": [
    "x1 = {1,2,3,4,5}\n",
    "x2 = {1.2,3.4,5.4,5.7,8.7}\n",
    "x3 = {\"vivek\",\"a\",'rastogi',\"vaibhav\"}\n",
    "x4 = {True,False,True}\n",
    "print(x1,x2,x3,x4)"
   ]
  },
  {
   "cell_type": "code",
   "execution_count": 37,
   "id": "72a32b68-fe0c-491c-a8f7-5897d6b2f98b",
   "metadata": {},
   "outputs": [
    {
     "ename": "TypeError",
     "evalue": "unhashable type: 'list'",
     "output_type": "error",
     "traceback": [
      "\u001b[1;31m---------------------------------------------------------------------------\u001b[0m",
      "\u001b[1;31mTypeError\u001b[0m                                 Traceback (most recent call last)",
      "Cell \u001b[1;32mIn[37], line 1\u001b[0m\n\u001b[1;32m----> 1\u001b[0m x5 \u001b[38;5;241m=\u001b[39m{[\u001b[38;5;241m1\u001b[39m,\u001b[38;5;241m2\u001b[39m,\u001b[38;5;241m3\u001b[39m,\u001b[38;5;241m4\u001b[39m,\u001b[38;5;241m6\u001b[39m,\u001b[38;5;241m5.5\u001b[39m]}\n\u001b[0;32m      2\u001b[0m \u001b[38;5;28mprint\u001b[39m(x5)\n",
      "\u001b[1;31mTypeError\u001b[0m: unhashable type: 'list'"
     ]
    }
   ],
   "source": [
    "x5 ={[1,2,3,4,6,5.5]} # set ka andar list bana kar nahi dal sakta is liya error show ho rha hai\n",
    "print(x5)"
   ]
  },
  {
   "cell_type": "markdown",
   "id": "311fb4c6-566f-401d-b125-d3b4429adc3a",
   "metadata": {},
   "source": [
    "# List are mutable and hence unhashable object in python . whereas, set in python are immutable and does not allow unhashable object . therefpore, python does not allow a set to store a list. you cannot add a list to a set"
   ]
  },
  {
   "cell_type": "code",
   "execution_count": 40,
   "id": "4f6e0963-3aa5-4d6d-82de-945cbbb941dd",
   "metadata": {},
   "outputs": [
    {
     "name": "stdout",
     "output_type": "stream",
     "text": [
      "{(1, 2, 4, 'apple')}\n"
     ]
    }
   ],
   "source": [
    "# but tuple print ho jaye ga kyoki wo immutable hota haim\n",
    "a = {(1,2,4,\"apple\")}\n",
    "print(a)"
   ]
  },
  {
   "cell_type": "markdown",
   "id": "04179aa3-a9f5-425a-94b0-95beadbfbc2e",
   "metadata": {},
   "source": [
    "# immutable object are a type of object that cannot be modified after they were created. hashable object"
   ]
  },
  {
   "cell_type": "code",
   "execution_count": 43,
   "id": "61d754e3-d10f-49da-9f09-a154d56787df",
   "metadata": {},
   "outputs": [
    {
     "ename": "TypeError",
     "evalue": "unhashable type: 'dict'",
     "output_type": "error",
     "traceback": [
      "\u001b[1;31m---------------------------------------------------------------------------\u001b[0m",
      "\u001b[1;31mTypeError\u001b[0m                                 Traceback (most recent call last)",
      "Cell \u001b[1;32mIn[43], line 1\u001b[0m\n\u001b[1;32m----> 1\u001b[0m x6 \u001b[38;5;241m=\u001b[39m {{\u001b[38;5;124m\"\u001b[39m\u001b[38;5;124ma\u001b[39m\u001b[38;5;124m\"\u001b[39m:\u001b[38;5;241m1\u001b[39m,\u001b[38;5;124m\"\u001b[39m\u001b[38;5;124mb\u001b[39m\u001b[38;5;124m\"\u001b[39m:\u001b[38;5;241m3\u001b[39m}}\n\u001b[0;32m      2\u001b[0m \u001b[38;5;28mprint\u001b[39m(x6)\n",
      "\u001b[1;31mTypeError\u001b[0m: unhashable type: 'dict'"
     ]
    }
   ],
   "source": [
    "x6 = {{\"a\":1,\"b\":3}}\n",
    "print(x6) # dictionary bhi print nahi ho sakti hai"
   ]
  },
  {
   "cell_type": "markdown",
   "id": "4b6ec01f-3e9a-4adc-bf66-01f96cfd541e",
   "metadata": {},
   "source": [
    "# \"nested\" isn't a property of a set"
   ]
  },
  {
   "cell_type": "code",
   "execution_count": 49,
   "id": "3031119e-65c1-421b-8331-e6ec008becf2",
   "metadata": {},
   "outputs": [
    {
     "ename": "TypeError",
     "evalue": "unhashable type: 'set'",
     "output_type": "error",
     "traceback": [
      "\u001b[1;31m---------------------------------------------------------------------------\u001b[0m",
      "\u001b[1;31mTypeError\u001b[0m                                 Traceback (most recent call last)",
      "Cell \u001b[1;32mIn[49], line 2\u001b[0m\n\u001b[0;32m      1\u001b[0m \u001b[38;5;66;03m# set ka andar set bhi nahi dal sakta\u001b[39;00m\n\u001b[1;32m----> 2\u001b[0m a \u001b[38;5;241m=\u001b[39m {{\u001b[38;5;241m1\u001b[39m,\u001b[38;5;241m3\u001b[39m,\u001b[38;5;124m\"\u001b[39m\u001b[38;5;124mvivek\u001b[39m\u001b[38;5;124m\"\u001b[39m},{\u001b[38;5;241m76\u001b[39m,\u001b[38;5;241m87\u001b[39m,\u001b[38;5;241m98\u001b[39m,\u001b[38;5;241m90\u001b[39m}}\n\u001b[0;32m      3\u001b[0m \u001b[38;5;28mprint\u001b[39m(a)\n",
      "\u001b[1;31mTypeError\u001b[0m: unhashable type: 'set'"
     ]
    }
   ],
   "source": [
    "# set ka andar set bhi nahi dal sakta\n",
    "a = {{1,3,\"vivek\"},{76,87,98,90}}\n",
    "print(a)"
   ]
  },
  {
   "cell_type": "code",
   "execution_count": 51,
   "id": "e1acfdaf-5a4a-481e-b091-25b5a244cdd9",
   "metadata": {},
   "outputs": [
    {
     "name": "stdout",
     "output_type": "stream",
     "text": [
      "{False}\n"
     ]
    }
   ],
   "source": [
    "a = {{1,3,\"vivek\"}>{76,87,98,90}} # extra code\n",
    "print(a)"
   ]
  },
  {
   "cell_type": "code",
   "execution_count": 53,
   "id": "019e07ab-a539-48ba-a3ee-a59ccc4a1dbc",
   "metadata": {},
   "outputs": [
    {
     "name": "stdout",
     "output_type": "stream",
     "text": [
      "{False}\n"
     ]
    }
   ],
   "source": [
    "a = {{1,3,\"vivek\"}<{76,87,98,90}} # extera code\n",
    "print(a)"
   ]
  },
  {
   "cell_type": "markdown",
   "id": "c39c8362-da05-4869-ad0c-ceefc976cf04",
   "metadata": {},
   "source": [
    "# The set constructor()"
   ]
  },
  {
   "cell_type": "code",
   "execution_count": 58,
   "id": "5093c530-482f-4c7e-b5f9-fdabad92ba77",
   "metadata": {},
   "outputs": [
    {
     "name": "stdout",
     "output_type": "stream",
     "text": [
      "{'guavava', True, 'mango', 12, 'apple', 56}\n",
      "<class 'set'>\n"
     ]
    }
   ],
   "source": [
    "a = set((\"apple\",\"mango\",\"guavava\",12,56,True))\n",
    "print(a)\n",
    "print(type(a))"
   ]
  },
  {
   "cell_type": "markdown",
   "id": "88cd9b27-f2f7-4b66-9d70-7c98efe21e08",
   "metadata": {},
   "source": [
    "# Creatinf empty set"
   ]
  },
  {
   "cell_type": "code",
   "execution_count": 61,
   "id": "7f042bff-920b-48f8-82cd-fbf25ffc793a",
   "metadata": {},
   "outputs": [
    {
     "name": "stdout",
     "output_type": "stream",
     "text": [
      "{}\n",
      "<class 'dict'>\n",
      "0\n"
     ]
    }
   ],
   "source": [
    "a = {}\n",
    "print(a)\n",
    "print(type(a))\n",
    "print(len(a))"
   ]
  },
  {
   "cell_type": "code",
   "execution_count": 63,
   "id": "befb1605-7e1d-4f83-839f-e6105cd9aa2a",
   "metadata": {},
   "outputs": [
    {
     "name": "stdout",
     "output_type": "stream",
     "text": [
      "set()\n",
      "<class 'set'>\n"
     ]
    }
   ],
   "source": [
    "empty = set()\n",
    "print(empty)\n",
    "print(type(empty))"
   ]
  },
  {
   "cell_type": "markdown",
   "id": "67a18551-e57a-422a-b306-07677302031e",
   "metadata": {},
   "source": [
    "# Access item"
   ]
  },
  {
   "cell_type": "markdown",
   "id": "f0e075b6-f8e7-4b9c-9c3a-d050f369907c",
   "metadata": {},
   "source": [
    "you cannot access item in a set by referring to an index or a key.\n",
    "\n",
    "bou you can loop through the set items using a for loop, or ask if a specified value is present in a set, by using the keyword"
   ]
  },
  {
   "cell_type": "code",
   "execution_count": 67,
   "id": "a47c3c0c-491c-4990-9cd4-16800ec6dc84",
   "metadata": {},
   "outputs": [
    {
     "name": "stdout",
     "output_type": "stream",
     "text": [
      "siyana\n",
      "69\n",
      "rastogi\n",
      "data science\n",
      "vivek\n"
     ]
    }
   ],
   "source": [
    "a = {\"vivek\",\"rastogi\",69,\"siyana\",\"data science\"}\n",
    "for x in a:\n",
    "    print(x)"
   ]
  },
  {
   "cell_type": "markdown",
   "id": "23d983a7-e24f-46f7-b3d3-194b826726c2",
   "metadata": {},
   "source": [
    "# Check if \"item\" is present in the set"
   ]
  },
  {
   "cell_type": "code",
   "execution_count": 72,
   "id": "24ebf748-e3e7-4fba-9639-b1942cf25042",
   "metadata": {},
   "outputs": [
    {
     "name": "stdout",
     "output_type": "stream",
     "text": [
      "True\n"
     ]
    }
   ],
   "source": [
    "a = {\"vivek\",\"rastogi\",69,\"siyana\",\"data science\"}\n",
    "print(\"vivek\" in a)"
   ]
  },
  {
   "cell_type": "code",
   "execution_count": 74,
   "id": "71ca856f-9716-4625-9218-51d069846bb8",
   "metadata": {},
   "outputs": [
    {
     "name": "stdout",
     "output_type": "stream",
     "text": [
      "False\n"
     ]
    }
   ],
   "source": [
    "a = {\"vivek\",\"rastogi\",69,\"siyana\",\"data science\"}\n",
    "print(\"vaibhav\" in a)"
   ]
  },
  {
   "cell_type": "markdown",
   "id": "11cedca0-851d-4fd0-b30f-84e10ab0a08b",
   "metadata": {},
   "source": [
    "# Add item"
   ]
  },
  {
   "cell_type": "markdown",
   "id": "61b4975f-7001-49f6-b298-8eb1d1d0f5f3",
   "metadata": {},
   "source": [
    "Once the set is created youcan not change in it bat add ana item in it"
   ]
  },
  {
   "cell_type": "code",
   "execution_count": 80,
   "id": "f28dd78b-87b9-4627-a1cf-6d43f0cacc15",
   "metadata": {},
   "outputs": [
    {
     "name": "stdout",
     "output_type": "stream",
     "text": [
      "{'siyana', 69, 'rastogi', 'data science', 'vaibhav', 'vivek'}\n"
     ]
    }
   ],
   "source": [
    "a = {\"vivek\",\"rastogi\",69,\"siyana\",\"data science\"}\n",
    "a.add(\"vaibhav\")\n",
    "print(a)"
   ]
  },
  {
   "cell_type": "code",
   "execution_count": 82,
   "id": "eb492244-4057-41aa-a86d-bd5a8920fc0f",
   "metadata": {},
   "outputs": [
    {
     "name": "stdout",
     "output_type": "stream",
     "text": [
      "{False, 'siyana', 69, 'data science', 'vaibhav', 'vivek', 'manoj', 'rastogi', 'swati'}\n",
      "9\n"
     ]
    }
   ],
   "source": [
    "a = {\"vivek\",\"rastogi\",69,\"siyana\",\"data science\"}\n",
    "b = {\"vaibhav\",\"manoj\",\"swati\",False}\n",
    "a.update(b)\n",
    "print(a)\n",
    "print(len(a))"
   ]
  },
  {
   "cell_type": "markdown",
   "id": "985e0575-f674-4143-a9de-a12dfbe35399",
   "metadata": {},
   "source": [
    "# python remove set item"
   ]
  },
  {
   "cell_type": "code",
   "execution_count": 87,
   "id": "8fff8382-a092-4218-b3e4-d36ea7af0bbf",
   "metadata": {},
   "outputs": [
    {
     "name": "stdout",
     "output_type": "stream",
     "text": [
      "{'siyana', 69, 'data science', 'vivek'}\n"
     ]
    }
   ],
   "source": [
    "a = {\"vivek\",\"rastogi\",69,\"siyana\",\"data science\"}\n",
    "a.remove(\"rastogi\")\n",
    "print(a)"
   ]
  },
  {
   "cell_type": "markdown",
   "id": "92a77c2e-464f-4290-a802-14d035572d97",
   "metadata": {},
   "source": [
    "# you can also use the pop() method to remove the item but it can remove the random item"
   ]
  },
  {
   "cell_type": "code",
   "execution_count": 98,
   "id": "92f487d9-d39f-4b56-abcc-88bc39f50b1e",
   "metadata": {},
   "outputs": [
    {
     "name": "stdout",
     "output_type": "stream",
     "text": [
      "{69, 'rastogi', 'data science', 'vivek'}\n"
     ]
    }
   ],
   "source": [
    "a = {\"vivek\",\"rastogi\",69,\"siyana\",\"data science\"}\n",
    "a.pop()\n",
    "print(a)"
   ]
  },
  {
   "cell_type": "markdown",
   "id": "f6c04a6c-138e-485b-a133-42639a4d33b8",
   "metadata": {},
   "source": [
    "# the clear() method empty the ser"
   ]
  },
  {
   "cell_type": "code",
   "execution_count": 101,
   "id": "149e64e5-52ab-4347-9371-f26d08fa0575",
   "metadata": {},
   "outputs": [
    {
     "name": "stdout",
     "output_type": "stream",
     "text": [
      "set()\n"
     ]
    }
   ],
   "source": [
    "a = {\"vivek\",\"rastogi\",69,\"siyana\",\"data science\"}\n",
    "a.clear()\n",
    "print(a)"
   ]
  },
  {
   "cell_type": "markdown",
   "id": "a839f401-7aea-417a-b466-8c2919076ea7",
   "metadata": {},
   "source": [
    "# the del() keyword will delete the set completely"
   ]
  },
  {
   "cell_type": "code",
   "execution_count": 106,
   "id": "4a04926b-2581-47ec-a146-23ddd3974002",
   "metadata": {},
   "outputs": [
    {
     "ename": "NameError",
     "evalue": "name 'a' is not defined",
     "output_type": "error",
     "traceback": [
      "\u001b[1;31m---------------------------------------------------------------------------\u001b[0m",
      "\u001b[1;31mNameError\u001b[0m                                 Traceback (most recent call last)",
      "Cell \u001b[1;32mIn[106], line 3\u001b[0m\n\u001b[0;32m      1\u001b[0m a \u001b[38;5;241m=\u001b[39m {\u001b[38;5;124m\"\u001b[39m\u001b[38;5;124mvivek\u001b[39m\u001b[38;5;124m\"\u001b[39m,\u001b[38;5;124m\"\u001b[39m\u001b[38;5;124mrastogi\u001b[39m\u001b[38;5;124m\"\u001b[39m,\u001b[38;5;241m69\u001b[39m,\u001b[38;5;124m\"\u001b[39m\u001b[38;5;124msiyana\u001b[39m\u001b[38;5;124m\"\u001b[39m,\u001b[38;5;124m\"\u001b[39m\u001b[38;5;124mdata science\u001b[39m\u001b[38;5;124m\"\u001b[39m}\n\u001b[0;32m      2\u001b[0m \u001b[38;5;28;01mdel\u001b[39;00m a\n\u001b[1;32m----> 3\u001b[0m \u001b[38;5;28mprint\u001b[39m(a)\n",
      "\u001b[1;31mNameError\u001b[0m: name 'a' is not defined"
     ]
    }
   ],
   "source": [
    "a = {\"vivek\",\"rastogi\",69,\"siyana\",\"data science\"}\n",
    "del a\n",
    "print(a) # ya error show kara ga kyoki sab delete ho gya hai"
   ]
  },
  {
   "cell_type": "markdown",
   "id": "c3872ed5-e45a-4c1e-85e6-62126796eab5",
   "metadata": {},
   "source": [
    "# join two sets"
   ]
  },
  {
   "cell_type": "markdown",
   "id": "48871def-9213-43aa-9d00-5989781a8c25",
   "metadata": {},
   "source": [
    "the union() method return a new set from both item from both set"
   ]
  },
  {
   "cell_type": "code",
   "execution_count": 110,
   "id": "e986f288-f4ba-47d5-a22d-3ff047868fa3",
   "metadata": {},
   "outputs": [
    {
     "name": "stdout",
     "output_type": "stream",
     "text": [
      "{'siyana', 69, 'rastogi', 'data science', 'sahram', 'vaibhav', 'vivek', 'manoj'}\n"
     ]
    }
   ],
   "source": [
    "a = {\"vivek\",\"rastogi\",69,\"siyana\",\"data science\"}\n",
    "b = {\"vaibhav\",\"sahram\",\"manoj\"}\n",
    "z = a.union(b)\n",
    "print(z)"
   ]
  },
  {
   "cell_type": "markdown",
   "id": "e382cf28-3c7f-4dee-bdb4-ece550a89f4c",
   "metadata": {},
   "source": [
    "# write a python program to find the maximum and minimum values in a set"
   ]
  },
  {
   "cell_type": "code",
   "execution_count": 121,
   "id": "7b39146c-fc3d-412e-831c-b2677d9c08e6",
   "metadata": {},
   "outputs": [
    {
     "name": "stdout",
     "output_type": "stream",
     "text": [
      "original set elements:\n",
      "{42, 11, 876, 12, 78, 76, 213, 21, 23, 56}\n",
      "<class 'set'>\n",
      "maximum vale of setn\n",
      "876\n",
      "minimum value of setn\n",
      "11\n"
     ]
    }
   ],
   "source": [
    "setn = {23,21,42,12,213,78,876, 76,56,23,12,11}\n",
    "print(\"original set elements:\")\n",
    "print(setn)\n",
    "print(type(setn))\n",
    "print(\"maximum vale of setn\")\n",
    "print(max(setn))\n",
    "print(\"minimum value of setn\")\n",
    "print(min(setn))"
   ]
  },
  {
   "cell_type": "markdown",
   "id": "261e8474-5727-4db6-aa00-12b7566a4d06",
   "metadata": {},
   "source": [
    "# return a new set of identical item from two set"
   ]
  },
  {
   "cell_type": "code",
   "execution_count": 124,
   "id": "188f03ef-9775-4892-8838-0e3088a7925c",
   "metadata": {},
   "outputs": [
    {
     "name": "stdout",
     "output_type": "stream",
     "text": [
      "{40, 50, 30}\n"
     ]
    }
   ],
   "source": [
    "set1 = {10,20,30,40,50}\n",
    "set2 = {30,40,50,60,70}\n",
    "print(set1.intersection(set2))"
   ]
  },
  {
   "cell_type": "code",
   "execution_count": null,
   "id": "8720784d-b5b9-4aca-a5da-6d6fa32d0940",
   "metadata": {},
   "outputs": [],
   "source": []
  }
 ],
 "metadata": {
  "kernelspec": {
   "display_name": "Python 3 (ipykernel)",
   "language": "python",
   "name": "python3"
  },
  "language_info": {
   "codemirror_mode": {
    "name": "ipython",
    "version": 3
   },
   "file_extension": ".py",
   "mimetype": "text/x-python",
   "name": "python",
   "nbconvert_exporter": "python",
   "pygments_lexer": "ipython3",
   "version": "3.12.7"
  }
 },
 "nbformat": 4,
 "nbformat_minor": 5
}
