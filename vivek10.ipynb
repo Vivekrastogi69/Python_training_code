{
 "cells": [
  {
   "cell_type": "markdown",
   "id": "a2d1e0be-29f4-49c5-9c21-7ec56135c764",
   "metadata": {},
   "source": [
    "# Day 10"
   ]
  },
  {
   "cell_type": "markdown",
   "id": "65d09006-8006-4b37-abe9-3fd47b5cd9be",
   "metadata": {},
   "source": [
    "# Creating a dictionary"
   ]
  },
  {
   "cell_type": "code",
   "execution_count": 11,
   "id": "b78758ec-a0d3-4577-9208-feae00c92ed6",
   "metadata": {},
   "outputs": [
    {
     "name": "stdout",
     "output_type": "stream",
     "text": [
      "{'name': 'vivek', 'surname': 'rastogi', 'address': 'siyana', 'district': 'bulandsharah'}\n",
      "<class 'dict'>\n"
     ]
    }
   ],
   "source": [
    "my_dict = {\n",
    "    \"name\" : \"vivek\",\n",
    "    \"surname\" : \"rastogi\",\n",
    "    \"address\" : \"siyana\",\n",
    "    \"district\" : \"bulandsharah\"\n",
    "}\n",
    "print(my_dict)\n",
    "print(type(my_dict))"
   ]
  },
  {
   "cell_type": "markdown",
   "id": "5d156c91-e8f0-4de8-bce4-b450f99e3a9d",
   "metadata": {},
   "source": [
    "# dict length"
   ]
  },
  {
   "cell_type": "code",
   "execution_count": 14,
   "id": "4eaa3053-7902-4b58-b804-7e5c7283fd96",
   "metadata": {},
   "outputs": [
    {
     "name": "stdout",
     "output_type": "stream",
     "text": [
      "{'name': 'vivek', 'surname': 'rastogi', 'address': 'siyana', 'district': 'bulandsharah'}\n",
      "<class 'dict'>\n",
      "4\n"
     ]
    }
   ],
   "source": [
    "my_dict = {\n",
    "    \"name\" : \"vivek\",\n",
    "    \"surname\" : \"rastogi\",\n",
    "    \"address\" : \"siyana\",\n",
    "    \"district\" : \"bulandsharah\"\n",
    "}\n",
    "print(my_dict)\n",
    "print(type(my_dict))\n",
    "print(len(my_dict)) #length ka liya "
   ]
  },
  {
   "cell_type": "markdown",
   "id": "1dc45cb5-759a-408d-8122-b721bc7a649c",
   "metadata": {},
   "source": [
    "# Dictionary item are Ordered"
   ]
  },
  {
   "cell_type": "code",
   "execution_count": 17,
   "id": "3ba24cf4-c885-4001-8953-f1b8e2cc6aaf",
   "metadata": {},
   "outputs": [
    {
     "name": "stdout",
     "output_type": "stream",
     "text": [
      "{'name': 'vivek', 'surname': 'rastogi', 'address': 'siyana', 'district': 'bulandsharah'}\n",
      "<class 'dict'>\n",
      "siyana\n"
     ]
    }
   ],
   "source": [
    "my_dict = {\n",
    "    \"name\" : \"vivek\",\n",
    "    \"surname\" : \"rastogi\",\n",
    "    \"address\" : \"siyana\",\n",
    "    \"district\" : \"bulandsharah\"\n",
    "}\n",
    "print(my_dict)\n",
    "print(type(my_dict))\n",
    "print(my_dict[\"address\"])"
   ]
  },
  {
   "cell_type": "markdown",
   "id": "feb8fc68-7a97-49af-ac33-f2c534597299",
   "metadata": {},
   "source": [
    "# Duplicate not allow"
   ]
  },
  {
   "cell_type": "code",
   "execution_count": 27,
   "id": "365c3f46-5101-47e3-b548-4239ba4f7cc4",
   "metadata": {},
   "outputs": [
    {
     "name": "stdout",
     "output_type": "stream",
     "text": [
      "{'name': 'vivek', 'surname': 'kumar', 'address': 'siyana', 'district': 'bulandsharah'}\n",
      "<class 'dict'>\n",
      "4\n"
     ]
    }
   ],
   "source": [
    "my_dict = {\n",
    "    \"name\" : \"vivek\",\n",
    "    \"surname\" : \"rastogi\",\n",
    "    \"address\" : \"siyana\",\n",
    "    \"district\" : \"bulandsharah\",\n",
    "    \"surname\" : \"kumar\" # ya wali value laga rastogi nahi laga kyoki dulplicate allow nahi hai ism jo latest danga wo hi print ho jaye ga\n",
    "}\n",
    "print(my_dict)\n",
    "print(type(my_dict))\n",
    "print(len(my_dict))\n"
   ]
  },
  {
   "cell_type": "markdown",
   "id": "d3d958b6-1a81-49c5-bba6-d0c34e7511c2",
   "metadata": {},
   "source": [
    "# Dictionary items - data types"
   ]
  },
  {
   "cell_type": "markdown",
   "id": "9f35cdca-4bea-4108-9042-7a78ae5dc17c",
   "metadata": {},
   "source": [
    "the value in the dictionary items can be of any type"
   ]
  },
  {
   "cell_type": "code",
   "execution_count": 35,
   "id": "3347e7a1-be57-4471-978e-a6e1a375b5ad",
   "metadata": {},
   "outputs": [
    {
     "name": "stdout",
     "output_type": "stream",
     "text": [
      "{'name': 'vivek', 'surname': 'rastogi', 'adress': 'siyana', 'a': (1, 2, 3, 4, 56.6, 'sharma'), 'b': [11, 22, 34, 54, 67, 'tushar'], 'c': True}\n",
      "6\n",
      "<class 'dict'>\n"
     ]
    }
   ],
   "source": [
    "my_dict ={\n",
    "    \"name\" : \"vivek\",\n",
    "    \"surname\" : \"rastogi\",\n",
    "    \"adress\" : \"siyana\",\n",
    "    \"a\" : (1,2,3,4,56.6 ,\"sharma\"),\n",
    "\"b\" : [11,22,34,54,67,\"tushar\"],\n",
    "\"c\" : True\n",
    "}\n",
    "print(my_dict)\n",
    "print(len(my_dict))\n",
    "print(type(my_dict))"
   ]
  },
  {
   "cell_type": "markdown",
   "id": "89c741cb-6ea9-493e-b069-7831e5f46eef",
   "metadata": {},
   "source": [
    "the dict() constructor"
   ]
  },
  {
   "cell_type": "code",
   "execution_count": 44,
   "id": "50921136-4a12-45b3-b827-4164c1a16fde",
   "metadata": {},
   "outputs": [
    {
     "name": "stdout",
     "output_type": "stream",
     "text": [
      "{'number': (12, 45, 65), 'name': 'vivek', 'boolen': True}\n"
     ]
    }
   ],
   "source": [
    "my_dict = dict(number = (12,45,65),name = \"vivek\",boolen = True)\n",
    "print(my_dict)"
   ]
  },
  {
   "cell_type": "markdown",
   "id": "81379bf0-7617-453c-b6d2-daa07c5954ca",
   "metadata": {},
   "source": [
    "# Accesing value"
   ]
  },
  {
   "cell_type": "code",
   "execution_count": 50,
   "id": "2bf385bf-428a-4f17-90c2-5a633ee3de20",
   "metadata": {},
   "outputs": [
    {
     "name": "stdout",
     "output_type": "stream",
     "text": [
      "(12, 45, 65)\n"
     ]
    }
   ],
   "source": [
    "my_dict = dict(number = (12,45,65),name = \"vivek\",boolen = True)\n",
    "print(my_dict[\"number\"])"
   ]
  },
  {
   "cell_type": "code",
   "execution_count": 52,
   "id": "0ccab591-f50a-4d68-8d2d-df23f78702bd",
   "metadata": {},
   "outputs": [
    {
     "name": "stdout",
     "output_type": "stream",
     "text": [
      "vivek\n"
     ]
    }
   ],
   "source": [
    "my_dict = dict(number = (12,45,65),name = \"vivek\",boolen = True)\n",
    "print(my_dict[\"name\"])"
   ]
  },
  {
   "cell_type": "code",
   "execution_count": 74,
   "id": "1f82306f-8d3f-4fa4-bf41-9bdb6f51bd9b",
   "metadata": {},
   "outputs": [
    {
     "name": "stdout",
     "output_type": "stream",
     "text": [
      "True\n"
     ]
    }
   ],
   "source": [
    "my_dict = dict(number = (12,45,65),name = \"vivek\",boolen = True)\n",
    "print(my_dict.get(\"boolen\"))"
   ]
  },
  {
   "cell_type": "markdown",
   "id": "035d0bfd-3d0b-4fc8-956a-77abd10a58f1",
   "metadata": {},
   "source": [
    "# Get key"
   ]
  },
  {
   "cell_type": "code",
   "execution_count": 57,
   "id": "a6d356fc-b7b0-40ce-9d7e-cc8dd47c5479",
   "metadata": {},
   "outputs": [
    {
     "name": "stdout",
     "output_type": "stream",
     "text": [
      "dict_keys(['number', 'name', 'boolen'])\n"
     ]
    }
   ],
   "source": [
    "my_dict = dict(number = (12,45,65),name = \"vivek\",boolen = True)\n",
    "x = my_dict.keys()\n",
    "print(x)"
   ]
  },
  {
   "cell_type": "markdown",
   "id": "413e91e1-8470-4c7b-b6b9-6a1b3cd465aa",
   "metadata": {},
   "source": [
    "# get values"
   ]
  },
  {
   "cell_type": "code",
   "execution_count": 60,
   "id": "19f70fb5-943d-49dd-8edc-b6f5e3c3f2c7",
   "metadata": {},
   "outputs": [
    {
     "data": {
      "text/plain": [
       "dict_values([(12, 45, 65), 'vivek', True])"
      ]
     },
     "execution_count": 60,
     "metadata": {},
     "output_type": "execute_result"
    }
   ],
   "source": [
    "my_dict = dict(number = (12,45,65),name = \"vivek\",boolen = True)\n",
    "x = my_dict.values()\n",
    "x"
   ]
  },
  {
   "cell_type": "markdown",
   "id": "7fb26f11-a50b-4a2d-acda-2ddbc2a60407",
   "metadata": {},
   "source": [
    "# Change vlues"
   ]
  },
  {
   "cell_type": "code",
   "execution_count": 69,
   "id": "b07fe114-0a3c-4eba-a601-80b887da272f",
   "metadata": {},
   "outputs": [
    {
     "name": "stdout",
     "output_type": "stream",
     "text": [
      "{'name': 'shristha', 'surname': 'rastogi', 'address': 'siyana', 'district': 'bulandsharah'}\n",
      "<class 'dict'>\n"
     ]
    }
   ],
   "source": [
    "my_dict = {\n",
    "    \"name\" : \"vivek\",\n",
    "    \"surname\" : \"rastogi\",\n",
    "    \"address\" : \"siyana\",\n",
    "    \"district\" : \"bulandsharah\"\n",
    "}\n",
    "my_dict[\"name\"] = \"shristha\"\n",
    "print(my_dict)\n",
    "print(type(my_dict))"
   ]
  },
  {
   "cell_type": "markdown",
   "id": "f21041b2-e00e-4fcd-96b0-2c4575ce4ee6",
   "metadata": {},
   "source": [
    "# Adding item"
   ]
  },
  {
   "cell_type": "code",
   "execution_count": 72,
   "id": "eef17eed-765e-41f7-b1ae-54406d93d836",
   "metadata": {},
   "outputs": [
    {
     "name": "stdout",
     "output_type": "stream",
     "text": [
      "{'name': 'vivek', 'surname': 'rastogi', 'address': 'siyana', 'district': 'bulandsharah', 'fname': 'manoj'}\n",
      "<class 'dict'>\n"
     ]
    }
   ],
   "source": [
    "my_dict = {\n",
    "    \"name\" : \"vivek\",\n",
    "    \"surname\" : \"rastogi\",\n",
    "    \"address\" : \"siyana\",\n",
    "    \"district\" : \"bulandsharah\"\n",
    "}\n",
    "my_dict[\"fname\"] = \"manoj\"\n",
    "print(my_dict)\n",
    "print(type(my_dict))"
   ]
  },
  {
   "cell_type": "markdown",
   "id": "aed4afed-f28c-4a9e-8bdb-6034f8602e27",
   "metadata": {},
   "source": [
    "# update method()"
   ]
  },
  {
   "cell_type": "code",
   "execution_count": 76,
   "id": "0ef9c382-24e1-4ad6-9d4d-22e4aa5f13a1",
   "metadata": {},
   "outputs": [
    {
     "name": "stdout",
     "output_type": "stream",
     "text": [
      "{'name': 'vivek', 'surname': 'rastogi', 'address': 'siyana', 'district': 'bulandsharah', 'gender': 'male'}\n",
      "<class 'dict'>\n"
     ]
    }
   ],
   "source": [
    "my_dict = {\n",
    "    \"name\" : \"vivek\",\n",
    "    \"surname\" : \"rastogi\",\n",
    "    \"address\" : \"siyana\",\n",
    "    \"district\" : \"bulandsharah\"\n",
    "}\n",
    "my_dict.update({\"gender\" : \"male\"})\n",
    "print(my_dict)\n",
    "print(type(my_dict))"
   ]
  },
  {
   "cell_type": "markdown",
   "id": "2727054b-62b4-49f8-ba8a-55cac1c0000d",
   "metadata": {},
   "source": [
    "# remove item"
   ]
  },
  {
   "cell_type": "markdown",
   "id": "e4d7bf29-688d-4924-9ac8-7008513db264",
   "metadata": {},
   "source": [
    "the pop() method removes the item with the specified key value"
   ]
  },
  {
   "cell_type": "code",
   "execution_count": 102,
   "id": "86a941dc-221a-438d-902b-24ec79632afd",
   "metadata": {},
   "outputs": [
    {
     "name": "stdout",
     "output_type": "stream",
     "text": [
      "{'name': 'vivek', 'surname': 'rastogi', 'district': 'bulandsharah', '32': 'python'}\n",
      "<class 'dict'>\n"
     ]
    }
   ],
   "source": [
    "my_dict = {\n",
    "    \"name\" : \"vivek\",\n",
    "    \"surname\" : \"rastogi\",\n",
    "    \"address\" : \"siyana\",\n",
    "    \"district\" : \"bulandsharah\",\n",
    "    \"32\" : \"python\"\n",
    "}\n",
    "my_dict.pop(\"address\")\n",
    "print(my_dict)\n",
    "print(type(my_dict))"
   ]
  },
  {
   "cell_type": "markdown",
   "id": "e650f21d-cf85-4788-8bb3-39559b6a3b29",
   "metadata": {},
   "source": [
    "the del keyword removes the item with the spacified key name:"
   ]
  },
  {
   "cell_type": "code",
   "execution_count": 90,
   "id": "f303bbb4-4294-4d8f-bd9c-b12d8f6fa44b",
   "metadata": {},
   "outputs": [
    {
     "name": "stdout",
     "output_type": "stream",
     "text": [
      "{'surname': 'rastogi', 'address': 'siyana', 'district': 'bulandshar'}\n",
      "<class 'dict'>\n"
     ]
    }
   ],
   "source": [
    "my_dict = {\n",
    "    \"name\" : \"vivek\",\n",
    "    \"surname\" : \"rastogi\",\n",
    "    \"address\" : \"siyana\",\n",
    "    \"district\" : \"bulandshar\"\n",
    "}\n",
    "del my_dict[\"name\"]\n",
    "print(my_dict)\n",
    "print(type(my_dict))"
   ]
  },
  {
   "cell_type": "code",
   "execution_count": 94,
   "id": "ebfed86e-e5fc-4e18-b088-f495fd917154",
   "metadata": {},
   "outputs": [
    {
     "ename": "NameError",
     "evalue": "name 'my_dict' is not defined",
     "output_type": "error",
     "traceback": [
      "\u001b[1;31m---------------------------------------------------------------------------\u001b[0m",
      "\u001b[1;31mNameError\u001b[0m                                 Traceback (most recent call last)",
      "Cell \u001b[1;32mIn[94], line 8\u001b[0m\n\u001b[0;32m      1\u001b[0m my_dict \u001b[38;5;241m=\u001b[39m {\n\u001b[0;32m      2\u001b[0m     \u001b[38;5;124m\"\u001b[39m\u001b[38;5;124mname\u001b[39m\u001b[38;5;124m\"\u001b[39m : \u001b[38;5;124m\"\u001b[39m\u001b[38;5;124mvivek\u001b[39m\u001b[38;5;124m\"\u001b[39m,\n\u001b[0;32m      3\u001b[0m     \u001b[38;5;124m\"\u001b[39m\u001b[38;5;124msurname\u001b[39m\u001b[38;5;124m\"\u001b[39m : \u001b[38;5;124m\"\u001b[39m\u001b[38;5;124mrastogi\u001b[39m\u001b[38;5;124m\"\u001b[39m,\n\u001b[0;32m      4\u001b[0m     \u001b[38;5;124m\"\u001b[39m\u001b[38;5;124maddress\u001b[39m\u001b[38;5;124m\"\u001b[39m : \u001b[38;5;124m\"\u001b[39m\u001b[38;5;124msiyana\u001b[39m\u001b[38;5;124m\"\u001b[39m,\n\u001b[0;32m      5\u001b[0m     \u001b[38;5;124m\"\u001b[39m\u001b[38;5;124mdistrict\u001b[39m\u001b[38;5;124m\"\u001b[39m : \u001b[38;5;124m\"\u001b[39m\u001b[38;5;124mbulandshar\u001b[39m\u001b[38;5;124m\"\u001b[39m\n\u001b[0;32m      6\u001b[0m }\n\u001b[0;32m      7\u001b[0m \u001b[38;5;28;01mdel\u001b[39;00m my_dict\n\u001b[1;32m----> 8\u001b[0m \u001b[38;5;28mprint\u001b[39m(my_dict)\n\u001b[0;32m      9\u001b[0m \u001b[38;5;28mprint\u001b[39m(\u001b[38;5;28mtype\u001b[39m(my_dict))\n",
      "\u001b[1;31mNameError\u001b[0m: name 'my_dict' is not defined"
     ]
    }
   ],
   "source": [
    "my_dict = {\n",
    "    \"name\" : \"vivek\",\n",
    "    \"surname\" : \"rastogi\",\n",
    "    \"address\" : \"siyana\",\n",
    "    \"district\" : \"bulandshar\"\n",
    "}\n",
    "del my_dict\n",
    "print(my_dict)\n",
    "print(type(my_dict)) # ya error is liya dikha rha hai kyoki isna puri dictionary ko delete kar diya hai"
   ]
  },
  {
   "cell_type": "markdown",
   "id": "69b821f3-2c54-434b-956c-f934d0399ad9",
   "metadata": {},
   "source": [
    "# the clear() method emptis the dictonary"
   ]
  },
  {
   "cell_type": "code",
   "execution_count": 100,
   "id": "822505b1-baec-470c-b16b-71742bb22ee9",
   "metadata": {},
   "outputs": [
    {
     "name": "stdout",
     "output_type": "stream",
     "text": [
      "{}\n",
      "<class 'dict'>\n"
     ]
    }
   ],
   "source": [
    "my_dict = {\n",
    "    \"name\" : \"vivek\",\n",
    "    \"surname\" : \"rastogi\",\n",
    "    \"address\" : \"siyana\",\n",
    "    \"district\" : \"bulandshar\",\n",
    "    \"32\" : \"python\"\n",
    "}\n",
    "my_dict.clear()\n",
    "print(my_dict)\n",
    "print(type(my_dict))"
   ]
  },
  {
   "cell_type": "markdown",
   "id": "45bc5048-b6db-4b49-8ffa-7b17b799fe34",
   "metadata": {},
   "source": [
    "# write a python script to concatenate the following dictionary to create a new one"
   ]
  },
  {
   "cell_type": "code",
   "execution_count": 106,
   "id": "b96f05bc-4143-4aca-b1cc-22816627eea6",
   "metadata": {},
   "outputs": [
    {
     "name": "stdout",
     "output_type": "stream",
     "text": [
      "{1: 10, 2: 20, 3: 30, 4: 40, 5: 50, 6: 60}\n"
     ]
    }
   ],
   "source": [
    "dict1 = {1:10 , 2:20}\n",
    "dict2 = {3:30 , 4:40}\n",
    "dict3 = {5:50 , 6:60}\n",
    "dict4 = {}\n",
    "for d in (dict1 , dict2, dict3): dict4.update(d)\n",
    "print(dict4)"
   ]
  },
  {
   "cell_type": "markdown",
   "id": "1d7310ea-6057-44ad-816e-244689828412",
   "metadata": {},
   "source": [
    "# write a python program to print a dictionary in table formate"
   ]
  },
  {
   "cell_type": "code",
   "execution_count": 109,
   "id": "6c9aab3c-79ae-4ca1-a170-88c919c94411",
   "metadata": {},
   "outputs": [
    {
     "name": "stdout",
     "output_type": "stream",
     "text": [
      "c1 c2 c3\n",
      "12 13 54\n",
      "32 87 45\n",
      "43 78 76\n",
      "435 67 67\n"
     ]
    }
   ],
   "source": [
    "my_dict = {'c1':[12,32,43,435],'c2':[13,87,78,67],'c3':[54,45,76,67]}\n",
    "for row in zip(*([key]+(value) for key, value in sorted(my_dict.items()))):\n",
    "    print(*row)"
   ]
  },
  {
   "cell_type": "markdown",
   "id": "26e0f9bf-5266-422b-a0de-60cf86205652",
   "metadata": {},
   "source": [
    "# print a dict where the key are numbers between 1 and 15 and the value are square of keys"
   ]
  },
  {
   "cell_type": "code",
   "execution_count": 121,
   "id": "5c24fbd2-e1a6-46da-b3b6-ae53f2044a74",
   "metadata": {},
   "outputs": [
    {
     "ename": "TypeError",
     "evalue": "'dict' object is not callable",
     "output_type": "error",
     "traceback": [
      "\u001b[1;31m---------------------------------------------------------------------------\u001b[0m",
      "\u001b[1;31mTypeError\u001b[0m                                 Traceback (most recent call last)",
      "Cell \u001b[1;32mIn[121], line 1\u001b[0m\n\u001b[1;32m----> 1\u001b[0m my_dict()\n\u001b[0;32m      2\u001b[0m \u001b[38;5;28;01mfor\u001b[39;00m x \u001b[38;5;129;01min\u001b[39;00m \u001b[38;5;28mrange\u001b[39m(\u001b[38;5;241m1\u001b[39m,\u001b[38;5;241m16\u001b[39m):\n\u001b[0;32m      3\u001b[0m     my_dict[x] \u001b[38;5;241m=\u001b[39m X\u001b[38;5;241m*\u001b[39m\u001b[38;5;241m*\u001b[39m\u001b[38;5;241m2\u001b[39m\n",
      "\u001b[1;31mTypeError\u001b[0m: 'dict' object is not callable"
     ]
    }
   ],
   "source": [
    "my_dict()\n",
    "for x in range(1,16):\n",
    "    my_dict[x] = X**2\n",
    "print(my_dict)"
   ]
  },
  {
   "cell_type": "markdown",
   "id": "d995b390-c670-4c81-b239-212497f13cfa",
   "metadata": {},
   "source": [
    "# check whether a given key already exist in a dict"
   ]
  },
  {
   "cell_type": "code",
   "execution_count": 124,
   "id": "43d42975-df8e-4803-8eae-56f2f84405c1",
   "metadata": {},
   "outputs": [
    {
     "name": "stdout",
     "output_type": "stream",
     "text": [
      "key is present in the dict\n",
      "key is present in the dict\n"
     ]
    }
   ],
   "source": [
    "my_dict = {1:10, 2:20, 3:30, 4:40, 5:50}\n",
    "def is_key_present(x):\n",
    "    if x in my_dict:\n",
    "        print(\"key is present in the dict\")\n",
    "    else:\n",
    "        print(\"key is nat present in the dict\")\n",
    "is_key_present(5)\n",
    "is_key_present(2)\n",
    "        "
   ]
  },
  {
   "cell_type": "code",
   "execution_count": null,
   "id": "f6d740a4-913c-48d3-9129-2731ed771fbb",
   "metadata": {},
   "outputs": [],
   "source": []
  }
 ],
 "metadata": {
  "kernelspec": {
   "display_name": "Python 3 (ipykernel)",
   "language": "python",
   "name": "python3"
  },
  "language_info": {
   "codemirror_mode": {
    "name": "ipython",
    "version": 3
   },
   "file_extension": ".py",
   "mimetype": "text/x-python",
   "name": "python",
   "nbconvert_exporter": "python",
   "pygments_lexer": "ipython3",
   "version": "3.12.7"
  }
 },
 "nbformat": 4,
 "nbformat_minor": 5
}
