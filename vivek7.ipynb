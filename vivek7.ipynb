{
 "cells": [
  {
   "cell_type": "markdown",
   "id": "7300532b-978f-4948-a382-b4725bf44846",
   "metadata": {},
   "source": [
    "# Day 7"
   ]
  },
  {
   "cell_type": "markdown",
   "id": "5b846bc4-0faf-4c4b-9f25-25847788db7d",
   "metadata": {},
   "source": [
    "# string in python"
   ]
  },
  {
   "cell_type": "markdown",
   "id": "4894c970-a168-4ac3-8002-3337a619fbb2",
   "metadata": {},
   "source": [
    "# Creating string in python"
   ]
  },
  {
   "cell_type": "code",
   "execution_count": 5,
   "id": "6ca9cd6c-03cb-4141-9606-909d661fa767",
   "metadata": {},
   "outputs": [
    {
     "name": "stdout",
     "output_type": "stream",
     "text": [
      "hello vivek\n"
     ]
    }
   ],
   "source": [
    "a = \"hello vivek\"\n",
    "print(a)"
   ]
  },
  {
   "cell_type": "code",
   "execution_count": 9,
   "id": "ae2aa967-e450-4b18-b81c-ae1ddc7da1af",
   "metadata": {},
   "outputs": [
    {
     "name": "stdout",
     "output_type": "stream",
     "text": [
      "We atr learning python this is our 7th day in python class\n",
      "<class 'str'>\n"
     ]
    }
   ],
   "source": [
    "b = \"We atr learning python this is our 7th day in python class\"\n",
    "print(b)\n",
    "print(type(b))"
   ]
  },
  {
   "cell_type": "markdown",
   "id": "280b871c-4735-47a9-b0df-d9a00c057cd3",
   "metadata": {},
   "source": [
    "# Multiline string"
   ]
  },
  {
   "cell_type": "code",
   "execution_count": 16,
   "id": "8c92a743-9575-458c-9d90-1de8e0972090",
   "metadata": {},
   "outputs": [
    {
     "name": "stdout",
     "output_type": "stream",
     "text": [
      "No matter what your specific interests are in the data analytics world, you'll probably need a bachelor's degree to get started in the field. While many people begin a data analytics career with a degree in mathematics, statistics or economics, data analytics degrees are becoming more common and can help set you apart in this field, according to McKenzie.\n"
     ]
    }
   ],
   "source": [
    "b = \"No matter what your specific interests are in the data analytics world, you'll probably need a bachelor's degree to get started in the field. While many people begin a data analytics career with a degree in mathematics, statistics or economics, data analytics degrees are becoming more common and can help set you apart in this field, according to McKenzie.\"\n",
    "print(b) # ab hum is code mai dhak raha hai ak line mai hi hai pura pura fur dusri line ma ara hai agar hum isa line by lile likhna chaya tho [ TRIPLE QUOTES] mai likhta hai jasa nest code mai lukha hia"
   ]
  },
  {
   "cell_type": "code",
   "execution_count": 23,
   "id": "f9daedf1-2060-4ddb-8cd4-4c856ea2e83b",
   "metadata": {},
   "outputs": [
    {
     "name": "stdout",
     "output_type": "stream",
     "text": [
      "No matter what your specific interests are in the data analytics world,\n",
      "you'll probably need a bachelor's degree to get started in the field. \n",
      "While many people begin a data analytics career with a degree in mathematics, \n",
      "statistics or economics, data analytics degrees are becoming more common \n",
      "and can help set you apart in this field, according to McKenzie.\n",
      "<class 'str'>\n"
     ]
    }
   ],
   "source": [
    "b = \"\"\"No matter what your specific interests are in the data analytics world,\n",
    "you'll probably need a bachelor's degree to get started in the field. \n",
    "While many people begin a data analytics career with a degree in mathematics, \n",
    "statistics or economics, data analytics degrees are becoming more common \n",
    "and can help set you apart in this field, according to McKenzie.\"\"\"\n",
    "print(b) # dhakha asa kar sakta hai alag alag line ka liya\n",
    "print(type(b))"
   ]
  },
  {
   "cell_type": "markdown",
   "id": "42ca9eac-94f6-43bc-9529-2df3b3ebc3bc",
   "metadata": {},
   "source": [
    "# INDEXING IN PYTHON"
   ]
  },
  {
   "cell_type": "code",
   "execution_count": 39,
   "id": "46e05cc4-189a-4327-a433-805b4933f1f5",
   "metadata": {},
   "outputs": [
    {
     "name": "stdout",
     "output_type": "stream",
     "text": [
      "v\n"
     ]
    }
   ],
   "source": [
    "a = \" hello vivek\" # beech mai jo space hai wo bhi indexing mai gina jata hai\n",
    "print(a[7])"
   ]
  },
  {
   "cell_type": "code",
   "execution_count": 47,
   "id": "eaa4a21b-0fe8-4e3e-ad53-6ba8d2d7de14",
   "metadata": {},
   "outputs": [
    {
     "name": "stdout",
     "output_type": "stream",
     "text": [
      "w\n"
     ]
    }
   ],
   "source": [
    "s = \"How's your study going on\"\n",
    "print(s[2])"
   ]
  },
  {
   "cell_type": "code",
   "execution_count": 49,
   "id": "21748980-e4e0-45ea-abc6-1598e1e65eb9",
   "metadata": {},
   "outputs": [
    {
     "name": "stdout",
     "output_type": "stream",
     "text": [
      "o\n"
     ]
    }
   ],
   "source": [
    "c = \"hello vivek\"\n",
    "print(c[-7])"
   ]
  },
  {
   "cell_type": "markdown",
   "id": "5553cc08-ba99-4ea1-a672-20cf1596da16",
   "metadata": {},
   "source": [
    "# Slicing of string"
   ]
  },
  {
   "cell_type": "code",
   "execution_count": 54,
   "id": "c4047f00-4e30-490e-b085-b7ae7e2cd4cf",
   "metadata": {},
   "outputs": [
    {
     "name": "stdout",
     "output_type": "stream",
     "text": [
      "hello st\n"
     ]
    }
   ],
   "source": [
    "d = \"hello students how are you\"\n",
    "print(d[0:8])"
   ]
  },
  {
   "cell_type": "code",
   "execution_count": 72,
   "id": "dc75f858-dff9-4063-82a2-daff2542af7d",
   "metadata": {},
   "outputs": [
    {
     "name": "stdout",
     "output_type": "stream",
     "text": [
      "ello students ho\n"
     ]
    }
   ],
   "source": [
    "a = \"hello students how are you\"\n",
    "print(a[1:-9])"
   ]
  },
  {
   "cell_type": "code",
   "execution_count": 74,
   "id": "89bd4063-8103-4bd8-b5eb-edf9366b9fe6",
   "metadata": {},
   "outputs": [
    {
     "name": "stdout",
     "output_type": "stream",
     "text": [
      "hlosuethea\n"
     ]
    }
   ],
   "source": [
    "s = \"hello student hoe are you\"\n",
    "print(s[0:20:2]) # isma 2 -2 ka gap a rha hai bssch bssch mai mens 0 sai 20 ka 2 - 2 alpabet ko chor kar print kar rha hai"
   ]
  },
  {
   "cell_type": "code",
   "execution_count": 76,
   "id": "227f1fa4-ac48-457e-b043-dcfeab5656c8",
   "metadata": {},
   "outputs": [
    {
     "name": "stdout",
     "output_type": "stream",
     "text": [
      "hwsyu ls on n\n"
     ]
    }
   ],
   "source": [
    "s = \"how's your class going on\"\n",
    "print(s[::2])"
   ]
  },
  {
   "cell_type": "markdown",
   "id": "c5e48563-7d47-4654-8061-08f39b0dabbd",
   "metadata": {},
   "source": [
    "# Reverse an string"
   ]
  },
  {
   "cell_type": "code",
   "execution_count": 83,
   "id": "ecefdb73-3f69-4135-96ff-6b7d51ae9a99",
   "metadata": {},
   "outputs": [
    {
     "name": "stdout",
     "output_type": "stream",
     "text": [
      "? eman ruoy stahw\n"
     ]
    }
   ],
   "source": [
    "a = \"whats your name ?\"\n",
    "print(a[::-1])"
   ]
  },
  {
   "cell_type": "code",
   "execution_count": 85,
   "id": "2d4133ed-6df1-4118-8847-02dc3656a2fa",
   "metadata": {},
   "outputs": [
    {
     "name": "stdout",
     "output_type": "stream",
     "text": [
      "43\n"
     ]
    }
   ],
   "source": [
    "# finding the length of string\n",
    "a = \" my name is vivek rastogi. i am from siyana\"\n",
    "print(len(a))"
   ]
  },
  {
   "cell_type": "markdown",
   "id": "1b2b6785-cfce-48fc-a3f6-052646f692f2",
   "metadata": {},
   "source": [
    "# check string"
   ]
  },
  {
   "cell_type": "code",
   "execution_count": 104,
   "id": "ecde8788-bf7c-49a0-b68b-9296c3ea1b95",
   "metadata": {},
   "outputs": [
    {
     "name": "stdout",
     "output_type": "stream",
     "text": [
      "True\n"
     ]
    }
   ],
   "source": [
    "a = \"New Delhi is the capital of india\"\n",
    "print(\"capital\" in a)"
   ]
  },
  {
   "cell_type": "code",
   "execution_count": 106,
   "id": "8a9aa86f-40ca-4830-b863-9e6545370bb9",
   "metadata": {},
   "outputs": [
    {
     "name": "stdout",
     "output_type": "stream",
     "text": [
      "False\n"
     ]
    }
   ],
   "source": [
    "a = \"new delhi is the capital of india\"\n",
    "print(\"country\" in a)"
   ]
  },
  {
   "cell_type": "code",
   "execution_count": 108,
   "id": "a59f43f3-4e68-4f21-8934-8c4d57741dde",
   "metadata": {},
   "outputs": [
    {
     "name": "stdout",
     "output_type": "stream",
     "text": [
      "yes , capital is present\n"
     ]
    }
   ],
   "source": [
    "a = \"new delhi is the capital pof india\"\n",
    "if \"capital\" in a:\n",
    "    print(\"yes , capital is present\")"
   ]
  },
  {
   "cell_type": "markdown",
   "id": "4505fd7e-b8a6-48d8-9339-c5d1d735531d",
   "metadata": {},
   "source": [
    "# check if not"
   ]
  },
  {
   "cell_type": "code",
   "execution_count": 111,
   "id": "add66aa7-e877-4b84-85cc-35ea7295c2ea",
   "metadata": {},
   "outputs": [
    {
     "name": "stdout",
     "output_type": "stream",
     "text": [
      "True\n"
     ]
    }
   ],
   "source": [
    "a = \"new delhi is the capital of india\"\n",
    "print(\"bombay\" not in a)"
   ]
  },
  {
   "cell_type": "code",
   "execution_count": 113,
   "id": "2eab6e79-b5aa-43c2-957c-15b309919b4d",
   "metadata": {},
   "outputs": [
    {
     "name": "stdout",
     "output_type": "stream",
     "text": [
      "False\n"
     ]
    }
   ],
   "source": [
    "a = \"new delhi is the capital of india\"\n",
    "print(\"delhi\" not in a)"
   ]
  },
  {
   "cell_type": "markdown",
   "id": "5a406b04-1874-4fee-ba28-dccc086e9042",
   "metadata": {},
   "source": [
    "# Python modifying string"
   ]
  },
  {
   "cell_type": "markdown",
   "id": "8eebba7e-89bb-4410-9f95-09a15ef7f681",
   "metadata": {},
   "source": [
    "# UPPER METHOD"
   ]
  },
  {
   "cell_type": "markdown",
   "id": "aebf8bd4-531d-410f-837f-c08297f2d105",
   "metadata": {},
   "source": [
    "The upper() method return the string in upeer case"
   ]
  },
  {
   "cell_type": "code",
   "execution_count": 118,
   "id": "32c44ab9-c462-4cc0-92bd-da9b84be65ab",
   "metadata": {},
   "outputs": [
    {
     "name": "stdout",
     "output_type": "stream",
     "text": [
      "WHAT ARE YOU DOWING VIVEK\n"
     ]
    }
   ],
   "source": [
    "a = \"what are you dowing vivek\"\n",
    "print(a.upper())"
   ]
  },
  {
   "cell_type": "markdown",
   "id": "e04bc359-22ed-40f1-bbfd-8736fbb780d6",
   "metadata": {},
   "source": [
    "# LOWER MWTHOD"
   ]
  },
  {
   "cell_type": "markdown",
   "id": "f70ed997-aa83-416a-bd83-946c957ee7fb",
   "metadata": {},
   "source": [
    "The lower() method return the string in lower case"
   ]
  },
  {
   "cell_type": "code",
   "execution_count": 122,
   "id": "b2ff39ae-a738-4e9d-95ea-ee2e74ce8a32",
   "metadata": {},
   "outputs": [
    {
     "name": "stdout",
     "output_type": "stream",
     "text": [
      "hello viviek where are you from\n"
     ]
    }
   ],
   "source": [
    "a = \"HELLO VIVIEK WHERE ARE YOU FROM\"\n",
    "print(a.lower())"
   ]
  },
  {
   "cell_type": "code",
   "execution_count": 124,
   "id": "7048700b-c1ef-42de-8488-8486b1f6cbfb",
   "metadata": {},
   "outputs": [
    {
     "name": "stdout",
     "output_type": "stream",
     "text": [
      "hello vivek rastogi\n"
     ]
    }
   ],
   "source": [
    "a = \"HeLLo VIVek rAStoGI\"\n",
    "print(a.lower())"
   ]
  },
  {
   "cell_type": "markdown",
   "id": "f8cd35ab-2c53-481a-984b-d460335957d4",
   "metadata": {},
   "source": [
    "# REPLACE STRING"
   ]
  },
  {
   "cell_type": "markdown",
   "id": "8e258499-c2f5-4560-9522-368be17a9e39",
   "metadata": {},
   "source": [
    "The replace() method replace thr string with another string."
   ]
  },
  {
   "cell_type": "code",
   "execution_count": 130,
   "id": "bf932bff-eee4-4e0d-8554-9e4f1c708270",
   "metadata": {},
   "outputs": [
    {
     "name": "stdout",
     "output_type": "stream",
     "text": [
      "how are you\n"
     ]
    }
   ],
   "source": [
    "a = \"how is you\"\n",
    "print(a.replace(\"is\" , \"are\"))"
   ]
  },
  {
   "cell_type": "code",
   "execution_count": 132,
   "id": "313d5ef2-2a94-4b50-bf0e-0686ba502941",
   "metadata": {},
   "outputs": [
    {
     "name": "stdout",
     "output_type": "stream",
     "text": [
      "hello vivek rastori\n"
     ]
    }
   ],
   "source": [
    "a = \"hello vivek gastogi\"\n",
    "print(a.replace(\"g\" , \"r\"))"
   ]
  },
  {
   "cell_type": "code",
   "execution_count": 136,
   "id": "dcc26c6c-292a-4ef0-bb64-9b67ec1394cf",
   "metadata": {},
   "outputs": [
    {
     "name": "stdout",
     "output_type": "stream",
     "text": [
      "python programming is super easy\n"
     ]
    }
   ],
   "source": [
    "b = \"python programming is amazing\"\n",
    "print(b.replace(\"amazing\" , \"super easy\"))"
   ]
  },
  {
   "cell_type": "markdown",
   "id": "6179b6bb-546b-49ce-a555-c88764e035ee",
   "metadata": {},
   "source": [
    "# STRING CONCATINATION"
   ]
  },
  {
   "cell_type": "code",
   "execution_count": 141,
   "id": "7cfbf0f9-98f1-4c13-835e-833014684a44",
   "metadata": {},
   "outputs": [
    {
     "name": "stdout",
     "output_type": "stream",
     "text": [
      "Vivek Rastogi\n"
     ]
    }
   ],
   "source": [
    "a = \"Vivek\" \n",
    "b = \"Rastogi\"\n",
    "c = a + \" \" + b\n",
    "print(c)"
   ]
  },
  {
   "cell_type": "markdown",
   "id": "0ee4a6b5-21f8-4af1-a601-d803b43e6c4d",
   "metadata": {},
   "source": [
    "# python string index() method"
   ]
  },
  {
   "cell_type": "code",
   "execution_count": 150,
   "id": "456d918e-5ac3-4767-b830-585bdacf7192",
   "metadata": {},
   "outputs": [
    {
     "name": "stdout",
     "output_type": "stream",
     "text": [
      "19\n"
     ]
    }
   ],
   "source": [
    "v = \" my self vivek rastogi\"\n",
    "print(v.index(\"o\")) # isa hum ak thara sa or likh sakta hai nicha wala code mai dhalkho"
   ]
  },
  {
   "cell_type": "code",
   "execution_count": 152,
   "id": "6475d510-da7e-448d-8687-892a36f782b3",
   "metadata": {},
   "outputs": [
    {
     "name": "stdout",
     "output_type": "stream",
     "text": [
      "21\n"
     ]
    }
   ],
   "source": [
    "v = \"my name is vivek rastogi\"\n",
    "x = v.index(\"o\")\n",
    "print(x)"
   ]
  },
  {
   "cell_type": "markdown",
   "id": "ff0f698b-7b7f-4fee-b4f8-da83d730f8cb",
   "metadata": {},
   "source": [
    "write a python program to insert a string between two string, find the length of string"
   ]
  },
  {
   "cell_type": "code",
   "execution_count": 161,
   "id": "9edd9bfa-9fdd-4071-a8e4-395caaca1f46",
   "metadata": {},
   "outputs": [
    {
     "name": "stdout",
     "output_type": "stream",
     "text": [
      "Delhi is the capital of india and this is very beautyful city\n",
      "61\n"
     ]
    }
   ],
   "source": [
    "a = \"Delhi is the capital of india\"\n",
    "b = \"THIS IS VERY BEAUTYFUL CITY\"\n",
    "c = a + \" and \" + b.lower()\n",
    "print(c)\n",
    "print(len(c))"
   ]
  },
  {
   "cell_type": "markdown",
   "id": "700454b7-1ac9-402b-a1a7-f089cb410abb",
   "metadata": {},
   "source": [
    "# FIND method()"
   ]
  },
  {
   "cell_type": "code",
   "execution_count": 168,
   "id": "a52a4c6c-3e86-463a-933e-c7371570d374",
   "metadata": {},
   "outputs": [
    {
     "name": "stdout",
     "output_type": "stream",
     "text": [
      "19\n",
      "11\n"
     ]
    }
   ],
   "source": [
    "a = \"vivek is a good boy\"\n",
    "b = a.find(\"g\")\n",
    "print(len(a))\n",
    "print(b)"
   ]
  },
  {
   "cell_type": "code",
   "execution_count": null,
   "id": "e24a3136-7497-42e8-a837-85563c2f225b",
   "metadata": {},
   "outputs": [],
   "source": []
  }
 ],
 "metadata": {
  "kernelspec": {
   "display_name": "Python 3 (ipykernel)",
   "language": "python",
   "name": "python3"
  },
  "language_info": {
   "codemirror_mode": {
    "name": "ipython",
    "version": 3
   },
   "file_extension": ".py",
   "mimetype": "text/x-python",
   "name": "python",
   "nbconvert_exporter": "python",
   "pygments_lexer": "ipython3",
   "version": "3.12.7"
  },
  "panel-cell-order": [
   "1055649f-db96-42c1-90c1-ab04a67c9373",
   "d4d42127-fbc1-48fe-be06-f1f9851782ba"
  ]
 },
 "nbformat": 4,
 "nbformat_minor": 5
}
